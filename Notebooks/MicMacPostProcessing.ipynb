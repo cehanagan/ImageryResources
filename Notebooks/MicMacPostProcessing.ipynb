{
 "cells": [
  {
   "cell_type": "code",
   "execution_count": 2,
   "metadata": {},
   "outputs": [],
   "source": [
    "from osgeo import gdal\n",
    "import numpy as np\n",
    "import pandas as pd\n",
    "#import pandas as pd\n",
    "import matplotlib.pyplot as plt\n",
    "import sys\n",
    "sys.path.append('../Functions')\n",
    "import TiffTools as tt\n",
    "\n",
    "%load_ext autoreload\n",
    "%autoreload 2"
   ]
  },
  {
   "cell_type": "code",
   "execution_count": 3,
   "metadata": {},
   "outputs": [],
   "source": [
    "folder = '/Users/chanagan/Desktop/micmac/MEC/'\n",
    "prefile = '/Users/chanagan/Desktop/micmac/WV_Aerial_to2023/orthos/mm09AUG04191333.tif'"
   ]
  },
  {
   "cell_type": "code",
   "execution_count": 6,
   "metadata": {},
   "outputs": [
    {
     "name": "stdout",
     "output_type": "stream",
     "text": [
      "Saving /Users/chanagan/Desktop/micmacGarlockWestStampDEMderivatives/hillshade/NSmicmac.tif\n",
      "Saving /Users/chanagan/Desktop/micmacGarlockWestStampDEMderivatives/hillshade/EWmicmac.tif\n",
      "Saving /Users/chanagan/Desktop/micmacGarlockWestStampDEMderivatives/hillshade/Correlmicmac.tif\n"
     ]
    }
   ],
   "source": [
    "tt.micmacPostProcessing(folder='/Users/chanagan/Desktop/micmacGarlockWestStampDEMderivatives/hillshade/',\n",
    "                         prefile='/Users/chanagan/Desktop/micmacGarlockWestStampDEMderivatives/hillshade/2019multihill315_45.tif',\n",
    "                         outprefix='/Users/chanagan/Desktop/micmacGarlockWestStampDEMderivatives/hillshade/')"
   ]
  },
  {
   "cell_type": "code",
   "execution_count": 6,
   "metadata": {},
   "outputs": [],
   "source": [
    "par, perp = tt.projectDisp(folder+'MEC100_50/EWmicmac.tif',folder+'MEC100_50/NSmicmac.tif',315,partif=folder+'MEC100_50/ParallelDisp.tif',perptif=folder+'MEC100_50/PerpendicularDisp.tif')"
   ]
  },
  {
   "cell_type": "markdown",
   "metadata": {},
   "source": []
  },
  {
   "cell_type": "code",
   "execution_count": 5,
   "metadata": {},
   "outputs": [
    {
     "data": {
      "text/plain": [
       "'./ param_LeChantier_Compl.xml written.'"
      ]
     },
     "execution_count": 5,
     "metadata": {},
     "output_type": "execute_result"
    }
   ],
   "source": [
    "tt.createMicmacParamFile('mm09AUG04191333.tif','mm13MAR11192237.tif',results_directory='MEC100_50/',SzW=100,CorrelMin=0.1,SzW_base=50)"
   ]
  },
  {
   "cell_type": "code",
   "execution_count": null,
   "metadata": {},
   "outputs": [],
   "source": []
  }
 ],
 "metadata": {
  "kernelspec": {
   "display_name": "icp",
   "language": "python",
   "name": "python3"
  },
  "language_info": {
   "codemirror_mode": {
    "name": "ipython",
    "version": 3
   },
   "file_extension": ".py",
   "mimetype": "text/x-python",
   "name": "python",
   "nbconvert_exporter": "python",
   "pygments_lexer": "ipython3",
   "version": "3.12.6"
  }
 },
 "nbformat": 4,
 "nbformat_minor": 2
}
