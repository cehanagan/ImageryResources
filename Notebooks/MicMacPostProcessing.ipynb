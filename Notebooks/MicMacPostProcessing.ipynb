{
 "cells": [
  {
   "cell_type": "code",
   "execution_count": 3,
   "metadata": {},
   "outputs": [],
   "source": [
    "from osgeo import gdal\n",
    "import numpy as np\n",
    "import pandas as pd\n",
    "#import pandas as pd\n",
    "import matplotlib.pyplot as plt\n",
    "import sys\n",
    "sys.path.append('../Functions')\n",
    "import TiffTools as tt\n",
    "\n",
    "%load_ext autoreload\n",
    "%autoreload 2"
   ]
  },
  {
   "cell_type": "code",
   "execution_count": 4,
   "metadata": {},
   "outputs": [],
   "source": [
    "folder = '/Users/chanagan/Desktop/micmac/MEC/'\n",
    "prefile = '/Users/chanagan/Desktop/micmac/WV_Aerial_to2023/orthos/mm09AUG04191333.tif'"
   ]
  },
  {
   "cell_type": "code",
   "execution_count": 5,
   "metadata": {},
   "outputs": [
    {
     "name": "stderr",
     "output_type": "stream",
     "text": [
      "/Users/chanagan/miniconda3/envs/icp/lib/python3.12/site-packages/osgeo/gdal.py:312: FutureWarning: Neither gdal.UseExceptions() nor gdal.DontUseExceptions() has been explicitly called. In GDAL 4.0, exceptions will be enabled by default.\n",
      "  warnings.warn(\n"
     ]
    },
    {
     "name": "stdout",
     "output_type": "stream",
     "text": [
      "Saving /Users/chanagan/Desktop/micmac/WV_Aerial_to2023/orthos/MEC100_50/NSmicmac.tif\n",
      "Saving /Users/chanagan/Desktop/micmac/WV_Aerial_to2023/orthos/MEC100_50/EWmicmac.tif\n",
      "Saving /Users/chanagan/Desktop/micmac/WV_Aerial_to2023/orthos/MEC100_50/Correlmicmac.tif\n"
     ]
    }
   ],
   "source": [
    "tt.micmacPostProcessing(folder=folder+'MEC100_50/',\n",
    "                         prefile=prefile,\n",
    "                         outprefix=folder+'MEC100_50/')"
   ]
  },
  {
   "cell_type": "code",
   "execution_count": 6,
   "metadata": {},
   "outputs": [],
   "source": [
    "par, perp = tt.projectDisp(folder+'MEC100_50/EWmicmac.tif',folder+'MEC100_50/NSmicmac.tif',315,partif=folder+'MEC100_50/ParallelDisp.tif',perptif=folder+'MEC100_50/PerpendicularDisp.tif')"
   ]
  },
  {
   "cell_type": "code",
   "execution_count": 5,
   "metadata": {},
   "outputs": [
    {
     "data": {
      "text/plain": [
       "'./ param_LeChantier_Compl.xml written.'"
      ]
     },
     "execution_count": 5,
     "metadata": {},
     "output_type": "execute_result"
    }
   ],
   "source": [
    "tt.createMicmacParamFile('mm09AUG04191333.tif','mm13MAR11192237.tif',results_directory='MEC100_50/',SzW=100,CorrelMin=0.1,SzW_base=50)"
   ]
  },
  {
   "cell_type": "code",
   "execution_count": null,
   "metadata": {},
   "outputs": [],
   "source": []
  }
 ],
 "metadata": {
  "kernelspec": {
   "display_name": "icp",
   "language": "python",
   "name": "python3"
  },
  "language_info": {
   "codemirror_mode": {
    "name": "ipython",
    "version": 3
   },
   "file_extension": ".py",
   "mimetype": "text/x-python",
   "name": "python",
   "nbconvert_exporter": "python",
   "pygments_lexer": "ipython3",
   "version": "3.12.2"
  }
 },
 "nbformat": 4,
 "nbformat_minor": 2
}
