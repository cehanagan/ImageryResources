{
 "cells": [
  {
   "cell_type": "markdown",
   "id": "cb83ef1a",
   "metadata": {},
   "source": [
    "## Google earth engine download\n",
    "\n",
    "generally followed setup here: \n",
    "\n",
    "https://courses.spatialthoughts.com/install-gee-python-api.html"
   ]
  },
  {
   "cell_type": "code",
   "execution_count": 2,
   "id": "8969ac19",
   "metadata": {},
   "outputs": [],
   "source": [
    "import ee\n",
    "import geemap"
   ]
  },
  {
   "cell_type": "code",
   "execution_count": 3,
   "id": "5c6b0010",
   "metadata": {},
   "outputs": [
    {
     "data": {
      "text/html": [
       "\n",
       "            <style>\n",
       "                .geemap-dark {\n",
       "                    --jp-widgets-color: white;\n",
       "                    --jp-widgets-label-color: white;\n",
       "                    --jp-ui-font-color1: white;\n",
       "                    --jp-layout-color2: #454545;\n",
       "                    background-color: #383838;\n",
       "                }\n",
       "\n",
       "                .geemap-dark .jupyter-button {\n",
       "                    --jp-layout-color3: #383838;\n",
       "                }\n",
       "\n",
       "                .geemap-colab {\n",
       "                    background-color: var(--colab-primary-surface-color, white);\n",
       "                }\n",
       "\n",
       "                .geemap-colab .jupyter-button {\n",
       "                    --jp-layout-color3: var(--colab-primary-surface-color, white);\n",
       "                }\n",
       "            </style>\n",
       "            "
      ],
      "text/plain": [
       "<IPython.core.display.HTML object>"
      ]
     },
     "metadata": {},
     "output_type": "display_data"
    },
    {
     "data": {
      "text/html": [
       "<p>To authorize access needed by Earth Engine, open the following\n",
       "        URL in a web browser and follow the instructions:</p>\n",
       "        <p><a href=https://code.earthengine.google.com/client-auth?scopes=https%3A//www.googleapis.com/auth/earthengine%20https%3A//www.googleapis.com/auth/cloud-platform%20https%3A//www.googleapis.com/auth/drive%20https%3A//www.googleapis.com/auth/devstorage.full_control&request_id=ZoBZlZGjrpSgKDtCJ57Wc9nMcrYnVXb1eAh5HHOtxVw&tc=8Dj6udoSDiYjTmo2jFySLopGWeFUYaQdWuxzf9P0v-M&cc=ibOMxcJaHJ7_26-wu0zdD8s-lRHRz_IqvxVowZDAh-A>https://code.earthengine.google.com/client-auth?scopes=https%3A//www.googleapis.com/auth/earthengine%20https%3A//www.googleapis.com/auth/cloud-platform%20https%3A//www.googleapis.com/auth/drive%20https%3A//www.googleapis.com/auth/devstorage.full_control&request_id=ZoBZlZGjrpSgKDtCJ57Wc9nMcrYnVXb1eAh5HHOtxVw&tc=8Dj6udoSDiYjTmo2jFySLopGWeFUYaQdWuxzf9P0v-M&cc=ibOMxcJaHJ7_26-wu0zdD8s-lRHRz_IqvxVowZDAh-A</a></p>\n",
       "        <p>The authorization workflow will generate a code, which you should paste in the box below.</p>\n",
       "        "
      ],
      "text/plain": [
       "<IPython.core.display.HTML object>"
      ]
     },
     "metadata": {},
     "output_type": "display_data"
    },
    {
     "name": "stdout",
     "output_type": "stream",
     "text": [
      "\n",
      "Successfully saved authorization token.\n"
     ]
    }
   ],
   "source": [
    "ee.Authenticate()"
   ]
  },
  {
   "cell_type": "code",
   "execution_count": 4,
   "id": "5e628fa6",
   "metadata": {},
   "outputs": [
    {
     "data": {
      "text/html": [
       "\n",
       "            <style>\n",
       "                .geemap-dark {\n",
       "                    --jp-widgets-color: white;\n",
       "                    --jp-widgets-label-color: white;\n",
       "                    --jp-ui-font-color1: white;\n",
       "                    --jp-layout-color2: #454545;\n",
       "                    background-color: #383838;\n",
       "                }\n",
       "\n",
       "                .geemap-dark .jupyter-button {\n",
       "                    --jp-layout-color3: #383838;\n",
       "                }\n",
       "\n",
       "                .geemap-colab {\n",
       "                    background-color: var(--colab-primary-surface-color, white);\n",
       "                }\n",
       "\n",
       "                .geemap-colab .jupyter-button {\n",
       "                    --jp-layout-color3: var(--colab-primary-surface-color, white);\n",
       "                }\n",
       "            </style>\n",
       "            "
      ],
      "text/plain": [
       "<IPython.core.display.HTML object>"
      ]
     },
     "metadata": {},
     "output_type": "display_data"
    }
   ],
   "source": [
    "ee.Initialize(project='ee-cehanagan')"
   ]
  },
  {
   "cell_type": "markdown",
   "id": "cf361f5e",
   "metadata": {},
   "source": [
    "## Sentinel 2 Band 4"
   ]
  },
  {
   "cell_type": "code",
   "execution_count": 6,
   "id": "2b337ec7",
   "metadata": {},
   "outputs": [
    {
     "data": {
      "text/html": [
       "\n",
       "            <style>\n",
       "                .geemap-dark {\n",
       "                    --jp-widgets-color: white;\n",
       "                    --jp-widgets-label-color: white;\n",
       "                    --jp-ui-font-color1: white;\n",
       "                    --jp-layout-color2: #454545;\n",
       "                    background-color: #383838;\n",
       "                }\n",
       "\n",
       "                .geemap-dark .jupyter-button {\n",
       "                    --jp-layout-color3: #383838;\n",
       "                }\n",
       "\n",
       "                .geemap-colab {\n",
       "                    background-color: var(--colab-primary-surface-color, white);\n",
       "                }\n",
       "\n",
       "                .geemap-colab .jupyter-button {\n",
       "                    --jp-layout-color3: var(--colab-primary-surface-color, white);\n",
       "                }\n",
       "            </style>\n",
       "            "
      ],
      "text/plain": [
       "<IPython.core.display.HTML object>"
      ]
     },
     "metadata": {},
     "output_type": "display_data"
    },
    {
     "name": "stdout",
     "output_type": "stream",
     "text": [
      "Export started. Monitor progress at https://code.earthengine.google.com/tasks\n"
     ]
    }
   ],
   "source": [
    "import ee\n",
    "import geopandas as gpd\n",
    "\n",
    "# Initialize Earth Engine\n",
    "ee.Initialize()\n",
    "\n",
    "# Load GeoJSON polygon (your AOI)\n",
    "gdf = gpd.read_file(\"/Users/chanagan/Library/CloudStorage/OneDrive-DOI/Desktop/EarthquakesSentinel/KamchatkaTest/AOI20250729Kamchatka.geojson\")\n",
    "\n",
    "# Extract coordinates from the first feature (ensure it's a Polygon, not MultiPolygon)\n",
    "polygon_coords = gdf.geometry[0].__geo_interface__['coordinates'][0]\n",
    "polygon = ee.Geometry.Polygon(polygon_coords)\n",
    "\n",
    "# Define time range\n",
    "start_date = '2025-07-19' \n",
    "end_date = '2025-07-21' \n",
    "start_date = '2025-08-03' \n",
    "end_date = '2025-08-05' \n",
    "band = 4\n",
    "\n",
    "# Filter Sentinel-2 collection\n",
    "image = (\n",
    "    ee.ImageCollection('COPERNICUS/S2_HARMONIZED')\n",
    "    .filterBounds(polygon)\n",
    "    .filterDate(start_date, end_date)\n",
    "    .filter(ee.Filter.lt('CLOUDY_PIXEL_PERCENTAGE', 100))\n",
    "    .select(f'B{band}')\n",
    "    .median()\n",
    "    .clip(polygon)\n",
    ")\n",
    "\n",
    "# Export parameters\n",
    "task = ee.batch.Export.image.toDrive(\n",
    "    image=image,\n",
    "    description=f'Sentinel2_B{band}_Export',\n",
    "    folder='EarthEngineExports',  # Appears in your Google Drive\n",
    "    fileNamePrefix=f'sentinel2_band{band}_{start_date}_{end_date}',\n",
    "    region=polygon,\n",
    "    scale=10,  # Sentinel-2 Band 4 native resolution\n",
    "    crs='EPSG:32657',  # Example: UTM Zone 47N (Myanmar region)\n",
    "    maxPixels=1e13\n",
    ")\n",
    "\n",
    "# Start export\n",
    "task.start()\n",
    "print('Export started. Monitor progress at https://code.earthengine.google.com/tasks')\n"
   ]
  },
  {
   "cell_type": "code",
   "execution_count": 8,
   "id": "650211a5",
   "metadata": {},
   "outputs": [
    {
     "name": "stdout",
     "output_type": "stream",
     "text": [
      "Creating output file that is 7094P x 11471L.\n",
      "Processing /Users/chanagan/Library/CloudStorage/OneDrive-DOI/Desktop/EarthquakesSentinel/KamchatkaTest/sentinel2_band4_2025-07-19_2025-07-21.tif [1/1] : 0...10...20...30...40...50...60...70...80...90...100 - done.\n"
     ]
    }
   ],
   "source": [
    "!gdalwarp -tr 10 10 -dstnodata -9999 -of GTiff -t_srs EPSG:32657 -co COMPRESS=LZW -co ZLEVEL=9 -co BIGTIFF=YES -overwrite /Users/chanagan/Library/CloudStorage/OneDrive-DOI/Desktop/EarthquakesSentinel/KamchatkaTest/sentinel2_band4_2025-07-19_2025-07-21.tif /Users/chanagan/Library/CloudStorage/OneDrive-DOI/Desktop/EarthquakesSentinel/KamchatkaTest/mmsentinel2_band4_2025-07-19_2025-07-21.tif"
   ]
  },
  {
   "cell_type": "code",
   "execution_count": null,
   "id": "14358b73",
   "metadata": {},
   "outputs": [],
   "source": [
    "%%bash\n",
    "## Sentinel from GEE, Example of merging the results for Myanmar\n",
    "gdalwarp -t_srs EPSG:32647 -tr 10 10 -srcnodata 0 -dstnodata 0 -overwrite -of GTiff -co COMPRESS=LZW -co ZLEVEL=9 -co BIGTIFF=YES \\\n",
    "    /Volumes/Myanmar\\ 1/Imagery/Sentinel/EarthEngineExportsPost/*tif \\\n",
    "    /Volumes/Myanmar\\ 1/Imagery/Sentinel/EarthEngineExportsPost/S2_20250330_20250401_B04_merge.tif"
   ]
  },
  {
   "cell_type": "markdown",
   "id": "4b427497",
   "metadata": {},
   "source": [
    "## Other"
   ]
  },
  {
   "cell_type": "code",
   "execution_count": null,
   "id": "ceb8e690",
   "metadata": {},
   "outputs": [],
   "source": [
    "S2B_MSIL2A_20230125T082129_N0510_R121_T37SCC_20240810T144140.SAFE\n",
    "\n",
    "S2B_MSIL2A_20230415T081609_N0510_R121_T37SCC_20240826T161033.SAFE"
   ]
  },
  {
   "cell_type": "code",
   "execution_count": 2,
   "id": "93eca17b",
   "metadata": {},
   "outputs": [
    {
     "name": "stdout",
     "output_type": "stream",
     "text": [
      "Export started. Monitor progress at https://code.earthengine.google.com/tasks\n"
     ]
    }
   ],
   "source": [
    "import ee\n",
    "import geopandas as gpd\n",
    "\n",
    "# Initialize Earth Engine\n",
    "ee.Initialize()\n",
    "\n",
    "# Load GeoJSON polygon (your AOI) in EPSG:4326\n",
    "gdf = gpd.read_file(\"/Users/chanagan/Downloads/TurkeyAOI8.10.25.geojson\")\n",
    "\n",
    "# Extract coordinates from the first feature (ensure it's a Polygon, not MultiPolygon)\n",
    "polygon_coords = gdf.geometry[0].__geo_interface__['coordinates'][0]\n",
    "polygon = ee.Geometry.Polygon(polygon_coords)\n",
    "\n",
    "# Define time range\n",
    "start_date = '2025-08-10'\n",
    "end_date = '2025-08-12'\n",
    "band = 4\n",
    "\n",
    "# Filter Sentinel-2 collection\n",
    "image = (\n",
    "    ee.ImageCollection('COPERNICUS/S2_HARMONIZED')\n",
    "    .filterBounds(polygon)\n",
    "    .filterDate(start_date, end_date)\n",
    "    .filter(ee.Filter.lt('CLOUDY_PIXEL_PERCENTAGE', 100))\n",
    "    .select(f'B{band}')\n",
    "    .median()\n",
    "    .clip(polygon)\n",
    ")\n",
    "\n",
    "# Export parameters\n",
    "task = ee.batch.Export.image.toDrive(\n",
    "    image=image,\n",
    "    description=f'Sentinel2_B{band}_Export',\n",
    "    folder='EarthEngineExports',  # Appears in your Google Drive\n",
    "    fileNamePrefix=f'sentinel2_band{band}_{start_date}_{end_date}',\n",
    "    region=polygon,\n",
    "    scale=10,  # Sentinel-2 Band 4 native resolution\n",
    "    crs='EPSG:32635',  # Example: UTM Zone \n",
    "    maxPixels=1e13\n",
    ")\n",
    "\n",
    "# Start export\n",
    "task.start()\n",
    "print('Export started. Monitor progress at https://code.earthengine.google.com/tasks')\n"
   ]
  },
  {
   "cell_type": "code",
   "execution_count": null,
   "id": "a1047038",
   "metadata": {},
   "outputs": [],
   "source": [
    "mm3d Mm2dPosSism sentinel2_band4_2025-08-07_2025-08-09.tif sentinel2_band4_2025-08-10_2025-08-12.tif CorMin=0.1 SsResolOpt=1 Dequant=false DirMEC='MEC/'"
   ]
  },
  {
   "cell_type": "code",
   "execution_count": 1,
   "id": "ebe05acd",
   "metadata": {},
   "outputs": [],
   "source": [
    "import sys\n",
    "sys.path.append('/Users/chanagan/Documents/GitHub/ImageryResources/Functions/')\n",
    "import TiffTools as tt"
   ]
  },
  {
   "cell_type": "code",
   "execution_count": 3,
   "id": "1da69932",
   "metadata": {},
   "outputs": [
    {
     "name": "stdout",
     "output_type": "stream",
     "text": [
      "Driver: GTiff/GeoTIFF\n",
      "Files: /Users/chanagan/Downloads/sentinel2_band4_2025-08-10_2025-08-12.tif\n",
      "       /Users/chanagan/Downloads/sentinel2_band4_2025-08-10_2025-08-12.tif.aux.xml\n",
      "Size is 2553, 2931\n",
      "Coordinate System is:\n",
      "PROJCRS[\"WGS 84 / UTM zone 35N\",\n",
      "    BASEGEOGCRS[\"WGS 84\",\n",
      "        DATUM[\"World Geodetic System 1984\",\n",
      "            ELLIPSOID[\"WGS 84\",6378137,298.257223563,\n",
      "                LENGTHUNIT[\"metre\",1]]],\n",
      "        PRIMEM[\"Greenwich\",0,\n",
      "            ANGLEUNIT[\"degree\",0.0174532925199433]],\n",
      "        ID[\"EPSG\",4326]],\n",
      "    CONVERSION[\"UTM zone 35N\",\n",
      "        METHOD[\"Transverse Mercator\",\n",
      "            ID[\"EPSG\",9807]],\n",
      "        PARAMETER[\"Latitude of natural origin\",0,\n",
      "            ANGLEUNIT[\"degree\",0.0174532925199433],\n",
      "            ID[\"EPSG\",8801]],\n",
      "        PARAMETER[\"Longitude of natural origin\",27,\n",
      "            ANGLEUNIT[\"degree\",0.0174532925199433],\n",
      "            ID[\"EPSG\",8802]],\n",
      "        PARAMETER[\"Scale factor at natural origin\",0.9996,\n",
      "            SCALEUNIT[\"unity\",1],\n",
      "            ID[\"EPSG\",8805]],\n",
      "        PARAMETER[\"False easting\",500000,\n",
      "            LENGTHUNIT[\"metre\",1],\n",
      "            ID[\"EPSG\",8806]],\n",
      "        PARAMETER[\"False northing\",0,\n",
      "            LENGTHUNIT[\"metre\",1],\n",
      "            ID[\"EPSG\",8807]]],\n",
      "    CS[Cartesian,2],\n",
      "        AXIS[\"(E)\",east,\n",
      "            ORDER[1],\n",
      "            LENGTHUNIT[\"metre\",1]],\n",
      "        AXIS[\"(N)\",north,\n",
      "            ORDER[2],\n",
      "            LENGTHUNIT[\"metre\",1]],\n",
      "    USAGE[\n",
      "        SCOPE[\"Navigation and medium accuracy spatial referencing.\"],\n",
      "        AREA[\"Between 24°E and 30°E, northern hemisphere between equator and 84°N, onshore and offshore. Belarus. Bulgaria. Central African Republic. Democratic Republic of the Congo (Zaire). Egypt. Estonia. Finland. Greece. Latvia. Lesotho. Libya. Lithuania. Moldova. Norway. Poland. Romania. Russian Federation. Sudan. Svalbard. Türkiye (Turkey). Uganda. Ukraine.\"],\n",
      "        BBOX[0,24,84,30]],\n",
      "    ID[\"EPSG\",32635]]\n",
      "Data axis to CRS axis mapping: 1,2\n",
      "Origin = (581540.000000000000000,4355690.000000000000000)\n",
      "Pixel Size = (10.000000000000000,-10.000000000000000)\n",
      "Metadata:\n",
      "  AREA_OR_POINT=Area\n",
      "Image Structure Metadata:\n",
      "  COMPRESSION=LZW\n",
      "  INTERLEAVE=BAND\n",
      "Corner Coordinates:\n",
      "Upper Left  (  581540.000, 4355690.000) ( 27d56'46.64\"E, 39d20'48.50\"N)\n",
      "Lower Left  (  581540.000, 4326380.000) ( 27d56'33.90\"E, 39d 4'57.82\"N)\n",
      "Upper Right (  607070.000, 4355690.000) ( 28d14'33.04\"E, 39d20'38.47\"N)\n",
      "Lower Right (  607070.000, 4326380.000) ( 28d14'16.32\"E, 39d 4'47.89\"N)\n",
      "Center      (  594305.000, 4341035.000) ( 28d 5'32.47\"E, 39d12'48.51\"N)\n",
      "Band 1 Block=256x256 Type=Float64, ColorInterp=Gray\n",
      "  Description = B4\n",
      "  Min=373.000 Max=4521.000 \n",
      "  Metadata:\n",
      "    STATISTICS_APPROXIMATE=YES\n",
      "    STATISTICS_MAXIMUM=4521\n",
      "    STATISTICS_MEAN=1060.7403778064\n",
      "    STATISTICS_MINIMUM=373\n",
      "    STATISTICS_STDDEV=512.30926758331\n",
      "    STATISTICS_VALID_PERCENT=41.22\n"
     ]
    }
   ],
   "source": [
    "!gdalinfo /Users/chanagan/Downloads/sentinel2_band4_2025-08-10_2025-08-12.tif"
   ]
  },
  {
   "cell_type": "code",
   "execution_count": 10,
   "id": "69177e80",
   "metadata": {},
   "outputs": [
    {
     "name": "stdout",
     "output_type": "stream",
     "text": [
      "Nodata value for mask: -9999.0\n",
      "Setting nodata value to -9999\n",
      "Saving /Users/chanagan/Library/CloudStorage/OneDrive-DOI/Desktop/EarthquakesSentinel/KamchatkaTest/MEC/NSmicmac.tif\n",
      "Saving /Users/chanagan/Library/CloudStorage/OneDrive-DOI/Desktop/EarthquakesSentinel/KamchatkaTest/MEC/EWmicmac.tif\n",
      "Saving /Users/chanagan/Library/CloudStorage/OneDrive-DOI/Desktop/EarthquakesSentinel/KamchatkaTest/MEC/Correlmicmac.tif\n"
     ]
    }
   ],
   "source": [
    "tt.micmacPostProcessing(folder='/Users/chanagan/Library/CloudStorage/OneDrive-DOI/Desktop/EarthquakesSentinel/KamchatkaTest/MEC/',\n",
    "                         prefiles=['/Users/chanagan/Library/CloudStorage/OneDrive-DOI/Desktop/EarthquakesSentinel/KamchatkaTest/mmsentinel2_band4_2025-08-03_2025-08-05.tif',\n",
    "                                   '/Users/chanagan/Library/CloudStorage/OneDrive-DOI/Desktop/EarthquakesSentinel/KamchatkaTest/mmsentinel2_band4_2025-07-19_2025-07-21.tif'],\n",
    "                         outprefix='/Users/chanagan/Library/CloudStorage/OneDrive-DOI/Desktop/EarthquakesSentinel/KamchatkaTest/MEC/')"
   ]
  },
  {
   "cell_type": "code",
   "execution_count": 12,
   "id": "d4f92f67",
   "metadata": {},
   "outputs": [],
   "source": [
    "import rioxarray\n",
    "import numpy as np"
   ]
  },
  {
   "cell_type": "code",
   "execution_count": 18,
   "id": "380a88d2",
   "metadata": {},
   "outputs": [
    {
     "data": {
      "text/plain": [
       "array([[[ True,  True,  True, ...,  True,  True,  True],\n",
       "        [ True,  True,  True, ...,  True,  True,  True],\n",
       "        [ True,  True,  True, ...,  True,  True,  True],\n",
       "        ...,\n",
       "        [ True,  True,  True, ...,  True,  True,  True],\n",
       "        [ True,  True,  True, ...,  True,  True,  True],\n",
       "        [ True,  True,  True, ...,  True,  True,  True]]],\n",
       "      shape=(1, 11471, 7094))"
      ]
     },
     "execution_count": 18,
     "metadata": {},
     "output_type": "execute_result"
    }
   ],
   "source": [
    "mask"
   ]
  },
  {
   "cell_type": "code",
   "execution_count": 30,
   "id": "1d67df4f",
   "metadata": {},
   "outputs": [],
   "source": [
    "corr = rioxarray.open_rasterio('/Users/chanagan/Library/CloudStorage/OneDrive-DOI/Desktop/EarthquakesSentinel/KamchatkaTest/MEC/Correlmicmac.tif')\n",
    "ns = rioxarray.open_rasterio('/Users/chanagan/Library/CloudStorage/OneDrive-DOI/Desktop/EarthquakesSentinel/KamchatkaTest/MEC/NSmicmac.tif')\n",
    "ew = rioxarray.open_rasterio('/Users/chanagan/Library/CloudStorage/OneDrive-DOI/Desktop/EarthquakesSentinel/KamchatkaTest/MEC/EWmicmac.tif')\n",
    "\n",
    "mask = (corr.data<0.5)\n",
    "# Set nodata value explicitly\n",
    "ns.rio.write_nodata(-9999, inplace=True)\n",
    "ew.rio.write_nodata(-9999, inplace=True)\n",
    "\n",
    "# Apply the mask\n",
    "ns.data[mask] = -9999\n",
    "ew.data[mask] = -9999\n",
    "\n",
    "# Save masked rasters\n",
    "ns.rio.to_raster('/Users/chanagan/Library/CloudStorage/OneDrive-DOI/Desktop/EarthquakesSentinel/KamchatkaTest/MEC/NSmicmac-masked.tif')\n",
    "ew.rio.to_raster('/Users/chanagan/Library/CloudStorage/OneDrive-DOI/Desktop/EarthquakesSentinel/KamchatkaTest/MEC/EWmicmac-masked.tif')"
   ]
  },
  {
   "cell_type": "code",
   "execution_count": 31,
   "id": "b7b1eccb",
   "metadata": {},
   "outputs": [
    {
     "data": {
      "text/plain": [
       "(array([[-9999., -9999., -9999., ..., -9999., -9999., -9999.],\n",
       "        [-9999., -9999., -9999., ..., -9999., -9999., -9999.],\n",
       "        [-9999., -9999., -9999., ..., -9999., -9999., -9999.],\n",
       "        ...,\n",
       "        [-9999., -9999., -9999., ..., -9999., -9999., -9999.],\n",
       "        [-9999., -9999., -9999., ..., -9999., -9999., -9999.],\n",
       "        [-9999., -9999., -9999., ..., -9999., -9999., -9999.]],\n",
       "       shape=(11471, 7094)),\n",
       " array([[-9999., -9999., -9999., ..., -9999., -9999., -9999.],\n",
       "        [-9999., -9999., -9999., ..., -9999., -9999., -9999.],\n",
       "        [-9999., -9999., -9999., ..., -9999., -9999., -9999.],\n",
       "        ...,\n",
       "        [-9999., -9999., -9999., ..., -9999., -9999., -9999.],\n",
       "        [-9999., -9999., -9999., ..., -9999., -9999., -9999.],\n",
       "        [-9999., -9999., -9999., ..., -9999., -9999., -9999.]],\n",
       "       shape=(11471, 7094)))"
      ]
     },
     "execution_count": 31,
     "metadata": {},
     "output_type": "execute_result"
    }
   ],
   "source": [
    "tt.projectDisp('/Users/chanagan/Library/CloudStorage/OneDrive-DOI/Desktop/EarthquakesSentinel/KamchatkaTest/MEC/EWmicmac-masked.tif',\n",
    "               '/Users/chanagan/Library/CloudStorage/OneDrive-DOI/Desktop/EarthquakesSentinel/KamchatkaTest/MEC/NSmicmac-masked.tif',\n",
    "               -25,mask=None,partif='ParallelDisp.tif',perptif='PerpendicularDisp.tif')\n"
   ]
  },
  {
   "cell_type": "code",
   "execution_count": 9,
   "id": "d9485c14",
   "metadata": {},
   "outputs": [
    {
     "name": "stdout",
     "output_type": "stream",
     "text": [
      "Raster shapes: (3979, 3385) (3979, 3385) (3979, 3385) (3979, 3385)\n",
      "Saved vertical displacement to: /Users/chanagan/Library/CloudStorage/OneDrive-DOI/ToShare/ArcataLidarExploration/OpenTopoPCs/MEC/UDmicmac.tif\n"
     ]
    },
    {
     "data": {
      "text/plain": [
       "array([[-9999., -9999., -9999., ..., -9999., -9999., -9999.],\n",
       "       [-9999., -9999., -9999., ..., -9999., -9999., -9999.],\n",
       "       [-9999., -9999., -9999., ..., -9999., -9999., -9999.],\n",
       "       ...,\n",
       "       [-9999., -9999., -9999., ..., -9999., -9999., -9999.],\n",
       "       [-9999., -9999., -9999., ..., -9999., -9999., -9999.],\n",
       "       [-9999., -9999., -9999., ..., -9999., -9999., -9999.]],\n",
       "      shape=(3979, 3385), dtype=float32)"
      ]
     },
     "execution_count": 9,
     "metadata": {},
     "output_type": "execute_result"
    }
   ],
   "source": [
    "tt.verticalDispBilin(dem1file='/Users/chanagan/Library/CloudStorage/OneDrive-DOI/ToShare/ArcataLidarExploration/OpenTopoPCs/sd_arcata_2009_dem.tif',\n",
    "                         dem2file='/Users/chanagan/Library/CloudStorage/OneDrive-DOI/ToShare/ArcataLidarExploration/OpenTopoPCs/sd_arcata_2019_dem.tif',\n",
    "                         nsfile=f'/Users/chanagan/Library/CloudStorage/OneDrive-DOI/ToShare/ArcataLidarExploration/OpenTopoPCs/MEC/NSmicmac.tif',\n",
    "                         ewfile=f'/Users/chanagan/Library/CloudStorage/OneDrive-DOI/ToShare/ArcataLidarExploration/OpenTopoPCs/MEC/EWmicmac.tif',\n",
    "                         outf=f'/Users/chanagan/Library/CloudStorage/OneDrive-DOI/ToShare/ArcataLidarExploration/OpenTopoPCs/MEC/UDmicmac.tif')"
   ]
  },
  {
   "cell_type": "markdown",
   "id": "b999098c",
   "metadata": {},
   "source": []
  }
 ],
 "metadata": {
  "kernelspec": {
   "display_name": "image_processing",
   "language": "python",
   "name": "python3"
  },
  "language_info": {
   "codemirror_mode": {
    "name": "ipython",
    "version": 3
   },
   "file_extension": ".py",
   "mimetype": "text/x-python",
   "name": "python",
   "nbconvert_exporter": "python",
   "pygments_lexer": "ipython3",
   "version": "3.13.3"
  }
 },
 "nbformat": 4,
 "nbformat_minor": 5
}
