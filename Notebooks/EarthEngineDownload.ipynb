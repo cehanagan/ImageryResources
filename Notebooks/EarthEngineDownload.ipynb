{
 "cells": [
  {
   "cell_type": "markdown",
   "id": "cb83ef1a",
   "metadata": {},
   "source": [
    "## Google earth engine download\n",
    "\n",
    "generally followed setup here: \n",
    "\n",
    "https://courses.spatialthoughts.com/install-gee-python-api.html"
   ]
  },
  {
   "cell_type": "code",
   "execution_count": 1,
   "id": "8969ac19",
   "metadata": {},
   "outputs": [],
   "source": [
    "import ee\n",
    "import geemap"
   ]
  },
  {
   "cell_type": "code",
   "execution_count": 2,
   "id": "5c6b0010",
   "metadata": {},
   "outputs": [
    {
     "data": {
      "text/html": [
       "\n",
       "            <style>\n",
       "                .geemap-dark {\n",
       "                    --jp-widgets-color: white;\n",
       "                    --jp-widgets-label-color: white;\n",
       "                    --jp-ui-font-color1: white;\n",
       "                    --jp-layout-color2: #454545;\n",
       "                    background-color: #383838;\n",
       "                }\n",
       "\n",
       "                .geemap-dark .jupyter-button {\n",
       "                    --jp-layout-color3: #383838;\n",
       "                }\n",
       "\n",
       "                .geemap-colab {\n",
       "                    background-color: var(--colab-primary-surface-color, white);\n",
       "                }\n",
       "\n",
       "                .geemap-colab .jupyter-button {\n",
       "                    --jp-layout-color3: var(--colab-primary-surface-color, white);\n",
       "                }\n",
       "            </style>\n",
       "            "
      ],
      "text/plain": [
       "<IPython.core.display.HTML object>"
      ]
     },
     "metadata": {},
     "output_type": "display_data"
    },
    {
     "data": {
      "text/plain": [
       "True"
      ]
     },
     "execution_count": 2,
     "metadata": {},
     "output_type": "execute_result"
    }
   ],
   "source": [
    "ee.Authenticate()"
   ]
  },
  {
   "cell_type": "code",
   "execution_count": 3,
   "id": "5e628fa6",
   "metadata": {},
   "outputs": [
    {
     "data": {
      "text/html": [
       "\n",
       "            <style>\n",
       "                .geemap-dark {\n",
       "                    --jp-widgets-color: white;\n",
       "                    --jp-widgets-label-color: white;\n",
       "                    --jp-ui-font-color1: white;\n",
       "                    --jp-layout-color2: #454545;\n",
       "                    background-color: #383838;\n",
       "                }\n",
       "\n",
       "                .geemap-dark .jupyter-button {\n",
       "                    --jp-layout-color3: #383838;\n",
       "                }\n",
       "\n",
       "                .geemap-colab {\n",
       "                    background-color: var(--colab-primary-surface-color, white);\n",
       "                }\n",
       "\n",
       "                .geemap-colab .jupyter-button {\n",
       "                    --jp-layout-color3: var(--colab-primary-surface-color, white);\n",
       "                }\n",
       "            </style>\n",
       "            "
      ],
      "text/plain": [
       "<IPython.core.display.HTML object>"
      ]
     },
     "metadata": {},
     "output_type": "display_data"
    }
   ],
   "source": [
    "ee.Initialize(project='ee-cehanagan')"
   ]
  },
  {
   "cell_type": "markdown",
   "id": "cf361f5e",
   "metadata": {},
   "source": [
    "## Sentinel 2 Band 4"
   ]
  },
  {
   "cell_type": "code",
   "execution_count": null,
   "id": "2b337ec7",
   "metadata": {},
   "outputs": [
    {
     "data": {
      "text/html": [
       "\n",
       "            <style>\n",
       "                .geemap-dark {\n",
       "                    --jp-widgets-color: white;\n",
       "                    --jp-widgets-label-color: white;\n",
       "                    --jp-ui-font-color1: white;\n",
       "                    --jp-layout-color2: #454545;\n",
       "                    background-color: #383838;\n",
       "                }\n",
       "\n",
       "                .geemap-dark .jupyter-button {\n",
       "                    --jp-layout-color3: #383838;\n",
       "                }\n",
       "\n",
       "                .geemap-colab {\n",
       "                    background-color: var(--colab-primary-surface-color, white);\n",
       "                }\n",
       "\n",
       "                .geemap-colab .jupyter-button {\n",
       "                    --jp-layout-color3: var(--colab-primary-surface-color, white);\n",
       "                }\n",
       "            </style>\n",
       "            "
      ],
      "text/plain": [
       "<IPython.core.display.HTML object>"
      ]
     },
     "metadata": {},
     "output_type": "display_data"
    },
    {
     "name": "stdout",
     "output_type": "stream",
     "text": [
      "Export started. Monitor progress at https://code.earthengine.google.com/tasks\n"
     ]
    }
   ],
   "source": [
    "import ee\n",
    "import geopandas as gpd\n",
    "\n",
    "# Initialize Earth Engine\n",
    "ee.Initialize()\n",
    "\n",
    "# Load GeoJSON polygon (your AOI)\n",
    "gdf = gpd.read_file(\"/Volumes/Myanmar 1/GIS/SentinelRoughBoundaries.geojson\")\n",
    "\n",
    "# Extract coordinates from the first feature (ensure it's a Polygon, not MultiPolygon)\n",
    "polygon_coords = gdf.geometry[0].__geo_interface__['coordinates'][0]\n",
    "polygon = ee.Geometry.Polygon(polygon_coords)\n",
    "\n",
    "# Define time range\n",
    "start_date = '2025-03-25'\n",
    "end_date = '2025-03-28'\n",
    "band = 4\n",
    "\n",
    "# Filter Sentinel-2 collection\n",
    "image = (\n",
    "    ee.ImageCollection('COPERNICUS/S2_HARMONIZED')\n",
    "    .filterBounds(polygon)\n",
    "    .filterDate(start_date, end_date)\n",
    "    .filter(ee.Filter.lt('CLOUDY_PIXEL_PERCENTAGE', 100))\n",
    "    .select(f'B{band}')\n",
    "    .median()\n",
    "    .clip(polygon)\n",
    ")\n",
    "\n",
    "# Export parameters\n",
    "task = ee.batch.Export.image.toDrive(\n",
    "    image=image,\n",
    "    description=f'Sentinel2_B{band}_Export',\n",
    "    folder='EarthEngineExports',  # Appears in your Google Drive\n",
    "    fileNamePrefix=f'sentinel2_band{band}_{start_date}_{end_date}',\n",
    "    region=polygon,\n",
    "    scale=10,  # Sentinel-2 Band 4 native resolution\n",
    "    crs='EPSG:32647',  # Example: UTM Zone 47N (Myanmar region)\n",
    "    maxPixels=1e13\n",
    ")\n",
    "\n",
    "# Start export\n",
    "task.start()\n",
    "print('Export started. Monitor progress at https://code.earthengine.google.com/tasks')\n"
   ]
  },
  {
   "cell_type": "code",
   "execution_count": null,
   "id": "14358b73",
   "metadata": {},
   "outputs": [],
   "source": [
    "%%bash\n",
    "## Sentinel from GEE, Example of merging the results for Myanmar\n",
    "gdalwarp -t_srs EPSG:32647 -tr 10 10 -srcnodata 0 -dstnodata 0 -overwrite -of GTiff -co COMPRESS=LZW -co ZLEVEL=9 -co BIGTIFF=YES \\\n",
    "    /Volumes/Myanmar\\ 1/Imagery/Sentinel/EarthEngineExportsPost/*tif \\\n",
    "    /Volumes/Myanmar\\ 1/Imagery/Sentinel/EarthEngineExportsPost/S2_20250330_20250401_B04_merge.tif"
   ]
  }
 ],
 "metadata": {
  "kernelspec": {
   "display_name": "Python 3",
   "language": "python",
   "name": "python3"
  },
  "language_info": {
   "codemirror_mode": {
    "name": "ipython",
    "version": 3
   },
   "file_extension": ".py",
   "mimetype": "text/x-python",
   "name": "python",
   "nbconvert_exporter": "python",
   "pygments_lexer": "ipython3",
   "version": "3.13.3"
  }
 },
 "nbformat": 4,
 "nbformat_minor": 5
}
