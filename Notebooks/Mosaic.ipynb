{
 "cells": [
  {
   "cell_type": "code",
   "execution_count": 9,
   "metadata": {},
   "outputs": [
    {
     "name": "stdout",
     "output_type": "stream",
     "text": [
      "The autoreload extension is already loaded. To reload it, use:\n",
      "  %reload_ext autoreload\n"
     ]
    }
   ],
   "source": [
    "from osgeo import gdal\n",
    "import numpy as np\n",
    "import os\n",
    "#import pandas as pd\n",
    "import matplotlib.pyplot as plt\n",
    "import sys\n",
    "sys.path.append('../Functions')\n",
    "import TiffTools as tt\n",
    "\n",
    "%load_ext autoreload\n",
    "%autoreload 2"
   ]
  },
  {
   "cell_type": "code",
   "execution_count": 10,
   "metadata": {},
   "outputs": [
    {
     "name": "stdout",
     "output_type": "stream",
     "text": [
      "CA 2\n",
      "CA 3\n",
      "CA 4\n",
      "CA 5\n",
      "CA 6\n",
      "CA 7\n",
      "CA 10\n",
      "CA 16\n",
      "CA 17\n",
      "CA 20\n",
      "CA 23\n",
      "CA 24\n",
      "CA 26\n",
      "CA 28\n",
      "CA 29\n",
      "CA 31\n",
      "CA 35\n",
      "CA 36\n",
      "CA 37\n",
      "CA 38\n",
      "CA 40\n"
     ]
    }
   ],
   "source": [
    "inlist = []\n",
    "directory = '/Volumes/Extreme Pro/Data/Sept2007USGSEarthExplorer/'\n",
    "for folder in os.listdir(directory):\n",
    "    if folder.startswith('CA'):\n",
    "        print(folder)\n",
    "        for file in os.listdir(f'{directory+folder}/2007/200709_monterey-san_benito_county_ca_1ft_sp_clr/'):\n",
    "            if file.startswith('vol'):\n",
    "                path = directory+folder+'/2007/200709_monterey-san_benito_county_ca_1ft_sp_clr/'+file+'/'\n",
    "                inlist.append(path+os.listdir(path)[1])\n"
   ]
  },
  {
   "cell_type": "code",
   "execution_count": 11,
   "metadata": {},
   "outputs": [],
   "source": [
    "# Save all other files as one tif\n",
    "l2022 = ['/Volumes/Extreme Pro/Data/NAIP/MRMR/2022_4BandImagery_California_J978344_001_001.tif',\n",
    "        '/Volumes/Extreme Pro/Data/NAIP/MRMR/2022_4BandImagery_California_J978344_001_000.tif']\n",
    "l2020 = ['/Volumes/Extreme Pro/Data/NAIP/MRMR/2020_4BandImagery_California_J979977_001_001.tif',\n",
    "        '/Volumes/Extreme Pro/Data/NAIP/MRMR/2020_4BandImagery_California_J979977_001_000.tif']\n",
    "l2018 = '/Volumes/Extreme Pro/Data/NAIP/MRMR/2018_4BandImagery_CA_J979978_000_000.tif' \n",
    "l2016 = ['/Volumes/Extreme Pro/Data/NAIP/2016_4Band/m_3612042_se_10_h_20160530.tif',\n",
    "         '/Volumes/Extreme Pro/Data/NAIP/2016_4Band/m_3612042_sw_10_h_20160530.tif',\n",
    "         '/Volumes/Extreme Pro/Data/NAIP/2016_4Band/m_3612050_nw_10_h_20160530.tif', \n",
    "         '/Volumes/Extreme Pro/Data/NAIP/2016_4Band/m_3612050_se_10_h_20160530.tif', \n",
    "         '/Volumes/Extreme Pro/Data/NAIP/2016_4Band/m_3612051_nw_10_h_20160530.tif',\n",
    "         '/Volumes/Extreme Pro/Data/NAIP/2016_4Band/m_3612051_sw_10_h_20160530.tif']"
   ]
  },
  {
   "cell_type": "code",
   "execution_count": 12,
   "metadata": {},
   "outputs": [
    {
     "name": "stdout",
     "output_type": "stream",
     "text": [
      "-a_ullr 5998494.2 1996870.0 6058494.2 1948870.0\n"
     ]
    }
   ],
   "source": [
    "dx = 1.2\n",
    "dy = 0.5\n",
    "print('-a_ullr',5998493.00+dx,1996869.50+dy,6058493.00+dx,1948869.5+dy)\n"
   ]
  },
  {
   "cell_type": "code",
   "execution_count": 14,
   "metadata": {},
   "outputs": [
    {
     "data": {
      "text/plain": [
       "<osgeo.gdal.Dataset; proxy of <Swig Object of type 'GDALDatasetShadow *' at 0x7f8f680f6810> >"
      ]
     },
     "execution_count": 14,
     "metadata": {},
     "output_type": "execute_result"
    }
   ],
   "source": [
    "# Merge relevant files\n",
    "outf = 'Sept2007USGSMosaic.tif'\n",
    "inf = inlist\n",
    "\n",
    "# Create Mosaic\n",
    "gdal.Warp(outf,inf,xRes=0.6,yRes=-0.6,resampleAlg='cubic')"
   ]
  },
  {
   "cell_type": "code",
   "execution_count": null,
   "metadata": {},
   "outputs": [],
   "source": [
    "# NEXT CASS, YOU HAVE TO ALIGN THE TIF MANUALLY!!"
   ]
  },
  {
   "cell_type": "code",
   "execution_count": 9,
   "metadata": {},
   "outputs": [
    {
     "name": "stdout",
     "output_type": "stream",
     "text": [
      "Computing Gray from RGB values\n"
     ]
    },
    {
     "ename": "",
     "evalue": "",
     "output_type": "error",
     "traceback": [
      "\u001b[1;31mThe Kernel crashed while executing code in the the current cell or a previous cell. Please review the code in the cell(s) to identify a possible cause of the failure. Click <a href='https://aka.ms/vscodeJupyterKernelCrash'>here</a> for more info. View Jupyter <a href='command:jupyter.viewOutput'>log</a> for further details."
     ]
    }
   ],
   "source": [
    "# Merge relevant files\n",
    "outf = 'Sept2007USGSMosaic.tif'\n",
    "inf = inlist\n",
    "\n",
    "# Create Mosaic\n",
    "#gdal.Warp(outf,inf,xRes=0.6, yRes=-0.6)\n",
    "# Create Greyscale image from Mosaic at 60 cm resolution cut to AOI\n",
    "# -a_ullr 5998494.2 1996870.0 6058494.2 1948870.0\n",
    "outf = 'Sept2007USGSMosaic-aligned.tif' # MANUALLY SHIFTED IN QGIS W/ GDAL_TRANSLATE TO MATCH NAIP IMAGES BETTER!\n",
    "tt.micmacExport(outf,outname='Sept2007USGSMosaicCut60cm.tif',srs='EPSG:32610',interp='cubic',cutlineDSName='/Volumes/Extreme Pro/qgis/ClipMRMR.shp',\n",
    "                outres=[0.6,-0.6])"
   ]
  },
  {
   "cell_type": "markdown",
   "metadata": {},
   "source": []
  },
  {
   "cell_type": "code",
   "execution_count": 7,
   "metadata": {},
   "outputs": [
    {
     "name": "stdout",
     "output_type": "stream",
     "text": [
      "Computing Gray from RGB values\n"
     ]
    }
   ],
   "source": [
    "outf = 'June2016NAIPMosaic.tif'\n",
    "inf = l2016\n",
    "\n",
    "# Create Mosaic\n",
    "gdal.Warp(outf,inf)\n",
    "# Create Greyscale image from Mosaic at 60 cm resolution cut to AOI\n",
    "tt.micmacExport(outf,outname=outf[:-4]+'Cut60cm.tif',srs='EPSG:32610',interp='cubic',cutlineDSName='/Volumes/Extreme Pro/qgis/ClipMRMR.shp',\n",
    "                outres=[0.6,-0.6])\n",
    "\n"
   ]
  },
  {
   "cell_type": "code",
   "execution_count": null,
   "metadata": {},
   "outputs": [],
   "source": [
    "outf = 'July2018NAIPMosaic.tif'\n",
    "inf = l2018\n",
    "\n",
    "# Create Mosaic\n",
    "gdal.Warp(outf,inf)\n",
    "# Create Greyscale image from Mosaic at 60 cm resolution cut to AOI\n",
    "tt.micmacExport(outf,outname=outf[:-4]+'Cut60cm.tif',srs='EPSG:32610',interp='cubic',cutlineDSName='/Volumes/Extreme Pro/qgis/ClipMRMR.shp',\n",
    "                outres=[0.6,-0.6])\n"
   ]
  },
  {
   "cell_type": "code",
   "execution_count": null,
   "metadata": {},
   "outputs": [],
   "source": [
    "outf = 'June2020NAIPMosaic.tif'\n",
    "inf = l2020\n",
    "\n",
    "# Create Mosaic\n",
    "gdal.Warp(outf,inf)\n",
    "# Create Greyscale image from Mosaic at 60 cm resolution cut to AOI\n",
    "tt.micmacExport(outf,outname=outf[:-4]+'Cut60cm.tif',srs='EPSG:32610',interp='cubic',cutlineDSName='/Volumes/Extreme Pro/qgis/ClipMRMR.shp',\n",
    "                outres=[0.6,-0.6])\n"
   ]
  },
  {
   "cell_type": "code",
   "execution_count": null,
   "metadata": {},
   "outputs": [],
   "source": [
    "outf = 'June2022NAIPMosaic.tif'\n",
    "inf = l2022\n",
    "# Create Mosaic\n",
    "gdal.Warp(outf,inf)\n",
    "# Create Greyscale image from Mosaic at 60 cm resolution cut to AOI\n",
    "tt.micmacExport(outf,outname=outf[:-4]+'Cut60cm.tif',srs='EPSG:32610',interp='cubic',cutlineDSName='/Volumes/Extreme Pro/qgis/ClipMRMR.shp',\n",
    "                outres=[0.6,-0.6])\n"
   ]
  },
  {
   "cell_type": "code",
   "execution_count": null,
   "metadata": {},
   "outputs": [],
   "source": []
  }
 ],
 "metadata": {
  "kernelspec": {
   "display_name": "asp",
   "language": "python",
   "name": "python3"
  },
  "language_info": {
   "codemirror_mode": {
    "name": "ipython",
    "version": 3
   },
   "file_extension": ".py",
   "mimetype": "text/x-python",
   "name": "python",
   "nbconvert_exporter": "python",
   "pygments_lexer": "ipython3",
   "version": "3.8.16"
  }
 },
 "nbformat": 4,
 "nbformat_minor": 2
}
