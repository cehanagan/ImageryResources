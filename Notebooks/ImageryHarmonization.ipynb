{
 "cells": [
  {
   "cell_type": "code",
   "execution_count": 2,
   "id": "ed215726",
   "metadata": {},
   "outputs": [],
   "source": [
    "# Imagery Harmonization"
   ]
  },
  {
   "cell_type": "code",
   "execution_count": 1,
   "id": "c618edb0",
   "metadata": {},
   "outputs": [
    {
     "name": "stdout",
     "output_type": "stream",
     "text": [
      "Creating output file that is 294P x 230L.\n",
      "Using internal nodata values (e.g. -9999) for image /Users/chanagan/Library/CloudStorage/OneDrive-DOI/ToShare/DeformationSynthesisSharedResources/Optical/S2_Hanagan/MEC/NSmicmac.tif.\n",
      "Copying nodata values from source /Users/chanagan/Library/CloudStorage/OneDrive-DOI/ToShare/DeformationSynthesisSharedResources/Optical/S2_Hanagan/MEC/NSmicmac.tif to destination /Users/chanagan/Library/CloudStorage/OneDrive-DOI/ToShare/DeformationSynthesisSharedResources/Optical/S2_Hanagan/MEC/NSmicmac_toAOI.tif.\n",
      "Processing /Users/chanagan/Library/CloudStorage/OneDrive-DOI/ToShare/DeformationSynthesisSharedResources/Optical/S2_Hanagan/MEC/NSmicmac.tif [1/1] : 0...10...20...30...40...50...60...70...80...90...100 - done.\n"
     ]
    }
   ],
   "source": [
    "!gdalwarp -t_srs EPSG:32637 -overwrite -te 325910.529 4198948.4196 355327.725 4221973.271 -tr 100 -100 -r near -of GTiff -ot Float32 /Users/chanagan/Library/CloudStorage/OneDrive-DOI/ToShare/DeformationSynthesisSharedResources/Optical/S2_Hanagan/MEC/NSmicmac.tif /Users/chanagan/Library/CloudStorage/OneDrive-DOI/ToShare/DeformationSynthesisSharedResources/Optical/S2_Hanagan/MEC/NSmicmac_toAOI.tif"
   ]
  },
  {
   "cell_type": "code",
   "execution_count": null,
   "id": "6b86faaf",
   "metadata": {},
   "outputs": [
    {
     "data": {
      "text/plain": [
       "1.11"
      ]
     },
     "execution_count": 3,
     "metadata": {},
     "output_type": "execute_result"
    }
   ],
   "source": [
    "0.000001 * 111000\n"
   ]
  },
  {
   "cell_type": "code",
   "execution_count": 1,
   "id": "f914005f",
   "metadata": {},
   "outputs": [
    {
     "name": "stdout",
     "output_type": "stream",
     "text": [
      "Creating output file that is 294P x 230L.\n",
      "Using internal nodata values (e.g. -9999) for image /Users/chanagan/Library/CloudStorage/OneDrive-DOI/ToShare/DeformationSynthesisSharedResources/Optical/S2_Hanagan/MEC/EWmicmac.tif.\n",
      "Processing /Users/chanagan/Library/CloudStorage/OneDrive-DOI/ToShare/DeformationSynthesisSharedResources/Optical/S2_Hanagan/MEC/EWmicmac.tif [1/1] : 0...10...20...30...40...50...60...70...80...90...100 - done.\n",
      "Creating output file that is 294P x 230L.\n",
      "Using internal nodata values (e.g. -9999) for image /Users/chanagan/Library/CloudStorage/OneDrive-DOI/ToShare/DeformationSynthesisSharedResources/Optical/S2_Hanagan/MEC/NSmicmac.tif.\n",
      "Processing /Users/chanagan/Library/CloudStorage/OneDrive-DOI/ToShare/DeformationSynthesisSharedResources/Optical/S2_Hanagan/MEC/NSmicmac.tif [1/1] : 0...10...20...30...40...50...60...70...80...90...100 - done.\n",
      "Creating output file that is 294P x 230L.\n",
      "Using internal nodata values (e.g. -9999) for image /Users/chanagan/Library/CloudStorage/OneDrive-DOI/ToShare/DeformationSynthesisSharedResources/Optical/S2_Hanagan/MEC/Correlmicmac.tif.\n",
      "Processing /Users/chanagan/Library/CloudStorage/OneDrive-DOI/ToShare/DeformationSynthesisSharedResources/Optical/S2_Hanagan/MEC/Correlmicmac.tif [1/1] : 0...10...20...30...40...50...60...70...80...90...100 - done.\n"
     ]
    }
   ],
   "source": [
    "!gdalwarp -t_srs EPSG:32637 -overwrite -cutline /Users/chanagan/Library/CloudStorage/OneDrive-DOI/ToShare/DeformationSynthesisSharedResources/GIS/AOIepsg32637.geojson -tr 100 -100 -r near -of GTiff -ot Float32 -dstnodata -9999 /Users/chanagan/Library/CloudStorage/OneDrive-DOI/ToShare/DeformationSynthesisSharedResources/Optical/S2_Hanagan/MEC/EWmicmac.tif /Users/chanagan/Library/CloudStorage/OneDrive-DOI/ToShare/DeformationSynthesisSharedResources/Optical/S2_Hanagan/MEC/EWmicmac_toAOI.tif\n",
    "!gdalwarp -t_srs EPSG:32637 -overwrite -cutline /Users/chanagan/Library/CloudStorage/OneDrive-DOI/ToShare/DeformationSynthesisSharedResources/GIS/AOIepsg32637.geojson -tr 100 -100 -r near -of GTiff -ot Float32 -dstnodata -9999 /Users/chanagan/Library/CloudStorage/OneDrive-DOI/ToShare/DeformationSynthesisSharedResources/Optical/S2_Hanagan/MEC/NSmicmac.tif /Users/chanagan/Library/CloudStorage/OneDrive-DOI/ToShare/DeformationSynthesisSharedResources/Optical/S2_Hanagan/MEC/NSmicmac_toAOI.tif\n",
    "!gdalwarp -t_srs EPSG:32637 -overwrite -cutline /Users/chanagan/Library/CloudStorage/OneDrive-DOI/ToShare/DeformationSynthesisSharedResources/GIS/AOIepsg32637.geojson -tr 100 -100 -r near -of GTiff -ot Float32 -dstnodata -9999 /Users/chanagan/Library/CloudStorage/OneDrive-DOI/ToShare/DeformationSynthesisSharedResources/Optical/S2_Hanagan/MEC/Correlmicmac.tif /Users/chanagan/Library/CloudStorage/OneDrive-DOI/ToShare/DeformationSynthesisSharedResources/Optical/S2_Hanagan/MEC/Correlmicmac_toAOI.tif\n",
    "\n"
   ]
  },
  {
   "cell_type": "code",
   "execution_count": null,
   "id": "c0a72a16",
   "metadata": {},
   "outputs": [],
   "source": [
    "import rioxarray\n",
    "import numpy as np\n",
    "import pandas as pd\n",
    "\n",
    "# Open the GeoTIFF\n",
    "da = rioxarray.open_rasterio(\"/Users/chanagan/Library/CloudStorage/OneDrive-DOI/ToShare/DeformationSynthesisSharedResources/Optical/S2_Hanagan/MEC/NSmicmac_toAOI.tif\")\n",
    "\n",
    "# Get the coordinates\n",
    "x = da.x.values.round(2)\n",
    "y = da.y.values.round(2)\n",
    "\n",
    "# Meshgrid to get per-pixel coordinates\n",
    "xs, ys = np.meshgrid(x, y)\n",
    "df = pd.DataFrame({'easting_m':xs.flatten(),'northing_m':ys.flatten()}).to_csv(f'/Users/chanagan/Library/CloudStorage/OneDrive-DOI/ToShare/DeformationSynthesisSharedResources/XYgridAOI_EPSG{da.rio.crs.to_epsg()}.csv',index=False)\n"
   ]
  },
  {
   "cell_type": "markdown",
   "id": "80e07b76",
   "metadata": {},
   "source": [
    "# Inversion\n",
    "\n",
    "m = [ew, ns, ud]\n",
    "d = [range, azimuth, east, north]\n",
    "\n",
    "azi = 180-azi\n",
    "G = [sin(azi)*sin(inc) cos(azi)*sin(inc) -cos(inc)]"
   ]
  },
  {
   "cell_type": "code",
   "execution_count": null,
   "id": "38d60aa1",
   "metadata": {},
   "outputs": [],
   "source": [
    "m = e, n, u]"
   ]
  }
 ],
 "metadata": {
  "kernelspec": {
   "display_name": "image_processing",
   "language": "python",
   "name": "python3"
  },
  "language_info": {
   "codemirror_mode": {
    "name": "ipython",
    "version": 3
   },
   "file_extension": ".py",
   "mimetype": "text/x-python",
   "name": "python",
   "nbconvert_exporter": "python",
   "pygments_lexer": "ipython3",
   "version": "3.13.3"
  }
 },
 "nbformat": 4,
 "nbformat_minor": 5
}
