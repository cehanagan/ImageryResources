{
 "cells": [
  {
   "cell_type": "code",
   "execution_count": 22,
   "metadata": {},
   "outputs": [],
   "source": [
    "from osgeo import gdal\n",
    "import numpy as np\n",
    "import os\n",
    "#import pandas as pd\n",
    "import matplotlib.pyplot as plt\n",
    "import sys\n",
    "sys.path.append('../Functions')\n",
    "import TiffTools as tt\n",
    "%load_ext autoreload\n",
    "%autoreload 2"
   ]
  },
  {
   "cell_type": "code",
   "execution_count": 4,
   "metadata": {},
   "outputs": [],
   "source": [
    "postFiles = ['/Volumes/Extreme Pro/Data/DG/NAPA20140902_WV02_OrthoPAN/016277095010_01_003/016277095010_01/016277095010_01_P001_PAN/14SEP02192604-P3DS_R1C1-016277095010_01_P001.TIF',\n",
    "            '/Volumes/Extreme Pro/Data/DG/NAPA20140902_WV02_OrthoPAN/016277095010_01_003/016277095010_01/016277095010_01_P001_PAN/14SEP02192604-P3DS_R1C2-016277095010_01_P001.TIF',\n",
    "            '/Volumes/Extreme Pro/Data/DG/NAPA20140902_WV02_OrthoPAN/016277095010_01_003/016277095010_01/016277095010_01_P001_PAN/14SEP02192604-P3DS_R1C3-016277095010_01_P001.TIF',\n",
    "            '/Volumes/Extreme Pro/Data/DG/NAPA20140902_WV02_OrthoPAN/016277095010_01_003/016277095010_01/016277095010_01_P001_PAN/14SEP02192604-P3DS_R2C1-016277095010_01_P001.TIF',\n",
    "            '/Volumes/Extreme Pro/Data/DG/NAPA20140902_WV02_OrthoPAN/016277095010_01_003/016277095010_01/016277095010_01_P001_PAN/14SEP02192604-P3DS_R2C2-016277095010_01_P001.TIF',\n",
    "            '/Volumes/Extreme Pro/Data/DG/NAPA20140902_WV02_OrthoPAN/016277095010_01_003/016277095010_01/016277095010_01_P001_PAN/14SEP02192604-P3DS_R2C3-016277095010_01_P001.TIF',\n",
    "            '/Volumes/Extreme Pro/Data/DG/NAPA20140902_WV02_OrthoPAN/016277095010_01_003/016277095010_01/016277095010_01_P001_PAN/14SEP02192604-P3DS_R3C1-016277095010_01_P001.TIF',\n",
    "            '/Volumes/Extreme Pro/Data/DG/NAPA20140902_WV02_OrthoPAN/016277095010_01_003/016277095010_01/016277095010_01_P001_PAN/14SEP02192604-P3DS_R3C2-016277095010_01_P001.TIF',\n",
    "            '/Volumes/Extreme Pro/Data/DG/NAPA20140902_WV02_OrthoPAN/016277095010_01_003/016277095010_01/016277095010_01_P001_PAN/14SEP02192604-P3DS_R3C3-016277095010_01_P001.TIF']"
   ]
  },
  {
   "cell_type": "code",
   "execution_count": 12,
   "metadata": {},
   "outputs": [],
   "source": [
    "preFiles = ['/Volumes/Extreme Pro/Data/DG/NAPA20120419_GEO1_OrthoPAN/016277096010_01_003/016277096010_01/016277096010_01_P001_PAN/12APR19190556-P3DS_R3C6-016277096010_01_P001.TIF',\n",
    "            '/Volumes/Extreme Pro/Data/DG/NAPA20120419_GEO1_OrthoPAN/016277096010_01_003/016277096010_01/016277096010_01_P001_PAN/12APR19190556-P3DS_R3C5-016277096010_01_P001.TIF',\n",
    "            '/Volumes/Extreme Pro/Data/DG/NAPA20120419_GEO1_OrthoPAN/016277096010_01_003/016277096010_01/016277096010_01_P001_PAN/12APR19190556-P3DS_R3C4-016277096010_01_P001.TIF',\n",
    "            '/Volumes/Extreme Pro/Data/DG/NAPA20120419_GEO1_OrthoPAN/016277096010_01_003/016277096010_01/016277096010_01_P001_PAN/12APR19190556-P3DS_R2C6-016277096010_01_P001.TIF',\n",
    "            '/Volumes/Extreme Pro/Data/DG/NAPA20120419_GEO1_OrthoPAN/016277096010_01_003/016277096010_01/016277096010_01_P001_PAN/12APR19190556-P3DS_R2C5-016277096010_01_P001.TIF',\n",
    "            '/Volumes/Extreme Pro/Data/DG/NAPA20120419_GEO1_OrthoPAN/016277096010_01_003/016277096010_01/016277096010_01_P001_PAN/12APR19190556-P3DS_R2C4-016277096010_01_P001.TIF',\n",
    "            '/Volumes/Extreme Pro/Data/DG/NAPA20120419_GEO1_OrthoPAN/016277096010_01_003/016277096010_01/016277096010_01_P001_PAN/12APR19190556-P3DS_R1C6-016277096010_01_P001.TIF',\n",
    "            '/Volumes/Extreme Pro/Data/DG/NAPA20120419_GEO1_OrthoPAN/016277096010_01_003/016277096010_01/016277096010_01_P001_PAN/12APR19190556-P3DS_R1C5-016277096010_01_P001.TIF',\n",
    "            '/Volumes/Extreme Pro/Data/DG/NAPA20120419_GEO1_OrthoPAN/016277096010_01_003/016277096010_01/016277096010_01_P001_PAN/12APR19190556-P3DS_R1C4-016277096010_01_P001.TIF'] "
   ]
  },
  {
   "cell_type": "code",
   "execution_count": 5,
   "metadata": {},
   "outputs": [],
   "source": [
    "im = gdal.Open(postFiles[0])"
   ]
  },
  {
   "cell_type": "code",
   "execution_count": 11,
   "metadata": {},
   "outputs": [
    {
     "data": {
      "text/plain": [
       "<osgeo.gdal.Dataset; proxy of <Swig Object of type 'GDALDatasetShadow *' at 0x11b00ae10> >"
      ]
     },
     "execution_count": 11,
     "metadata": {},
     "output_type": "execute_result"
    }
   ],
   "source": [
    "a_ullr = [552460,4239506,563531,4228925]\n",
    "bounds = [a_ullr[0], a_ullr[3], a_ullr[2], a_ullr[1]]\n",
    "gdal.Warp('/Volumes/Extreme Pro/Data/DG/Mosaics/NAPA20140902_WV02_OrthoPAN_mosaic.tif',postFiles,\n",
    "        xRes=0.45, yRes=-0.45,outputBounds=bounds, dstSRS='EPSG:32610', resampleAlg='cubic',\n",
    "        outputType=gdal.GDT_Float32)"
   ]
  },
  {
   "cell_type": "code",
   "execution_count": 13,
   "metadata": {},
   "outputs": [
    {
     "data": {
      "text/plain": [
       "<osgeo.gdal.Dataset; proxy of <Swig Object of type 'GDALDatasetShadow *' at 0x1167fa5d0> >"
      ]
     },
     "execution_count": 13,
     "metadata": {},
     "output_type": "execute_result"
    }
   ],
   "source": [
    "gdal.Warp('/Volumes/Extreme Pro/Data/DG/Mosaics/NAPA20120419_GEO1_OrthoPAN_mosaic.tif',preFiles,\n",
    "        xRes=0.45, yRes=-0.45,outputBounds=bounds, dstSRS='EPSG:32610', resampleAlg='cubic',\n",
    "        outputType=gdal.GDT_Float32)    "
   ]
  },
  {
   "cell_type": "code",
   "execution_count": 20,
   "metadata": {},
   "outputs": [],
   "source": [
    "# Tried to better orthorectify the 2012 capture, to little avail. Will try anyway with aligned photos.\n",
    "# Prep for micmac.\n",
    "imf = '/Volumes/Extreme Pro/Data/DG/Mosaics/NAPA20120419_GEO1_OrthoPAN_mosaic_modifiedProj.tif'\n",
    "tt.micmacExport(imf,'mmNAPA20120419_GEO1_OrthoPAN.tif',a_ullr=[553725,4239037,563018,4229308])\n",
    "imf = '/Volumes/Extreme Pro/Data/DG/Mosaics/NAPA20140902_WV02_OrthoPAN_mosaic_modified.tif'\n",
    "tt.micmacExport(imf,'mmNAPA20140902_WV02_OrthoPAN.tif',a_ullr=[553725,4239037,563018,4229308])\n"
   ]
  },
  {
   "cell_type": "code",
   "execution_count": 21,
   "metadata": {},
   "outputs": [
    {
     "data": {
      "text/plain": [
       "0.49019607843137253"
      ]
     },
     "execution_count": 21,
     "metadata": {},
     "output_type": "execute_result"
    }
   ],
   "source": []
  },
  {
   "cell_type": "code",
   "execution_count": 19,
   "metadata": {},
   "outputs": [
    {
     "name": "stdout",
     "output_type": "stream",
     "text": [
      "-a_ullr 552456.842 4239508.261 563527.742 4228927.411\n"
     ]
    }
   ],
   "source": [
    "print('-a_ullr',552460.0000000000000000-3.158, 4239506.0000000000000000+2.261,563530.9000000000232831-3.158,4228925.1500000003725290+2.261,sep=' ')"
   ]
  },
  {
   "cell_type": "code",
   "execution_count": null,
   "metadata": {},
   "outputs": [],
   "source": []
  }
 ],
 "metadata": {
  "kernelspec": {
   "display_name": "asp",
   "language": "python",
   "name": "python3"
  },
  "language_info": {
   "codemirror_mode": {
    "name": "ipython",
    "version": 3
   },
   "file_extension": ".py",
   "mimetype": "text/x-python",
   "name": "python",
   "nbconvert_exporter": "python",
   "pygments_lexer": "ipython3",
   "version": "3.9.18"
  }
 },
 "nbformat": 4,
 "nbformat_minor": 2
}
