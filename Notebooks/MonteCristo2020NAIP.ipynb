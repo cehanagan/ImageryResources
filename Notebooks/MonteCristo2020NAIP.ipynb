{
 "cells": [
  {
   "cell_type": "code",
   "execution_count": 4,
   "metadata": {},
   "outputs": [],
   "source": [
    "from osgeo import gdal\n",
    "import numpy as np\n",
    "import pandas as pd\n",
    "import os\n",
    "#import pandas as pd\n",
    "import matplotlib.pyplot as plt\n",
    "import sys\n",
    "sys.path.append('../Functions')\n",
    "import TiffTools as tt\n",
    "\n",
    "%load_ext autoreload\n",
    "%autoreload 2"
   ]
  },
  {
   "cell_type": "code",
   "execution_count": 2,
   "metadata": {},
   "outputs": [],
   "source": [
    "folder = '/Users/chanagan/Library/CloudStorage/OneDrive-DOI/Projects/MonteCristo/NAIP/'"
   ]
  },
  {
   "cell_type": "code",
   "execution_count": 14,
   "metadata": {},
   "outputs": [
    {
     "name": "stdout",
     "output_type": "stream",
     "text": [
      "\u001b[31mm_3711701_ne_11_060_20220614.tif\u001b[m\u001b[m \u001b[31mm_3811758_nw_11_060_20220616.tif\u001b[m\u001b[m\n",
      "\u001b[31mm_3711701_nw_11_060_20220614.tif\u001b[m\u001b[m \u001b[31mm_3811758_se_11_060_20220614.tif\u001b[m\u001b[m\n",
      "\u001b[31mm_3711702_ne_11_060_20220614.tif\u001b[m\u001b[m \u001b[31mm_3811758_sw_11_060_20220614.tif\u001b[m\u001b[m\n",
      "\u001b[31mm_3711702_nw_11_060_20220614.tif\u001b[m\u001b[m \u001b[31mm_3811759_ne_11_060_20220616.tif\u001b[m\u001b[m\n",
      "\u001b[31mm_3711703_ne_11_060_20220710.tif\u001b[m\u001b[m \u001b[31mm_3811759_nw_11_060_20220616.tif\u001b[m\u001b[m\n",
      "\u001b[31mm_3711703_nw_11_060_20220614.tif\u001b[m\u001b[m \u001b[31mm_3811759_se_11_060_20220710.tif\u001b[m\u001b[m\n",
      "\u001b[31mm_3711704_nw_11_060_20220629.tif\u001b[m\u001b[m \u001b[31mm_3811759_sw_11_060_20220614.tif\u001b[m\u001b[m\n",
      "\u001b[31mm_3711806_ne_11_060_20220614.tif\u001b[m\u001b[m \u001b[31mm_3811760_nw_11_060_20220616.tif\u001b[m\u001b[m\n",
      "\u001b[31mm_3711806_nw_11_060_20220614.tif\u001b[m\u001b[m \u001b[31mm_3811760_sw_11_060_20220629.tif\u001b[m\u001b[m\n",
      "\u001b[31mm_3711807_ne_11_060_20220614.tif\u001b[m\u001b[m \u001b[31mm_3811846_ne_11_060_20220614.tif\u001b[m\u001b[m\n",
      "\u001b[31mm_3711807_nw_11_060_20220614.tif\u001b[m\u001b[m \u001b[31mm_3811846_nw_11_060_20220614.tif\u001b[m\u001b[m\n",
      "\u001b[31mm_3711808_ne_11_060_20220614.tif\u001b[m\u001b[m \u001b[31mm_3811846_se_11_060_20220614.tif\u001b[m\u001b[m\n",
      "\u001b[31mm_3711808_nw_11_060_20220614.tif\u001b[m\u001b[m \u001b[31mm_3811846_sw_11_060_20220614.tif\u001b[m\u001b[m\n",
      "\u001b[31mm_3811741_ne_11_060_20220616.tif\u001b[m\u001b[m \u001b[31mm_3811847_ne_11_060_20220614.tif\u001b[m\u001b[m\n",
      "\u001b[31mm_3811741_nw_11_060_20220616.tif\u001b[m\u001b[m \u001b[31mm_3811847_nw_11_060_20220614.tif\u001b[m\u001b[m\n",
      "\u001b[31mm_3811741_se_11_060_20220616.tif\u001b[m\u001b[m \u001b[31mm_3811847_se_11_060_20220614.tif\u001b[m\u001b[m\n",
      "\u001b[31mm_3811741_sw_11_060_20220616.tif\u001b[m\u001b[m \u001b[31mm_3811847_sw_11_060_20220614.tif\u001b[m\u001b[m\n",
      "\u001b[31mm_3811742_ne_11_060_20220616.tif\u001b[m\u001b[m \u001b[31mm_3811848_ne_11_060_20220614.tif\u001b[m\u001b[m\n",
      "\u001b[31mm_3811742_nw_11_060_20220616.tif\u001b[m\u001b[m \u001b[31mm_3811848_nw_11_060_20220614.tif\u001b[m\u001b[m\n",
      "\u001b[31mm_3811742_se_11_060_20220616.tif\u001b[m\u001b[m \u001b[31mm_3811848_se_11_060_20220614.tif\u001b[m\u001b[m\n",
      "\u001b[31mm_3811742_sw_11_060_20220616.tif\u001b[m\u001b[m \u001b[31mm_3811848_sw_11_060_20220614.tif\u001b[m\u001b[m\n",
      "\u001b[31mm_3811743_ne_11_060_20220616.tif\u001b[m\u001b[m \u001b[31mm_3811854_ne_11_060_20220614.tif\u001b[m\u001b[m\n",
      "\u001b[31mm_3811743_nw_11_060_20220616.tif\u001b[m\u001b[m \u001b[31mm_3811854_nw_11_060_20220614.tif\u001b[m\u001b[m\n",
      "\u001b[31mm_3811743_se_11_060_20220616.tif\u001b[m\u001b[m \u001b[31mm_3811854_se_11_060_20220614.tif\u001b[m\u001b[m\n",
      "\u001b[31mm_3811743_sw_11_060_20220616.tif\u001b[m\u001b[m \u001b[31mm_3811854_sw_11_060_20220614.tif\u001b[m\u001b[m\n",
      "\u001b[31mm_3811744_nw_11_060_20220616.tif\u001b[m\u001b[m \u001b[31mm_3811855_ne_11_060_20220614.tif\u001b[m\u001b[m\n",
      "\u001b[31mm_3811744_sw_11_060_20220616.tif\u001b[m\u001b[m \u001b[31mm_3811855_nw_11_060_20220614.tif\u001b[m\u001b[m\n",
      "\u001b[31mm_3811749_ne_11_060_20220616.tif\u001b[m\u001b[m \u001b[31mm_3811855_se_11_060_20220614.tif\u001b[m\u001b[m\n",
      "\u001b[31mm_3811749_nw_11_060_20220616.tif\u001b[m\u001b[m \u001b[31mm_3811855_sw_11_060_20220614.tif\u001b[m\u001b[m\n",
      "\u001b[31mm_3811749_se_11_060_20220616.tif\u001b[m\u001b[m \u001b[31mm_3811856_ne_11_060_20220614.tif\u001b[m\u001b[m\n",
      "\u001b[31mm_3811749_sw_11_060_20220616.tif\u001b[m\u001b[m \u001b[31mm_3811856_nw_11_060_20220614.tif\u001b[m\u001b[m\n",
      "\u001b[31mm_3811750_ne_11_060_20220616.tif\u001b[m\u001b[m \u001b[31mm_3811856_se_11_060_20220614.tif\u001b[m\u001b[m\n",
      "\u001b[31mm_3811750_nw_11_060_20220616.tif\u001b[m\u001b[m \u001b[31mm_3811856_sw_11_060_20220614.tif\u001b[m\u001b[m\n",
      "\u001b[31mm_3811750_se_11_060_20220616.tif\u001b[m\u001b[m \u001b[31mm_3811862_ne_11_060_20220614.tif\u001b[m\u001b[m\n",
      "\u001b[31mm_3811750_sw_11_060_20220616.tif\u001b[m\u001b[m \u001b[31mm_3811862_nw_11_060_20220614.tif\u001b[m\u001b[m\n",
      "\u001b[31mm_3811751_ne_11_060_20220616.tif\u001b[m\u001b[m \u001b[31mm_3811862_se_11_060_20220614.tif\u001b[m\u001b[m\n",
      "\u001b[31mm_3811751_nw_11_060_20220616.tif\u001b[m\u001b[m \u001b[31mm_3811862_sw_11_060_20220614.tif\u001b[m\u001b[m\n",
      "\u001b[31mm_3811751_se_11_060_20220616.tif\u001b[m\u001b[m \u001b[31mm_3811863_ne_11_060_20220614.tif\u001b[m\u001b[m\n",
      "\u001b[31mm_3811751_sw_11_060_20220616.tif\u001b[m\u001b[m \u001b[31mm_3811863_nw_11_060_20220614.tif\u001b[m\u001b[m\n",
      "\u001b[31mm_3811752_nw_11_060_20220616.tif\u001b[m\u001b[m \u001b[31mm_3811863_se_11_060_20220614.tif\u001b[m\u001b[m\n",
      "\u001b[31mm_3811752_sw_11_060_20220616.tif\u001b[m\u001b[m \u001b[31mm_3811863_sw_11_060_20220614.tif\u001b[m\u001b[m\n",
      "\u001b[31mm_3811757_ne_11_060_20220616.tif\u001b[m\u001b[m \u001b[31mm_3811864_ne_11_060_20220614.tif\u001b[m\u001b[m\n",
      "\u001b[31mm_3811757_nw_11_060_20220616.tif\u001b[m\u001b[m \u001b[31mm_3811864_nw_11_060_20220614.tif\u001b[m\u001b[m\n",
      "\u001b[31mm_3811757_se_11_060_20220614.tif\u001b[m\u001b[m \u001b[31mm_3811864_se_11_060_20220614.tif\u001b[m\u001b[m\n",
      "\u001b[31mm_3811757_sw_11_060_20220614.tif\u001b[m\u001b[m \u001b[31mm_3811864_sw_11_060_20220614.tif\u001b[m\u001b[m\n",
      "\u001b[31mm_3811758_ne_11_060_20220616.tif\u001b[m\u001b[m\n"
     ]
    }
   ],
   "source": [
    "!ls /Volumes/Extreme\\ Pro/big_data/NAIP_MC/2022MC/"
   ]
  },
  {
   "cell_type": "code",
   "execution_count": null,
   "metadata": {},
   "outputs": [],
   "source": [
    "# omit /Volumes/Extreme\\ Pro/big_data/NAIP_MC/2022MC/m_3811752_nw_11_060_20220616.tif"
   ]
  },
  {
   "cell_type": "code",
   "execution_count": 16,
   "metadata": {},
   "outputs": [
    {
     "name": "stdout",
     "output_type": "stream",
     "text": [
      "0...10...20...30...40...50...60...70...80...90...100 - done.\n"
     ]
    }
   ],
   "source": [
    "# Merge 2019 and 2020 NAIP orthos\n",
    "#!ls /Volumes/Extreme\\ Pro/big_data/NAIP_MC/*2022*/*.tif\n",
    "!gdal_merge /Volumes/Extreme\\ Pro/big_data/NAIP_MC/2022MC/m_3711701_ne_11_060_20220614.tif /Volumes/Extreme\\ Pro/big_data/NAIP_MC/2022MC/m_3711701_nw_11_060_20220614.tif /Volumes/Extreme\\ Pro/big_data/NAIP_MC/2022MC/m_3711702_ne_11_060_20220614.tif /Volumes/Extreme\\ Pro/big_data/NAIP_MC/2022MC/m_3711702_nw_11_060_20220614.tif /Volumes/Extreme\\ Pro/big_data/NAIP_MC/2022MC/m_3711703_ne_11_060_20220710.tif /Volumes/Extreme\\ Pro/big_data/NAIP_MC/2022MC/m_3711703_nw_11_060_20220614.tif /Volumes/Extreme\\ Pro/big_data/NAIP_MC/2022MC/m_3711704_nw_11_060_20220629.tif /Volumes/Extreme\\ Pro/big_data/NAIP_MC/2022MC/m_3711806_ne_11_060_20220614.tif /Volumes/Extreme\\ Pro/big_data/NAIP_MC/2022MC/m_3711806_nw_11_060_20220614.tif /Volumes/Extreme\\ Pro/big_data/NAIP_MC/2022MC/m_3711807_ne_11_060_20220614.tif /Volumes/Extreme\\ Pro/big_data/NAIP_MC/2022MC/m_3711807_nw_11_060_20220614.tif /Volumes/Extreme\\ Pro/big_data/NAIP_MC/2022MC/m_3711808_ne_11_060_20220614.tif /Volumes/Extreme\\ Pro/big_data/NAIP_MC/2022MC/m_3711808_nw_11_060_20220614.tif /Volumes/Extreme\\ Pro/big_data/NAIP_MC/2022MC/m_3811741_ne_11_060_20220616.tif /Volumes/Extreme\\ Pro/big_data/NAIP_MC/2022MC/m_3811741_nw_11_060_20220616.tif /Volumes/Extreme\\ Pro/big_data/NAIP_MC/2022MC/m_3811741_se_11_060_20220616.tif /Volumes/Extreme\\ Pro/big_data/NAIP_MC/2022MC/m_3811741_sw_11_060_20220616.tif /Volumes/Extreme\\ Pro/big_data/NAIP_MC/2022MC/m_3811742_ne_11_060_20220616.tif /Volumes/Extreme\\ Pro/big_data/NAIP_MC/2022MC/m_3811742_nw_11_060_20220616.tif /Volumes/Extreme\\ Pro/big_data/NAIP_MC/2022MC/m_3811742_se_11_060_20220616.tif /Volumes/Extreme\\ Pro/big_data/NAIP_MC/2022MC/m_3811742_sw_11_060_20220616.tif /Volumes/Extreme\\ Pro/big_data/NAIP_MC/2022MC/m_3811743_ne_11_060_20220616.tif /Volumes/Extreme\\ Pro/big_data/NAIP_MC/2022MC/m_3811743_nw_11_060_20220616.tif /Volumes/Extreme\\ Pro/big_data/NAIP_MC/2022MC/m_3811743_se_11_060_20220616.tif /Volumes/Extreme\\ Pro/big_data/NAIP_MC/2022MC/m_3811743_sw_11_060_20220616.tif /Volumes/Extreme\\ Pro/big_data/NAIP_MC/2022MC/m_3811744_nw_11_060_20220616.tif /Volumes/Extreme\\ Pro/big_data/NAIP_MC/2022MC/m_3811744_sw_11_060_20220616.tif /Volumes/Extreme\\ Pro/big_data/NAIP_MC/2022MC/m_3811749_ne_11_060_20220616.tif /Volumes/Extreme\\ Pro/big_data/NAIP_MC/2022MC/m_3811749_nw_11_060_20220616.tif /Volumes/Extreme\\ Pro/big_data/NAIP_MC/2022MC/m_3811749_se_11_060_20220616.tif /Volumes/Extreme\\ Pro/big_data/NAIP_MC/2022MC/m_3811749_sw_11_060_20220616.tif /Volumes/Extreme\\ Pro/big_data/NAIP_MC/2022MC/m_3811750_ne_11_060_20220616.tif /Volumes/Extreme\\ Pro/big_data/NAIP_MC/2022MC/m_3811750_nw_11_060_20220616.tif /Volumes/Extreme\\ Pro/big_data/NAIP_MC/2022MC/m_3811750_se_11_060_20220616.tif /Volumes/Extreme\\ Pro/big_data/NAIP_MC/2022MC/m_3811750_sw_11_060_20220616.tif /Volumes/Extreme\\ Pro/big_data/NAIP_MC/2022MC/m_3811751_ne_11_060_20220616.tif /Volumes/Extreme\\ Pro/big_data/NAIP_MC/2022MC/m_3811751_nw_11_060_20220616.tif /Volumes/Extreme\\ Pro/big_data/NAIP_MC/2022MC/m_3811751_se_11_060_20220616.tif /Volumes/Extreme\\ Pro/big_data/NAIP_MC/2022MC/m_3811751_sw_11_060_20220616.tif  /Volumes/Extreme\\ Pro/big_data/NAIP_MC/2022MC/m_3811752_sw_11_060_20220616.tif /Volumes/Extreme\\ Pro/big_data/NAIP_MC/2022MC/m_3811757_ne_11_060_20220616.tif /Volumes/Extreme\\ Pro/big_data/NAIP_MC/2022MC/m_3811757_nw_11_060_20220616.tif /Volumes/Extreme\\ Pro/big_data/NAIP_MC/2022MC/m_3811757_se_11_060_20220614.tif /Volumes/Extreme\\ Pro/big_data/NAIP_MC/2022MC/m_3811757_sw_11_060_20220614.tif /Volumes/Extreme\\ Pro/big_data/NAIP_MC/2022MC/m_3811758_ne_11_060_20220616.tif /Volumes/Extreme\\ Pro/big_data/NAIP_MC/2022MC/m_3811758_nw_11_060_20220616.tif /Volumes/Extreme\\ Pro/big_data/NAIP_MC/2022MC/m_3811758_se_11_060_20220614.tif /Volumes/Extreme\\ Pro/big_data/NAIP_MC/2022MC/m_3811758_sw_11_060_20220614.tif /Volumes/Extreme\\ Pro/big_data/NAIP_MC/2022MC/m_3811759_ne_11_060_20220616.tif /Volumes/Extreme\\ Pro/big_data/NAIP_MC/2022MC/m_3811759_nw_11_060_20220616.tif /Volumes/Extreme\\ Pro/big_data/NAIP_MC/2022MC/m_3811759_se_11_060_20220710.tif /Volumes/Extreme\\ Pro/big_data/NAIP_MC/2022MC/m_3811759_sw_11_060_20220614.tif /Volumes/Extreme\\ Pro/big_data/NAIP_MC/2022MC/m_3811760_nw_11_060_20220616.tif /Volumes/Extreme\\ Pro/big_data/NAIP_MC/2022MC/m_3811760_sw_11_060_20220629.tif /Volumes/Extreme\\ Pro/big_data/NAIP_MC/2022MC/m_3811846_ne_11_060_20220614.tif /Volumes/Extreme\\ Pro/big_data/NAIP_MC/2022MC/m_3811846_nw_11_060_20220614.tif /Volumes/Extreme\\ Pro/big_data/NAIP_MC/2022MC/m_3811846_se_11_060_20220614.tif /Volumes/Extreme\\ Pro/big_data/NAIP_MC/2022MC/m_3811846_sw_11_060_20220614.tif /Volumes/Extreme\\ Pro/big_data/NAIP_MC/2022MC/m_3811847_ne_11_060_20220614.tif /Volumes/Extreme\\ Pro/big_data/NAIP_MC/2022MC/m_3811847_nw_11_060_20220614.tif /Volumes/Extreme\\ Pro/big_data/NAIP_MC/2022MC/m_3811847_se_11_060_20220614.tif /Volumes/Extreme\\ Pro/big_data/NAIP_MC/2022MC/m_3811847_sw_11_060_20220614.tif /Volumes/Extreme\\ Pro/big_data/NAIP_MC/2022MC/m_3811848_ne_11_060_20220614.tif /Volumes/Extreme\\ Pro/big_data/NAIP_MC/2022MC/m_3811848_nw_11_060_20220614.tif /Volumes/Extreme\\ Pro/big_data/NAIP_MC/2022MC/m_3811848_se_11_060_20220614.tif /Volumes/Extreme\\ Pro/big_data/NAIP_MC/2022MC/m_3811848_sw_11_060_20220614.tif /Volumes/Extreme\\ Pro/big_data/NAIP_MC/2022MC/m_3811854_ne_11_060_20220614.tif /Volumes/Extreme\\ Pro/big_data/NAIP_MC/2022MC/m_3811854_nw_11_060_20220614.tif /Volumes/Extreme\\ Pro/big_data/NAIP_MC/2022MC/m_3811854_se_11_060_20220614.tif /Volumes/Extreme\\ Pro/big_data/NAIP_MC/2022MC/m_3811854_sw_11_060_20220614.tif /Volumes/Extreme\\ Pro/big_data/NAIP_MC/2022MC/m_3811855_ne_11_060_20220614.tif /Volumes/Extreme\\ Pro/big_data/NAIP_MC/2022MC/m_3811855_nw_11_060_20220614.tif /Volumes/Extreme\\ Pro/big_data/NAIP_MC/2022MC/m_3811855_se_11_060_20220614.tif /Volumes/Extreme\\ Pro/big_data/NAIP_MC/2022MC/m_3811855_sw_11_060_20220614.tif /Volumes/Extreme\\ Pro/big_data/NAIP_MC/2022MC/m_3811856_ne_11_060_20220614.tif /Volumes/Extreme\\ Pro/big_data/NAIP_MC/2022MC/m_3811856_nw_11_060_20220614.tif /Volumes/Extreme\\ Pro/big_data/NAIP_MC/2022MC/m_3811856_se_11_060_20220614.tif /Volumes/Extreme\\ Pro/big_data/NAIP_MC/2022MC/m_3811856_sw_11_060_20220614.tif /Volumes/Extreme\\ Pro/big_data/NAIP_MC/2022MC/m_3811862_ne_11_060_20220614.tif /Volumes/Extreme\\ Pro/big_data/NAIP_MC/2022MC/m_3811862_nw_11_060_20220614.tif /Volumes/Extreme\\ Pro/big_data/NAIP_MC/2022MC/m_3811862_se_11_060_20220614.tif /Volumes/Extreme\\ Pro/big_data/NAIP_MC/2022MC/m_3811862_sw_11_060_20220614.tif /Volumes/Extreme\\ Pro/big_data/NAIP_MC/2022MC/m_3811863_ne_11_060_20220614.tif /Volumes/Extreme\\ Pro/big_data/NAIP_MC/2022MC/m_3811863_nw_11_060_20220614.tif /Volumes/Extreme\\ Pro/big_data/NAIP_MC/2022MC/m_3811863_se_11_060_20220614.tif /Volumes/Extreme\\ Pro/big_data/NAIP_MC/2022MC/m_3811863_sw_11_060_20220614.tif /Volumes/Extreme\\ Pro/big_data/NAIP_MC/2022MC/m_3811864_ne_11_060_20220614.tif /Volumes/Extreme\\ Pro/big_data/NAIP_MC/2022MC/m_3811864_nw_11_060_20220614.tif /Volumes/Extreme\\ Pro/big_data/NAIP_MC/2022MC/m_3811864_se_11_060_20220614.tif /Volumes/Extreme\\ Pro/big_data/NAIP_MC/2022MC/m_3811864_sw_11_060_20220614.tif \\\n",
    "    -o /Volumes/Extreme\\ Pro/Projects/MonteCristo/NAIP/2022NAIP_MosaicMC.tif "
   ]
  },
  {
   "cell_type": "code",
   "execution_count": 17,
   "metadata": {},
   "outputs": [
    {
     "name": "stdout",
     "output_type": "stream",
     "text": [
      "Warning 1: m_3711701_ne_11_060_20190810.tif: TIFFReadDirectory:Sum of Photometric type-related color channels and ExtraSamples doesn't match SamplesPerPixel. Defining non-color channels as ExtraSamples.\n",
      "Warning 1: m_3811758_nw_11_060_20190810.tif: TIFFReadDirectory:Sum of Photometric type-related color channels and ExtraSamples doesn't match SamplesPerPixel. Defining non-color channels as ExtraSamples.\n",
      "Warning 1: m_3711702_nw_11_060_20190810.tif: TIFFReadDirectory:Sum of Photometric type-related color channels and ExtraSamples doesn't match SamplesPerPixel. Defining non-color channels as ExtraSamples.\n",
      "Warning 1: m_3811759_ne_11_060_20190811.tif: TIFFReadDirectory:Sum of Photometric type-related color channels and ExtraSamples doesn't match SamplesPerPixel. Defining non-color channels as ExtraSamples.\n",
      "Warning 1: m_3711703_ne_11_060_20190811.tif: TIFFReadDirectory:Sum of Photometric type-related color channels and ExtraSamples doesn't match SamplesPerPixel. Defining non-color channels as ExtraSamples.\n",
      "Warning 1: m_3811759_nw_11_060_20190810.tif: TIFFReadDirectory:Sum of Photometric type-related color channels and ExtraSamples doesn't match SamplesPerPixel. Defining non-color channels as ExtraSamples.\n",
      "Warning 1: m_3711806_ne_11_060_20190811.tif: TIFFReadDirectory:Sum of Photometric type-related color channels and ExtraSamples doesn't match SamplesPerPixel. Defining non-color channels as ExtraSamples.\n",
      "Warning 1: m_3711806_nw_11_060_20190811.tif: TIFFReadDirectory:Sum of Photometric type-related color channels and ExtraSamples doesn't match SamplesPerPixel. Defining non-color channels as ExtraSamples.\n",
      "Warning 1: m_3811846_nw_11_060_20190811.tif: TIFFReadDirectory:Sum of Photometric type-related color channels and ExtraSamples doesn't match SamplesPerPixel. Defining non-color channels as ExtraSamples.\n",
      "Warning 1: m_3811846_se_11_060_20190811.tif: TIFFReadDirectory:Sum of Photometric type-related color channels and ExtraSamples doesn't match SamplesPerPixel. Defining non-color channels as ExtraSamples.\n",
      "Warning 1: m_3811846_sw_11_060_20190811.tif: TIFFReadDirectory:Sum of Photometric type-related color channels and ExtraSamples doesn't match SamplesPerPixel. Defining non-color channels as ExtraSamples.\n",
      "Warning 1: m_3811741_ne_11_060_20190810.tif: TIFFReadDirectory:Sum of Photometric type-related color channels and ExtraSamples doesn't match SamplesPerPixel. Defining non-color channels as ExtraSamples.\n",
      "Warning 1: m_3811848_ne_11_060_20190810.tif: TIFFReadDirectory:Sum of Photometric type-related color channels and ExtraSamples doesn't match SamplesPerPixel. Defining non-color channels as ExtraSamples.\n",
      "Warning 1: m_3811742_nw_11_060_20190810.tif: TIFFReadDirectory:Sum of Photometric type-related color channels and ExtraSamples doesn't match SamplesPerPixel. Defining non-color channels as ExtraSamples.\n",
      "Warning 1: m_3811743_ne_11_060_20190811.tif: TIFFReadDirectory:Sum of Photometric type-related color channels and ExtraSamples doesn't match SamplesPerPixel. Defining non-color channels as ExtraSamples.\n",
      "Warning 1: m_3811743_nw_11_060_20190810.tif: TIFFReadDirectory:Sum of Photometric type-related color channels and ExtraSamples doesn't match SamplesPerPixel. Defining non-color channels as ExtraSamples.\n",
      "Warning 1: m_3811743_se_11_060_20190811.tif: TIFFReadDirectory:Sum of Photometric type-related color channels and ExtraSamples doesn't match SamplesPerPixel. Defining non-color channels as ExtraSamples.\n",
      "Warning 1: m_3811743_sw_11_060_20190810.tif: TIFFReadDirectory:Sum of Photometric type-related color channels and ExtraSamples doesn't match SamplesPerPixel. Defining non-color channels as ExtraSamples.\n",
      "Warning 1: m_3811744_sw_11_060_20190811.tif: TIFFReadDirectory:Sum of Photometric type-related color channels and ExtraSamples doesn't match SamplesPerPixel. Defining non-color channels as ExtraSamples.\n",
      "Warning 1: m_3811750_nw_11_060_20190810.tif: TIFFReadDirectory:Sum of Photometric type-related color channels and ExtraSamples doesn't match SamplesPerPixel. Defining non-color channels as ExtraSamples.\n",
      "Warning 1: m_3811750_se_11_060_20190810.tif: TIFFReadDirectory:Sum of Photometric type-related color channels and ExtraSamples doesn't match SamplesPerPixel. Defining non-color channels as ExtraSamples.\n",
      "Warning 1: m_3811750_sw_11_060_20190810.tif: TIFFReadDirectory:Sum of Photometric type-related color channels and ExtraSamples doesn't match SamplesPerPixel. Defining non-color channels as ExtraSamples.\n",
      "Warning 1: m_3811751_ne_11_060_20190811.tif: TIFFReadDirectory:Sum of Photometric type-related color channels and ExtraSamples doesn't match SamplesPerPixel. Defining non-color channels as ExtraSamples.\n",
      "Warning 1: m_3811751_nw_11_060_20190810.tif: TIFFReadDirectory:Sum of Photometric type-related color channels and ExtraSamples doesn't match SamplesPerPixel. Defining non-color channels as ExtraSamples.\n",
      "Warning 1: m_3811862_sw_11_060_20190811.tif: TIFFReadDirectory:Sum of Photometric type-related color channels and ExtraSamples doesn't match SamplesPerPixel. Defining non-color channels as ExtraSamples.\n",
      "Warning 1: m_3811751_se_11_060_20190811.tif: TIFFReadDirectory:Sum of Photometric type-related color channels and ExtraSamples doesn't match SamplesPerPixel. Defining non-color channels as ExtraSamples.\n",
      "Warning 1: m_3811751_sw_11_060_20190810.tif: TIFFReadDirectory:Sum of Photometric type-related color channels and ExtraSamples doesn't match SamplesPerPixel. Defining non-color channels as ExtraSamples.\n",
      "Warning 1: m_3811752_nw_11_060_20190811.tif: TIFFReadDirectory:Sum of Photometric type-related color channels and ExtraSamples doesn't match SamplesPerPixel. Defining non-color channels as ExtraSamples.\n",
      "Warning 1: m_3811752_sw_11_060_20190811.tif: TIFFReadDirectory:Sum of Photometric type-related color channels and ExtraSamples doesn't match SamplesPerPixel. Defining non-color channels as ExtraSamples.\n",
      "Warning 1: m_3811758_ne_11_060_20190810.tif: TIFFReadDirectory:Sum of Photometric type-related color channels and ExtraSamples doesn't match SamplesPerPixel. Defining non-color channels as ExtraSamples.\n",
      "0Warning 1: m_3711701_ne_11_060_20190810.tif: TIFFReadDirectory:Sum of Photometric type-related color channels and ExtraSamples doesn't match SamplesPerPixel. Defining non-color channels as ExtraSamples.\n",
      "Warning 1: TIFFReadDirectory:Sum of Photometric type-related color channels and ExtraSamples doesn't match SamplesPerPixel. Defining non-color channels as ExtraSamples.\n",
      "Warning 1: m_3711701_ne_11_060_20190810.tif: TIFFReadDirectory:Sum of Photometric type-related color channels and ExtraSamples doesn't match SamplesPerPixel. Defining non-color channels as ExtraSamples.\n",
      "Warning 1: TIFFReadDirectory:Sum of Photometric type-related color channels and ExtraSamples doesn't match SamplesPerPixel. Defining non-color channels as ExtraSamples.\n",
      "Warning 1: m_3711701_ne_11_060_20190810.tif: TIFFReadDirectory:Sum of Photometric type-related color channels and ExtraSamples doesn't match SamplesPerPixel. Defining non-color channels as ExtraSamples.\n",
      "Warning 1: TIFFReadDirectory:Sum of Photometric type-related color channels and ExtraSamples doesn't match SamplesPerPixel. Defining non-color channels as ExtraSamples.\n",
      "Warning 1: m_3711701_ne_11_060_20190810.tif: TIFFReadDirectory:Sum of Photometric type-related color channels and ExtraSamples doesn't match SamplesPerPixel. Defining non-color channels as ExtraSamples.\n",
      "Warning 1: TIFFReadDirectory:Sum of Photometric type-related color channels and ExtraSamples doesn't match SamplesPerPixel. Defining non-color channels as ExtraSamples.\n",
      "Warning 1: m_3811758_nw_11_060_20190810.tif: TIFFReadDirectory:Sum of Photometric type-related color channels and ExtraSamples doesn't match SamplesPerPixel. Defining non-color channels as ExtraSamples.\n",
      "Warning 1: TIFFReadDirectory:Sum of Photometric type-related color channels and ExtraSamples doesn't match SamplesPerPixel. Defining non-color channels as ExtraSamples.\n",
      "Warning 1: m_3811758_nw_11_060_20190810.tif: TIFFReadDirectory:Sum of Photometric type-related color channels and ExtraSamples doesn't match SamplesPerPixel. Defining non-color channels as ExtraSamples.\n",
      "Warning 1: TIFFReadDirectory:Sum of Photometric type-related color channels and ExtraSamples doesn't match SamplesPerPixel. Defining non-color channels as ExtraSamples.\n",
      "Warning 1: m_3811758_nw_11_060_20190810.tif: TIFFReadDirectory:Sum of Photometric type-related color channels and ExtraSamples doesn't match SamplesPerPixel. Defining non-color channels as ExtraSamples.\n",
      "Warning 1: TIFFReadDirectory:Sum of Photometric type-related color channels and ExtraSamples doesn't match SamplesPerPixel. Defining non-color channels as ExtraSamples.\n",
      "Warning 1: m_3811758_nw_11_060_20190810.tif: TIFFReadDirectory:Sum of Photometric type-related color channels and ExtraSamples doesn't match SamplesPerPixel. Defining non-color channels as ExtraSamples.\n",
      "Warning 1: TIFFReadDirectory:Sum of Photometric type-related color channels and ExtraSamples doesn't match SamplesPerPixel. Defining non-color channels as ExtraSamples.\n",
      "..Warning 1: m_3711702_nw_11_060_20190810.tif: TIFFReadDirectory:Sum of Photometric type-related color channels and ExtraSamples doesn't match SamplesPerPixel. Defining non-color channels as ExtraSamples.\n",
      "Warning 1: TIFFReadDirectory:Sum of Photometric type-related color channels and ExtraSamples doesn't match SamplesPerPixel. Defining non-color channels as ExtraSamples.\n",
      "Warning 1: m_3711702_nw_11_060_20190810.tif: TIFFReadDirectory:Sum of Photometric type-related color channels and ExtraSamples doesn't match SamplesPerPixel. Defining non-color channels as ExtraSamples.\n",
      "Warning 1: TIFFReadDirectory:Sum of Photometric type-related color channels and ExtraSamples doesn't match SamplesPerPixel. Defining non-color channels as ExtraSamples.\n",
      "Warning 1: m_3711702_nw_11_060_20190810.tif: TIFFReadDirectory:Sum of Photometric type-related color channels and ExtraSamples doesn't match SamplesPerPixel. Defining non-color channels as ExtraSamples.\n",
      "Warning 1: TIFFReadDirectory:Sum of Photometric type-related color channels and ExtraSamples doesn't match SamplesPerPixel. Defining non-color channels as ExtraSamples.\n",
      "Warning 1: m_3711702_nw_11_060_20190810.tif: TIFFReadDirectory:Sum of Photometric type-related color channels and ExtraSamples doesn't match SamplesPerPixel. Defining non-color channels as ExtraSamples.\n",
      "Warning 1: TIFFReadDirectory:Sum of Photometric type-related color channels and ExtraSamples doesn't match SamplesPerPixel. Defining non-color channels as ExtraSamples.\n",
      ".Warning 1: m_3811759_ne_11_060_20190811.tif: TIFFReadDirectory:Sum of Photometric type-related color channels and ExtraSamples doesn't match SamplesPerPixel. Defining non-color channels as ExtraSamples.\n",
      "Warning 1: TIFFReadDirectory:Sum of Photometric type-related color channels and ExtraSamples doesn't match SamplesPerPixel. Defining non-color channels as ExtraSamples.\n",
      "Warning 1: m_3811759_ne_11_060_20190811.tif: TIFFReadDirectory:Sum of Photometric type-related color channels and ExtraSamples doesn't match SamplesPerPixel. Defining non-color channels as ExtraSamples.\n",
      "Warning 1: TIFFReadDirectory:Sum of Photometric type-related color channels and ExtraSamples doesn't match SamplesPerPixel. Defining non-color channels as ExtraSamples.\n",
      "Warning 1: m_3811759_ne_11_060_20190811.tif: TIFFReadDirectory:Sum of Photometric type-related color channels and ExtraSamples doesn't match SamplesPerPixel. Defining non-color channels as ExtraSamples.\n",
      "Warning 1: TIFFReadDirectory:Sum of Photometric type-related color channels and ExtraSamples doesn't match SamplesPerPixel. Defining non-color channels as ExtraSamples.\n",
      "Warning 1: m_3811759_ne_11_060_20190811.tif: TIFFReadDirectory:Sum of Photometric type-related color channels and ExtraSamples doesn't match SamplesPerPixel. Defining non-color channels as ExtraSamples.\n",
      "Warning 1: TIFFReadDirectory:Sum of Photometric type-related color channels and ExtraSamples doesn't match SamplesPerPixel. Defining non-color channels as ExtraSamples.\n",
      "Warning 1: m_3711703_ne_11_060_20190811.tif: TIFFReadDirectory:Sum of Photometric type-related color channels and ExtraSamples doesn't match SamplesPerPixel. Defining non-color channels as ExtraSamples.\n",
      "Warning 1: TIFFReadDirectory:Sum of Photometric type-related color channels and ExtraSamples doesn't match SamplesPerPixel. Defining non-color channels as ExtraSamples.\n",
      "Warning 1: m_3711703_ne_11_060_20190811.tif: TIFFReadDirectory:Sum of Photometric type-related color channels and ExtraSamples doesn't match SamplesPerPixel. Defining non-color channels as ExtraSamples.\n",
      "Warning 1: TIFFReadDirectory:Sum of Photometric type-related color channels and ExtraSamples doesn't match SamplesPerPixel. Defining non-color channels as ExtraSamples.\n",
      "Warning 1: m_3711703_ne_11_060_20190811.tif: TIFFReadDirectory:Sum of Photometric type-related color channels and ExtraSamples doesn't match SamplesPerPixel. Defining non-color channels as ExtraSamples.\n",
      "Warning 1: TIFFReadDirectory:Sum of Photometric type-related color channels and ExtraSamples doesn't match SamplesPerPixel. Defining non-color channels as ExtraSamples.\n",
      "Warning 1: m_3711703_ne_11_060_20190811.tif: TIFFReadDirectory:Sum of Photometric type-related color channels and ExtraSamples doesn't match SamplesPerPixel. Defining non-color channels as ExtraSamples.\n",
      "Warning 1: TIFFReadDirectory:Sum of Photometric type-related color channels and ExtraSamples doesn't match SamplesPerPixel. Defining non-color channels as ExtraSamples.\n",
      "Warning 1: m_3811759_nw_11_060_20190810.tif: TIFFReadDirectory:Sum of Photometric type-related color channels and ExtraSamples doesn't match SamplesPerPixel. Defining non-color channels as ExtraSamples.\n",
      "Warning 1: TIFFReadDirectory:Sum of Photometric type-related color channels and ExtraSamples doesn't match SamplesPerPixel. Defining non-color channels as ExtraSamples.\n",
      "Warning 1: m_3811759_nw_11_060_20190810.tif: TIFFReadDirectory:Sum of Photometric type-related color channels and ExtraSamples doesn't match SamplesPerPixel. Defining non-color channels as ExtraSamples.\n",
      "Warning 1: TIFFReadDirectory:Sum of Photometric type-related color channels and ExtraSamples doesn't match SamplesPerPixel. Defining non-color channels as ExtraSamples.\n",
      "Warning 1: m_3811759_nw_11_060_20190810.tif: TIFFReadDirectory:Sum of Photometric type-related color channels and ExtraSamples doesn't match SamplesPerPixel. Defining non-color channels as ExtraSamples.\n",
      "Warning 1: TIFFReadDirectory:Sum of Photometric type-related color channels and ExtraSamples doesn't match SamplesPerPixel. Defining non-color channels as ExtraSamples.\n",
      "Warning 1: m_3811759_nw_11_060_20190810.tif: TIFFReadDirectory:Sum of Photometric type-related color channels and ExtraSamples doesn't match SamplesPerPixel. Defining non-color channels as ExtraSamples.\n",
      "Warning 1: TIFFReadDirectory:Sum of Photometric type-related color channels and ExtraSamples doesn't match SamplesPerPixel. Defining non-color channels as ExtraSamples.\n",
      "10..Warning 1: m_3711806_ne_11_060_20190811.tif: TIFFReadDirectory:Sum of Photometric type-related color channels and ExtraSamples doesn't match SamplesPerPixel. Defining non-color channels as ExtraSamples.\n",
      "Warning 1: TIFFReadDirectory:Sum of Photometric type-related color channels and ExtraSamples doesn't match SamplesPerPixel. Defining non-color channels as ExtraSamples.\n",
      "Warning 1: m_3711806_ne_11_060_20190811.tif: TIFFReadDirectory:Sum of Photometric type-related color channels and ExtraSamples doesn't match SamplesPerPixel. Defining non-color channels as ExtraSamples.\n",
      "Warning 1: TIFFReadDirectory:Sum of Photometric type-related color channels and ExtraSamples doesn't match SamplesPerPixel. Defining non-color channels as ExtraSamples.\n",
      "Warning 1: m_3711806_ne_11_060_20190811.tif: TIFFReadDirectory:Sum of Photometric type-related color channels and ExtraSamples doesn't match SamplesPerPixel. Defining non-color channels as ExtraSamples.\n",
      "Warning 1: TIFFReadDirectory:Sum of Photometric type-related color channels and ExtraSamples doesn't match SamplesPerPixel. Defining non-color channels as ExtraSamples.\n",
      "Warning 1: m_3711806_ne_11_060_20190811.tif: TIFFReadDirectory:Sum of Photometric type-related color channels and ExtraSamples doesn't match SamplesPerPixel. Defining non-color channels as ExtraSamples.\n",
      "Warning 1: TIFFReadDirectory:Sum of Photometric type-related color channels and ExtraSamples doesn't match SamplesPerPixel. Defining non-color channels as ExtraSamples.\n",
      ".Warning 1: m_3711806_nw_11_060_20190811.tif: TIFFReadDirectory:Sum of Photometric type-related color channels and ExtraSamples doesn't match SamplesPerPixel. Defining non-color channels as ExtraSamples.\n",
      "Warning 1: TIFFReadDirectory:Sum of Photometric type-related color channels and ExtraSamples doesn't match SamplesPerPixel. Defining non-color channels as ExtraSamples.\n",
      "Warning 1: m_3711806_nw_11_060_20190811.tif: TIFFReadDirectory:Sum of Photometric type-related color channels and ExtraSamples doesn't match SamplesPerPixel. Defining non-color channels as ExtraSamples.\n",
      "Warning 1: TIFFReadDirectory:Sum of Photometric type-related color channels and ExtraSamples doesn't match SamplesPerPixel. Defining non-color channels as ExtraSamples.\n",
      "Warning 1: m_3711806_nw_11_060_20190811.tif: TIFFReadDirectory:Sum of Photometric type-related color channels and ExtraSamples doesn't match SamplesPerPixel. Defining non-color channels as ExtraSamples.\n",
      "Warning 1: TIFFReadDirectory:Sum of Photometric type-related color channels and ExtraSamples doesn't match SamplesPerPixel. Defining non-color channels as ExtraSamples.\n",
      "Warning 1: m_3711806_nw_11_060_20190811.tif: TIFFReadDirectory:Sum of Photometric type-related color channels and ExtraSamples doesn't match SamplesPerPixel. Defining non-color channels as ExtraSamples.\n",
      "Warning 1: TIFFReadDirectory:Sum of Photometric type-related color channels and ExtraSamples doesn't match SamplesPerPixel. Defining non-color channels as ExtraSamples.\n",
      "20.Warning 1: m_3811846_nw_11_060_20190811.tif: TIFFReadDirectory:Sum of Photometric type-related color channels and ExtraSamples doesn't match SamplesPerPixel. Defining non-color channels as ExtraSamples.\n",
      "Warning 1: TIFFReadDirectory:Sum of Photometric type-related color channels and ExtraSamples doesn't match SamplesPerPixel. Defining non-color channels as ExtraSamples.\n",
      "Warning 1: m_3811846_nw_11_060_20190811.tif: TIFFReadDirectory:Sum of Photometric type-related color channels and ExtraSamples doesn't match SamplesPerPixel. Defining non-color channels as ExtraSamples.\n",
      "Warning 1: TIFFReadDirectory:Sum of Photometric type-related color channels and ExtraSamples doesn't match SamplesPerPixel. Defining non-color channels as ExtraSamples.\n",
      "Warning 1: m_3811846_nw_11_060_20190811.tif: TIFFReadDirectory:Sum of Photometric type-related color channels and ExtraSamples doesn't match SamplesPerPixel. Defining non-color channels as ExtraSamples.\n",
      "Warning 1: TIFFReadDirectory:Sum of Photometric type-related color channels and ExtraSamples doesn't match SamplesPerPixel. Defining non-color channels as ExtraSamples.\n",
      "Warning 1: m_3811846_nw_11_060_20190811.tif: TIFFReadDirectory:Sum of Photometric type-related color channels and ExtraSamples doesn't match SamplesPerPixel. Defining non-color channels as ExtraSamples.\n",
      "Warning 1: TIFFReadDirectory:Sum of Photometric type-related color channels and ExtraSamples doesn't match SamplesPerPixel. Defining non-color channels as ExtraSamples.\n",
      ".Warning 1: m_3811846_se_11_060_20190811.tif: TIFFReadDirectory:Sum of Photometric type-related color channels and ExtraSamples doesn't match SamplesPerPixel. Defining non-color channels as ExtraSamples.\n",
      "Warning 1: TIFFReadDirectory:Sum of Photometric type-related color channels and ExtraSamples doesn't match SamplesPerPixel. Defining non-color channels as ExtraSamples.\n",
      "Warning 1: m_3811846_se_11_060_20190811.tif: TIFFReadDirectory:Sum of Photometric type-related color channels and ExtraSamples doesn't match SamplesPerPixel. Defining non-color channels as ExtraSamples.\n",
      "Warning 1: TIFFReadDirectory:Sum of Photometric type-related color channels and ExtraSamples doesn't match SamplesPerPixel. Defining non-color channels as ExtraSamples.\n",
      "Warning 1: m_3811846_se_11_060_20190811.tif: TIFFReadDirectory:Sum of Photometric type-related color channels and ExtraSamples doesn't match SamplesPerPixel. Defining non-color channels as ExtraSamples.\n",
      "Warning 1: TIFFReadDirectory:Sum of Photometric type-related color channels and ExtraSamples doesn't match SamplesPerPixel. Defining non-color channels as ExtraSamples.\n",
      "Warning 1: m_3811846_se_11_060_20190811.tif: TIFFReadDirectory:Sum of Photometric type-related color channels and ExtraSamples doesn't match SamplesPerPixel. Defining non-color channels as ExtraSamples.\n",
      "Warning 1: TIFFReadDirectory:Sum of Photometric type-related color channels and ExtraSamples doesn't match SamplesPerPixel. Defining non-color channels as ExtraSamples.\n",
      "Warning 1: m_3811846_sw_11_060_20190811.tif: TIFFReadDirectory:Sum of Photometric type-related color channels and ExtraSamples doesn't match SamplesPerPixel. Defining non-color channels as ExtraSamples.\n",
      "Warning 1: TIFFReadDirectory:Sum of Photometric type-related color channels and ExtraSamples doesn't match SamplesPerPixel. Defining non-color channels as ExtraSamples.\n",
      "Warning 1: m_3811846_sw_11_060_20190811.tif: TIFFReadDirectory:Sum of Photometric type-related color channels and ExtraSamples doesn't match SamplesPerPixel. Defining non-color channels as ExtraSamples.\n",
      "Warning 1: TIFFReadDirectory:Sum of Photometric type-related color channels and ExtraSamples doesn't match SamplesPerPixel. Defining non-color channels as ExtraSamples.\n",
      "Warning 1: m_3811846_sw_11_060_20190811.tif: TIFFReadDirectory:Sum of Photometric type-related color channels and ExtraSamples doesn't match SamplesPerPixel. Defining non-color channels as ExtraSamples.\n",
      "Warning 1: TIFFReadDirectory:Sum of Photometric type-related color channels and ExtraSamples doesn't match SamplesPerPixel. Defining non-color channels as ExtraSamples.\n",
      "Warning 1: m_3811846_sw_11_060_20190811.tif: TIFFReadDirectory:Sum of Photometric type-related color channels and ExtraSamples doesn't match SamplesPerPixel. Defining non-color channels as ExtraSamples.\n",
      "Warning 1: TIFFReadDirectory:Sum of Photometric type-related color channels and ExtraSamples doesn't match SamplesPerPixel. Defining non-color channels as ExtraSamples.\n",
      ".Warning 1: m_3811741_ne_11_060_20190810.tif: TIFFReadDirectory:Sum of Photometric type-related color channels and ExtraSamples doesn't match SamplesPerPixel. Defining non-color channels as ExtraSamples.\n",
      "Warning 1: TIFFReadDirectory:Sum of Photometric type-related color channels and ExtraSamples doesn't match SamplesPerPixel. Defining non-color channels as ExtraSamples.\n",
      "Warning 1: m_3811741_ne_11_060_20190810.tif: TIFFReadDirectory:Sum of Photometric type-related color channels and ExtraSamples doesn't match SamplesPerPixel. Defining non-color channels as ExtraSamples.\n",
      "Warning 1: TIFFReadDirectory:Sum of Photometric type-related color channels and ExtraSamples doesn't match SamplesPerPixel. Defining non-color channels as ExtraSamples.\n",
      "Warning 1: m_3811741_ne_11_060_20190810.tif: TIFFReadDirectory:Sum of Photometric type-related color channels and ExtraSamples doesn't match SamplesPerPixel. Defining non-color channels as ExtraSamples.\n",
      "Warning 1: TIFFReadDirectory:Sum of Photometric type-related color channels and ExtraSamples doesn't match SamplesPerPixel. Defining non-color channels as ExtraSamples.\n",
      "Warning 1: m_3811741_ne_11_060_20190810.tif: TIFFReadDirectory:Sum of Photometric type-related color channels and ExtraSamples doesn't match SamplesPerPixel. Defining non-color channels as ExtraSamples.\n",
      "Warning 1: TIFFReadDirectory:Sum of Photometric type-related color channels and ExtraSamples doesn't match SamplesPerPixel. Defining non-color channels as ExtraSamples.\n",
      "30...Warning 1: m_3811848_ne_11_060_20190810.tif: TIFFReadDirectory:Sum of Photometric type-related color channels and ExtraSamples doesn't match SamplesPerPixel. Defining non-color channels as ExtraSamples.\n",
      "Warning 1: TIFFReadDirectory:Sum of Photometric type-related color channels and ExtraSamples doesn't match SamplesPerPixel. Defining non-color channels as ExtraSamples.\n",
      "Warning 1: m_3811848_ne_11_060_20190810.tif: TIFFReadDirectory:Sum of Photometric type-related color channels and ExtraSamples doesn't match SamplesPerPixel. Defining non-color channels as ExtraSamples.\n",
      "Warning 1: TIFFReadDirectory:Sum of Photometric type-related color channels and ExtraSamples doesn't match SamplesPerPixel. Defining non-color channels as ExtraSamples.\n",
      "Warning 1: m_3811848_ne_11_060_20190810.tif: TIFFReadDirectory:Sum of Photometric type-related color channels and ExtraSamples doesn't match SamplesPerPixel. Defining non-color channels as ExtraSamples.\n",
      "Warning 1: TIFFReadDirectory:Sum of Photometric type-related color channels and ExtraSamples doesn't match SamplesPerPixel. Defining non-color channels as ExtraSamples.\n",
      "Warning 1: m_3811848_ne_11_060_20190810.tif: TIFFReadDirectory:Sum of Photometric type-related color channels and ExtraSamples doesn't match SamplesPerPixel. Defining non-color channels as ExtraSamples.\n",
      "Warning 1: TIFFReadDirectory:Sum of Photometric type-related color channels and ExtraSamples doesn't match SamplesPerPixel. Defining non-color channels as ExtraSamples.\n",
      "Warning 1: m_3811742_nw_11_060_20190810.tif: TIFFReadDirectory:Sum of Photometric type-related color channels and ExtraSamples doesn't match SamplesPerPixel. Defining non-color channels as ExtraSamples.\n",
      "Warning 1: TIFFReadDirectory:Sum of Photometric type-related color channels and ExtraSamples doesn't match SamplesPerPixel. Defining non-color channels as ExtraSamples.\n",
      "Warning 1: m_3811742_nw_11_060_20190810.tif: TIFFReadDirectory:Sum of Photometric type-related color channels and ExtraSamples doesn't match SamplesPerPixel. Defining non-color channels as ExtraSamples.\n",
      "Warning 1: TIFFReadDirectory:Sum of Photometric type-related color channels and ExtraSamples doesn't match SamplesPerPixel. Defining non-color channels as ExtraSamples.\n",
      "Warning 1: m_3811742_nw_11_060_20190810.tif: TIFFReadDirectory:Sum of Photometric type-related color channels and ExtraSamples doesn't match SamplesPerPixel. Defining non-color channels as ExtraSamples.\n",
      "Warning 1: TIFFReadDirectory:Sum of Photometric type-related color channels and ExtraSamples doesn't match SamplesPerPixel. Defining non-color channels as ExtraSamples.\n",
      "Warning 1: m_3811742_nw_11_060_20190810.tif: TIFFReadDirectory:Sum of Photometric type-related color channels and ExtraSamples doesn't match SamplesPerPixel. Defining non-color channels as ExtraSamples.\n",
      "Warning 1: TIFFReadDirectory:Sum of Photometric type-related color channels and ExtraSamples doesn't match SamplesPerPixel. Defining non-color channels as ExtraSamples.\n",
      "40..Warning 1: m_3811743_ne_11_060_20190811.tif: TIFFReadDirectory:Sum of Photometric type-related color channels and ExtraSamples doesn't match SamplesPerPixel. Defining non-color channels as ExtraSamples.\n",
      "Warning 1: TIFFReadDirectory:Sum of Photometric type-related color channels and ExtraSamples doesn't match SamplesPerPixel. Defining non-color channels as ExtraSamples.\n",
      "Warning 1: m_3811743_ne_11_060_20190811.tif: TIFFReadDirectory:Sum of Photometric type-related color channels and ExtraSamples doesn't match SamplesPerPixel. Defining non-color channels as ExtraSamples.\n",
      "Warning 1: TIFFReadDirectory:Sum of Photometric type-related color channels and ExtraSamples doesn't match SamplesPerPixel. Defining non-color channels as ExtraSamples.\n",
      "Warning 1: m_3811743_ne_11_060_20190811.tif: TIFFReadDirectory:Sum of Photometric type-related color channels and ExtraSamples doesn't match SamplesPerPixel. Defining non-color channels as ExtraSamples.\n",
      "Warning 1: TIFFReadDirectory:Sum of Photometric type-related color channels and ExtraSamples doesn't match SamplesPerPixel. Defining non-color channels as ExtraSamples.\n",
      "Warning 1: m_3811743_ne_11_060_20190811.tif: TIFFReadDirectory:Sum of Photometric type-related color channels and ExtraSamples doesn't match SamplesPerPixel. Defining non-color channels as ExtraSamples.\n",
      "Warning 1: TIFFReadDirectory:Sum of Photometric type-related color channels and ExtraSamples doesn't match SamplesPerPixel. Defining non-color channels as ExtraSamples.\n",
      ".Warning 1: m_3811743_nw_11_060_20190810.tif: TIFFReadDirectory:Sum of Photometric type-related color channels and ExtraSamples doesn't match SamplesPerPixel. Defining non-color channels as ExtraSamples.\n",
      "Warning 1: TIFFReadDirectory:Sum of Photometric type-related color channels and ExtraSamples doesn't match SamplesPerPixel. Defining non-color channels as ExtraSamples.\n",
      "Warning 1: m_3811743_nw_11_060_20190810.tif: TIFFReadDirectory:Sum of Photometric type-related color channels and ExtraSamples doesn't match SamplesPerPixel. Defining non-color channels as ExtraSamples.\n",
      "Warning 1: TIFFReadDirectory:Sum of Photometric type-related color channels and ExtraSamples doesn't match SamplesPerPixel. Defining non-color channels as ExtraSamples.\n",
      "Warning 1: m_3811743_nw_11_060_20190810.tif: TIFFReadDirectory:Sum of Photometric type-related color channels and ExtraSamples doesn't match SamplesPerPixel. Defining non-color channels as ExtraSamples.\n",
      "Warning 1: TIFFReadDirectory:Sum of Photometric type-related color channels and ExtraSamples doesn't match SamplesPerPixel. Defining non-color channels as ExtraSamples.\n",
      "Warning 1: m_3811743_nw_11_060_20190810.tif: TIFFReadDirectory:Sum of Photometric type-related color channels and ExtraSamples doesn't match SamplesPerPixel. Defining non-color channels as ExtraSamples.\n",
      "Warning 1: TIFFReadDirectory:Sum of Photometric type-related color channels and ExtraSamples doesn't match SamplesPerPixel. Defining non-color channels as ExtraSamples.\n",
      "50Warning 1: m_3811743_se_11_060_20190811.tif: TIFFReadDirectory:Sum of Photometric type-related color channels and ExtraSamples doesn't match SamplesPerPixel. Defining non-color channels as ExtraSamples.\n",
      "Warning 1: TIFFReadDirectory:Sum of Photometric type-related color channels and ExtraSamples doesn't match SamplesPerPixel. Defining non-color channels as ExtraSamples.\n",
      "Warning 1: m_3811743_se_11_060_20190811.tif: TIFFReadDirectory:Sum of Photometric type-related color channels and ExtraSamples doesn't match SamplesPerPixel. Defining non-color channels as ExtraSamples.\n",
      "Warning 1: TIFFReadDirectory:Sum of Photometric type-related color channels and ExtraSamples doesn't match SamplesPerPixel. Defining non-color channels as ExtraSamples.\n",
      "Warning 1: m_3811743_se_11_060_20190811.tif: TIFFReadDirectory:Sum of Photometric type-related color channels and ExtraSamples doesn't match SamplesPerPixel. Defining non-color channels as ExtraSamples.\n",
      "Warning 1: TIFFReadDirectory:Sum of Photometric type-related color channels and ExtraSamples doesn't match SamplesPerPixel. Defining non-color channels as ExtraSamples.\n",
      "Warning 1: m_3811743_se_11_060_20190811.tif: TIFFReadDirectory:Sum of Photometric type-related color channels and ExtraSamples doesn't match SamplesPerPixel. Defining non-color channels as ExtraSamples.\n",
      "Warning 1: TIFFReadDirectory:Sum of Photometric type-related color channels and ExtraSamples doesn't match SamplesPerPixel. Defining non-color channels as ExtraSamples.\n",
      ".Warning 1: m_3811743_sw_11_060_20190810.tif: TIFFReadDirectory:Sum of Photometric type-related color channels and ExtraSamples doesn't match SamplesPerPixel. Defining non-color channels as ExtraSamples.\n",
      "Warning 1: TIFFReadDirectory:Sum of Photometric type-related color channels and ExtraSamples doesn't match SamplesPerPixel. Defining non-color channels as ExtraSamples.\n",
      "Warning 1: m_3811743_sw_11_060_20190810.tif: TIFFReadDirectory:Sum of Photometric type-related color channels and ExtraSamples doesn't match SamplesPerPixel. Defining non-color channels as ExtraSamples.\n",
      "Warning 1: TIFFReadDirectory:Sum of Photometric type-related color channels and ExtraSamples doesn't match SamplesPerPixel. Defining non-color channels as ExtraSamples.\n",
      "Warning 1: m_3811743_sw_11_060_20190810.tif: TIFFReadDirectory:Sum of Photometric type-related color channels and ExtraSamples doesn't match SamplesPerPixel. Defining non-color channels as ExtraSamples.\n",
      "Warning 1: TIFFReadDirectory:Sum of Photometric type-related color channels and ExtraSamples doesn't match SamplesPerPixel. Defining non-color channels as ExtraSamples.\n",
      "Warning 1: m_3811743_sw_11_060_20190810.tif: TIFFReadDirectory:Sum of Photometric type-related color channels and ExtraSamples doesn't match SamplesPerPixel. Defining non-color channels as ExtraSamples.\n",
      "Warning 1: TIFFReadDirectory:Sum of Photometric type-related color channels and ExtraSamples doesn't match SamplesPerPixel. Defining non-color channels as ExtraSamples.\n",
      ".Warning 1: m_3811744_sw_11_060_20190811.tif: TIFFReadDirectory:Sum of Photometric type-related color channels and ExtraSamples doesn't match SamplesPerPixel. Defining non-color channels as ExtraSamples.\n",
      "Warning 1: TIFFReadDirectory:Sum of Photometric type-related color channels and ExtraSamples doesn't match SamplesPerPixel. Defining non-color channels as ExtraSamples.\n",
      "Warning 1: m_3811744_sw_11_060_20190811.tif: TIFFReadDirectory:Sum of Photometric type-related color channels and ExtraSamples doesn't match SamplesPerPixel. Defining non-color channels as ExtraSamples.\n",
      "Warning 1: TIFFReadDirectory:Sum of Photometric type-related color channels and ExtraSamples doesn't match SamplesPerPixel. Defining non-color channels as ExtraSamples.\n",
      "Warning 1: m_3811744_sw_11_060_20190811.tif: TIFFReadDirectory:Sum of Photometric type-related color channels and ExtraSamples doesn't match SamplesPerPixel. Defining non-color channels as ExtraSamples.\n",
      "Warning 1: TIFFReadDirectory:Sum of Photometric type-related color channels and ExtraSamples doesn't match SamplesPerPixel. Defining non-color channels as ExtraSamples.\n",
      "Warning 1: m_3811744_sw_11_060_20190811.tif: TIFFReadDirectory:Sum of Photometric type-related color channels and ExtraSamples doesn't match SamplesPerPixel. Defining non-color channels as ExtraSamples.\n",
      "Warning 1: TIFFReadDirectory:Sum of Photometric type-related color channels and ExtraSamples doesn't match SamplesPerPixel. Defining non-color channels as ExtraSamples.\n",
      ".60...70Warning 1: m_3811750_nw_11_060_20190810.tif: TIFFReadDirectory:Sum of Photometric type-related color channels and ExtraSamples doesn't match SamplesPerPixel. Defining non-color channels as ExtraSamples.\n",
      "Warning 1: TIFFReadDirectory:Sum of Photometric type-related color channels and ExtraSamples doesn't match SamplesPerPixel. Defining non-color channels as ExtraSamples.\n",
      "Warning 1: m_3811750_nw_11_060_20190810.tif: TIFFReadDirectory:Sum of Photometric type-related color channels and ExtraSamples doesn't match SamplesPerPixel. Defining non-color channels as ExtraSamples.\n",
      "Warning 1: TIFFReadDirectory:Sum of Photometric type-related color channels and ExtraSamples doesn't match SamplesPerPixel. Defining non-color channels as ExtraSamples.\n",
      "Warning 1: m_3811750_nw_11_060_20190810.tif: TIFFReadDirectory:Sum of Photometric type-related color channels and ExtraSamples doesn't match SamplesPerPixel. Defining non-color channels as ExtraSamples.\n",
      "Warning 1: TIFFReadDirectory:Sum of Photometric type-related color channels and ExtraSamples doesn't match SamplesPerPixel. Defining non-color channels as ExtraSamples.\n",
      "Warning 1: m_3811750_nw_11_060_20190810.tif: TIFFReadDirectory:Sum of Photometric type-related color channels and ExtraSamples doesn't match SamplesPerPixel. Defining non-color channels as ExtraSamples.\n",
      "Warning 1: TIFFReadDirectory:Sum of Photometric type-related color channels and ExtraSamples doesn't match SamplesPerPixel. Defining non-color channels as ExtraSamples.\n",
      ".Warning 1: m_3811750_se_11_060_20190810.tif: TIFFReadDirectory:Sum of Photometric type-related color channels and ExtraSamples doesn't match SamplesPerPixel. Defining non-color channels as ExtraSamples.\n",
      "Warning 1: TIFFReadDirectory:Sum of Photometric type-related color channels and ExtraSamples doesn't match SamplesPerPixel. Defining non-color channels as ExtraSamples.\n",
      "Warning 1: m_3811750_se_11_060_20190810.tif: TIFFReadDirectory:Sum of Photometric type-related color channels and ExtraSamples doesn't match SamplesPerPixel. Defining non-color channels as ExtraSamples.\n",
      "Warning 1: TIFFReadDirectory:Sum of Photometric type-related color channels and ExtraSamples doesn't match SamplesPerPixel. Defining non-color channels as ExtraSamples.\n",
      "Warning 1: m_3811750_se_11_060_20190810.tif: TIFFReadDirectory:Sum of Photometric type-related color channels and ExtraSamples doesn't match SamplesPerPixel. Defining non-color channels as ExtraSamples.\n",
      "Warning 1: TIFFReadDirectory:Sum of Photometric type-related color channels and ExtraSamples doesn't match SamplesPerPixel. Defining non-color channels as ExtraSamples.\n",
      "Warning 1: m_3811750_se_11_060_20190810.tif: TIFFReadDirectory:Sum of Photometric type-related color channels and ExtraSamples doesn't match SamplesPerPixel. Defining non-color channels as ExtraSamples.\n",
      "Warning 1: TIFFReadDirectory:Sum of Photometric type-related color channels and ExtraSamples doesn't match SamplesPerPixel. Defining non-color channels as ExtraSamples.\n",
      "Warning 1: m_3811750_sw_11_060_20190810.tif: TIFFReadDirectory:Sum of Photometric type-related color channels and ExtraSamples doesn't match SamplesPerPixel. Defining non-color channels as ExtraSamples.\n",
      "Warning 1: TIFFReadDirectory:Sum of Photometric type-related color channels and ExtraSamples doesn't match SamplesPerPixel. Defining non-color channels as ExtraSamples.\n",
      "Warning 1: m_3811750_sw_11_060_20190810.tif: TIFFReadDirectory:Sum of Photometric type-related color channels and ExtraSamples doesn't match SamplesPerPixel. Defining non-color channels as ExtraSamples.\n",
      "Warning 1: TIFFReadDirectory:Sum of Photometric type-related color channels and ExtraSamples doesn't match SamplesPerPixel. Defining non-color channels as ExtraSamples.\n",
      "Warning 1: m_3811750_sw_11_060_20190810.tif: TIFFReadDirectory:Sum of Photometric type-related color channels and ExtraSamples doesn't match SamplesPerPixel. Defining non-color channels as ExtraSamples.\n",
      "Warning 1: TIFFReadDirectory:Sum of Photometric type-related color channels and ExtraSamples doesn't match SamplesPerPixel. Defining non-color channels as ExtraSamples.\n",
      "Warning 1: m_3811750_sw_11_060_20190810.tif: TIFFReadDirectory:Sum of Photometric type-related color channels and ExtraSamples doesn't match SamplesPerPixel. Defining non-color channels as ExtraSamples.\n",
      "Warning 1: TIFFReadDirectory:Sum of Photometric type-related color channels and ExtraSamples doesn't match SamplesPerPixel. Defining non-color channels as ExtraSamples.\n",
      ".Warning 1: m_3811751_ne_11_060_20190811.tif: TIFFReadDirectory:Sum of Photometric type-related color channels and ExtraSamples doesn't match SamplesPerPixel. Defining non-color channels as ExtraSamples.\n",
      "Warning 1: TIFFReadDirectory:Sum of Photometric type-related color channels and ExtraSamples doesn't match SamplesPerPixel. Defining non-color channels as ExtraSamples.\n",
      "Warning 1: m_3811751_ne_11_060_20190811.tif: TIFFReadDirectory:Sum of Photometric type-related color channels and ExtraSamples doesn't match SamplesPerPixel. Defining non-color channels as ExtraSamples.\n",
      "Warning 1: TIFFReadDirectory:Sum of Photometric type-related color channels and ExtraSamples doesn't match SamplesPerPixel. Defining non-color channels as ExtraSamples.\n",
      "Warning 1: m_3811751_ne_11_060_20190811.tif: TIFFReadDirectory:Sum of Photometric type-related color channels and ExtraSamples doesn't match SamplesPerPixel. Defining non-color channels as ExtraSamples.\n",
      "Warning 1: TIFFReadDirectory:Sum of Photometric type-related color channels and ExtraSamples doesn't match SamplesPerPixel. Defining non-color channels as ExtraSamples.\n",
      "Warning 1: m_3811751_ne_11_060_20190811.tif: TIFFReadDirectory:Sum of Photometric type-related color channels and ExtraSamples doesn't match SamplesPerPixel. Defining non-color channels as ExtraSamples.\n",
      "Warning 1: TIFFReadDirectory:Sum of Photometric type-related color channels and ExtraSamples doesn't match SamplesPerPixel. Defining non-color channels as ExtraSamples.\n",
      ".Warning 1: m_3811751_nw_11_060_20190810.tif: TIFFReadDirectory:Sum of Photometric type-related color channels and ExtraSamples doesn't match SamplesPerPixel. Defining non-color channels as ExtraSamples.\n",
      "Warning 1: TIFFReadDirectory:Sum of Photometric type-related color channels and ExtraSamples doesn't match SamplesPerPixel. Defining non-color channels as ExtraSamples.\n",
      "Warning 1: m_3811751_nw_11_060_20190810.tif: TIFFReadDirectory:Sum of Photometric type-related color channels and ExtraSamples doesn't match SamplesPerPixel. Defining non-color channels as ExtraSamples.\n",
      "Warning 1: TIFFReadDirectory:Sum of Photometric type-related color channels and ExtraSamples doesn't match SamplesPerPixel. Defining non-color channels as ExtraSamples.\n",
      "Warning 1: m_3811751_nw_11_060_20190810.tif: TIFFReadDirectory:Sum of Photometric type-related color channels and ExtraSamples doesn't match SamplesPerPixel. Defining non-color channels as ExtraSamples.\n",
      "Warning 1: TIFFReadDirectory:Sum of Photometric type-related color channels and ExtraSamples doesn't match SamplesPerPixel. Defining non-color channels as ExtraSamples.\n",
      "Warning 1: m_3811751_nw_11_060_20190810.tif: TIFFReadDirectory:Sum of Photometric type-related color channels and ExtraSamples doesn't match SamplesPerPixel. Defining non-color channels as ExtraSamples.\n",
      "Warning 1: TIFFReadDirectory:Sum of Photometric type-related color channels and ExtraSamples doesn't match SamplesPerPixel. Defining non-color channels as ExtraSamples.\n",
      "80Warning 1: m_3811862_sw_11_060_20190811.tif: TIFFReadDirectory:Sum of Photometric type-related color channels and ExtraSamples doesn't match SamplesPerPixel. Defining non-color channels as ExtraSamples.\n",
      "Warning 1: TIFFReadDirectory:Sum of Photometric type-related color channels and ExtraSamples doesn't match SamplesPerPixel. Defining non-color channels as ExtraSamples.\n",
      "Warning 1: m_3811862_sw_11_060_20190811.tif: TIFFReadDirectory:Sum of Photometric type-related color channels and ExtraSamples doesn't match SamplesPerPixel. Defining non-color channels as ExtraSamples.\n",
      "Warning 1: TIFFReadDirectory:Sum of Photometric type-related color channels and ExtraSamples doesn't match SamplesPerPixel. Defining non-color channels as ExtraSamples.\n",
      "Warning 1: m_3811862_sw_11_060_20190811.tif: TIFFReadDirectory:Sum of Photometric type-related color channels and ExtraSamples doesn't match SamplesPerPixel. Defining non-color channels as ExtraSamples.\n",
      "Warning 1: TIFFReadDirectory:Sum of Photometric type-related color channels and ExtraSamples doesn't match SamplesPerPixel. Defining non-color channels as ExtraSamples.\n",
      "Warning 1: m_3811862_sw_11_060_20190811.tif: TIFFReadDirectory:Sum of Photometric type-related color channels and ExtraSamples doesn't match SamplesPerPixel. Defining non-color channels as ExtraSamples.\n",
      "Warning 1: TIFFReadDirectory:Sum of Photometric type-related color channels and ExtraSamples doesn't match SamplesPerPixel. Defining non-color channels as ExtraSamples.\n",
      "Warning 1: m_3811751_se_11_060_20190811.tif: TIFFReadDirectory:Sum of Photometric type-related color channels and ExtraSamples doesn't match SamplesPerPixel. Defining non-color channels as ExtraSamples.\n",
      "Warning 1: TIFFReadDirectory:Sum of Photometric type-related color channels and ExtraSamples doesn't match SamplesPerPixel. Defining non-color channels as ExtraSamples.\n",
      "Warning 1: m_3811751_se_11_060_20190811.tif: TIFFReadDirectory:Sum of Photometric type-related color channels and ExtraSamples doesn't match SamplesPerPixel. Defining non-color channels as ExtraSamples.\n",
      "Warning 1: TIFFReadDirectory:Sum of Photometric type-related color channels and ExtraSamples doesn't match SamplesPerPixel. Defining non-color channels as ExtraSamples.\n",
      "Warning 1: m_3811751_se_11_060_20190811.tif: TIFFReadDirectory:Sum of Photometric type-related color channels and ExtraSamples doesn't match SamplesPerPixel. Defining non-color channels as ExtraSamples.\n",
      "Warning 1: TIFFReadDirectory:Sum of Photometric type-related color channels and ExtraSamples doesn't match SamplesPerPixel. Defining non-color channels as ExtraSamples.\n",
      "Warning 1: m_3811751_se_11_060_20190811.tif: TIFFReadDirectory:Sum of Photometric type-related color channels and ExtraSamples doesn't match SamplesPerPixel. Defining non-color channels as ExtraSamples.\n",
      "Warning 1: TIFFReadDirectory:Sum of Photometric type-related color channels and ExtraSamples doesn't match SamplesPerPixel. Defining non-color channels as ExtraSamples.\n",
      ".Warning 1: m_3811751_sw_11_060_20190810.tif: TIFFReadDirectory:Sum of Photometric type-related color channels and ExtraSamples doesn't match SamplesPerPixel. Defining non-color channels as ExtraSamples.\n",
      "Warning 1: TIFFReadDirectory:Sum of Photometric type-related color channels and ExtraSamples doesn't match SamplesPerPixel. Defining non-color channels as ExtraSamples.\n",
      "Warning 1: m_3811751_sw_11_060_20190810.tif: TIFFReadDirectory:Sum of Photometric type-related color channels and ExtraSamples doesn't match SamplesPerPixel. Defining non-color channels as ExtraSamples.\n",
      "Warning 1: TIFFReadDirectory:Sum of Photometric type-related color channels and ExtraSamples doesn't match SamplesPerPixel. Defining non-color channels as ExtraSamples.\n",
      "Warning 1: m_3811751_sw_11_060_20190810.tif: TIFFReadDirectory:Sum of Photometric type-related color channels and ExtraSamples doesn't match SamplesPerPixel. Defining non-color channels as ExtraSamples.\n",
      "Warning 1: TIFFReadDirectory:Sum of Photometric type-related color channels and ExtraSamples doesn't match SamplesPerPixel. Defining non-color channels as ExtraSamples.\n",
      "Warning 1: m_3811751_sw_11_060_20190810.tif: TIFFReadDirectory:Sum of Photometric type-related color channels and ExtraSamples doesn't match SamplesPerPixel. Defining non-color channels as ExtraSamples.\n",
      "Warning 1: TIFFReadDirectory:Sum of Photometric type-related color channels and ExtraSamples doesn't match SamplesPerPixel. Defining non-color channels as ExtraSamples.\n",
      ".Warning 1: m_3811752_nw_11_060_20190811.tif: TIFFReadDirectory:Sum of Photometric type-related color channels and ExtraSamples doesn't match SamplesPerPixel. Defining non-color channels as ExtraSamples.\n",
      "Warning 1: TIFFReadDirectory:Sum of Photometric type-related color channels and ExtraSamples doesn't match SamplesPerPixel. Defining non-color channels as ExtraSamples.\n",
      "Warning 1: m_3811752_nw_11_060_20190811.tif: TIFFReadDirectory:Sum of Photometric type-related color channels and ExtraSamples doesn't match SamplesPerPixel. Defining non-color channels as ExtraSamples.\n",
      "Warning 1: TIFFReadDirectory:Sum of Photometric type-related color channels and ExtraSamples doesn't match SamplesPerPixel. Defining non-color channels as ExtraSamples.\n",
      "Warning 1: m_3811752_nw_11_060_20190811.tif: TIFFReadDirectory:Sum of Photometric type-related color channels and ExtraSamples doesn't match SamplesPerPixel. Defining non-color channels as ExtraSamples.\n",
      "Warning 1: TIFFReadDirectory:Sum of Photometric type-related color channels and ExtraSamples doesn't match SamplesPerPixel. Defining non-color channels as ExtraSamples.\n",
      "Warning 1: m_3811752_nw_11_060_20190811.tif: TIFFReadDirectory:Sum of Photometric type-related color channels and ExtraSamples doesn't match SamplesPerPixel. Defining non-color channels as ExtraSamples.\n",
      "Warning 1: TIFFReadDirectory:Sum of Photometric type-related color channels and ExtraSamples doesn't match SamplesPerPixel. Defining non-color channels as ExtraSamples.\n",
      ".Warning 1: m_3811752_sw_11_060_20190811.tif: TIFFReadDirectory:Sum of Photometric type-related color channels and ExtraSamples doesn't match SamplesPerPixel. Defining non-color channels as ExtraSamples.\n",
      "Warning 1: TIFFReadDirectory:Sum of Photometric type-related color channels and ExtraSamples doesn't match SamplesPerPixel. Defining non-color channels as ExtraSamples.\n",
      "Warning 1: m_3811752_sw_11_060_20190811.tif: TIFFReadDirectory:Sum of Photometric type-related color channels and ExtraSamples doesn't match SamplesPerPixel. Defining non-color channels as ExtraSamples.\n",
      "Warning 1: TIFFReadDirectory:Sum of Photometric type-related color channels and ExtraSamples doesn't match SamplesPerPixel. Defining non-color channels as ExtraSamples.\n",
      "Warning 1: m_3811752_sw_11_060_20190811.tif: TIFFReadDirectory:Sum of Photometric type-related color channels and ExtraSamples doesn't match SamplesPerPixel. Defining non-color channels as ExtraSamples.\n",
      "Warning 1: TIFFReadDirectory:Sum of Photometric type-related color channels and ExtraSamples doesn't match SamplesPerPixel. Defining non-color channels as ExtraSamples.\n",
      "Warning 1: m_3811752_sw_11_060_20190811.tif: TIFFReadDirectory:Sum of Photometric type-related color channels and ExtraSamples doesn't match SamplesPerPixel. Defining non-color channels as ExtraSamples.\n",
      "Warning 1: TIFFReadDirectory:Sum of Photometric type-related color channels and ExtraSamples doesn't match SamplesPerPixel. Defining non-color channels as ExtraSamples.\n",
      "90...Warning 1: m_3811758_ne_11_060_20190810.tif: TIFFReadDirectory:Sum of Photometric type-related color channels and ExtraSamples doesn't match SamplesPerPixel. Defining non-color channels as ExtraSamples.\n",
      "Warning 1: TIFFReadDirectory:Sum of Photometric type-related color channels and ExtraSamples doesn't match SamplesPerPixel. Defining non-color channels as ExtraSamples.\n",
      "Warning 1: m_3811758_ne_11_060_20190810.tif: TIFFReadDirectory:Sum of Photometric type-related color channels and ExtraSamples doesn't match SamplesPerPixel. Defining non-color channels as ExtraSamples.\n",
      "Warning 1: TIFFReadDirectory:Sum of Photometric type-related color channels and ExtraSamples doesn't match SamplesPerPixel. Defining non-color channels as ExtraSamples.\n",
      "Warning 1: m_3811758_ne_11_060_20190810.tif: TIFFReadDirectory:Sum of Photometric type-related color channels and ExtraSamples doesn't match SamplesPerPixel. Defining non-color channels as ExtraSamples.\n",
      "Warning 1: TIFFReadDirectory:Sum of Photometric type-related color channels and ExtraSamples doesn't match SamplesPerPixel. Defining non-color channels as ExtraSamples.\n",
      "Warning 1: m_3811758_ne_11_060_20190810.tif: TIFFReadDirectory:Sum of Photometric type-related color channels and ExtraSamples doesn't match SamplesPerPixel. Defining non-color channels as ExtraSamples.\n",
      "Warning 1: TIFFReadDirectory:Sum of Photometric type-related color channels and ExtraSamples doesn't match SamplesPerPixel. Defining non-color channels as ExtraSamples.\n",
      "100 - done.\n"
     ]
    }
   ],
   "source": [
    "!gdal_merge /Volumes/Extreme\\ Pro/big_data/NAIP_MC/2019MC/m_3711701_ne_11_060_20190810.tif /Volumes/Extreme\\ Pro/big_data/NAIP_MC/2019MC/m_3811758_nw_11_060_20190810.tif /Volumes/Extreme\\ Pro/big_data/NAIP_MC/2019MC/m_3711701_nw_11_060_20190810.tif /Volumes/Extreme\\ Pro/big_data/NAIP_MC/2019MC/m_3811758_se_11_060_20190810.tif /Volumes/Extreme\\ Pro/big_data/NAIP_MC/2019MC/m_3711702_ne_11_060_20190810.tif /Volumes/Extreme\\ Pro/big_data/NAIP_MC/2019MC/m_3811758_sw_11_060_20190810.tif /Volumes/Extreme\\ Pro/big_data/NAIP_MC/2019MC/m_3711702_nw_11_060_20190810.tif /Volumes/Extreme\\ Pro/big_data/NAIP_MC/2019MC/m_3811759_ne_11_060_20190811.tif /Volumes/Extreme\\ Pro/big_data/NAIP_MC/2019MC/m_3711703_ne_11_060_20190811.tif /Volumes/Extreme\\ Pro/big_data/NAIP_MC/2019MC/m_3811759_nw_11_060_20190810.tif /Volumes/Extreme\\ Pro/big_data/NAIP_MC/2019MC/m_3711703_nw_11_060_20190810.tif /Volumes/Extreme\\ Pro/big_data/NAIP_MC/2019MC/m_3811759_se_11_060_20190811.tif /Volumes/Extreme\\ Pro/big_data/NAIP_MC/2019MC/m_3711704_nw_11_060_20190811.tif /Volumes/Extreme\\ Pro/big_data/NAIP_MC/2019MC/m_3811759_sw_11_060_20190810.tif /Volumes/Extreme\\ Pro/big_data/NAIP_MC/2019MC/m_3711806_ne_11_060_20190811.tif /Volumes/Extreme\\ Pro/big_data/NAIP_MC/2019MC/m_3811760_nw_11_060_20190811.tif /Volumes/Extreme\\ Pro/big_data/NAIP_MC/2019MC/m_3711806_nw_11_060_20190811.tif /Volumes/Extreme\\ Pro/big_data/NAIP_MC/2019MC/m_3811760_sw_11_060_20190811.tif /Volumes/Extreme\\ Pro/big_data/NAIP_MC/2019MC/m_3711807_ne_11_060_20190811.tif /Volumes/Extreme\\ Pro/big_data/NAIP_MC/2019MC/m_3811846_ne_11_060_20190811.tif /Volumes/Extreme\\ Pro/big_data/NAIP_MC/2019MC/m_3711807_nw_11_060_20190811.tif /Volumes/Extreme\\ Pro/big_data/NAIP_MC/2019MC/m_3811846_nw_11_060_20190811.tif /Volumes/Extreme\\ Pro/big_data/NAIP_MC/2019MC/m_3711808_ne_11_060_20190810.tif /Volumes/Extreme\\ Pro/big_data/NAIP_MC/2019MC/m_3811846_se_11_060_20190811.tif /Volumes/Extreme\\ Pro/big_data/NAIP_MC/2019MC/m_3711808_nw_11_060_20190811.tif /Volumes/Extreme\\ Pro/big_data/NAIP_MC/2019MC/m_3811846_sw_11_060_20190811.tif /Volumes/Extreme\\ Pro/big_data/NAIP_MC/2019MC/m_3811741_ne_11_060_20190810.tif /Volumes/Extreme\\ Pro/big_data/NAIP_MC/2019MC/m_3811847_ne_11_060_20190811.tif /Volumes/Extreme\\ Pro/big_data/NAIP_MC/2019MC/m_3811741_nw_11_060_20190810.tif /Volumes/Extreme\\ Pro/big_data/NAIP_MC/2019MC/m_3811847_nw_11_060_20190811.tif /Volumes/Extreme\\ Pro/big_data/NAIP_MC/2019MC/m_3811741_se_11_060_20190810.tif /Volumes/Extreme\\ Pro/big_data/NAIP_MC/2019MC/m_3811847_se_11_060_20190811.tif /Volumes/Extreme\\ Pro/big_data/NAIP_MC/2019MC/m_3811741_sw_11_060_20190810.tif /Volumes/Extreme\\ Pro/big_data/NAIP_MC/2019MC/m_3811847_sw_11_060_20190811.tif /Volumes/Extreme\\ Pro/big_data/NAIP_MC/2019MC/m_3811742_ne_11_060_20190810.tif /Volumes/Extreme\\ Pro/big_data/NAIP_MC/2019MC/m_3811848_ne_11_060_20190810.tif /Volumes/Extreme\\ Pro/big_data/NAIP_MC/2019MC/m_3811742_nw_11_060_20190810.tif /Volumes/Extreme\\ Pro/big_data/NAIP_MC/2019MC/m_3811848_nw_11_060_20190811.tif /Volumes/Extreme\\ Pro/big_data/NAIP_MC/2019MC/m_3811742_se_11_060_20190810.tif /Volumes/Extreme\\ Pro/big_data/NAIP_MC/2019MC/m_3811848_se_11_060_20190810.tif /Volumes/Extreme\\ Pro/big_data/NAIP_MC/2019MC/m_3811742_sw_11_060_20190810.tif /Volumes/Extreme\\ Pro/big_data/NAIP_MC/2019MC/m_3811848_sw_11_060_20190811.tif /Volumes/Extreme\\ Pro/big_data/NAIP_MC/2019MC/m_3811743_ne_11_060_20190811.tif /Volumes/Extreme\\ Pro/big_data/NAIP_MC/2019MC/m_3811854_ne_11_060_20190811.tif /Volumes/Extreme\\ Pro/big_data/NAIP_MC/2019MC/m_3811743_nw_11_060_20190810.tif /Volumes/Extreme\\ Pro/big_data/NAIP_MC/2019MC/m_3811854_nw_11_060_20190811.tif /Volumes/Extreme\\ Pro/big_data/NAIP_MC/2019MC/m_3811743_se_11_060_20190811.tif /Volumes/Extreme\\ Pro/big_data/NAIP_MC/2019MC/m_3811854_se_11_060_20190811.tif /Volumes/Extreme\\ Pro/big_data/NAIP_MC/2019MC/m_3811743_sw_11_060_20190810.tif /Volumes/Extreme\\ Pro/big_data/NAIP_MC/2019MC/m_3811854_sw_11_060_20190811.tif /Volumes/Extreme\\ Pro/big_data/NAIP_MC/2019MC/m_3811744_nw_11_060_20190811.tif /Volumes/Extreme\\ Pro/big_data/NAIP_MC/2019MC/m_3811855_ne_11_060_20190811.tif /Volumes/Extreme\\ Pro/big_data/NAIP_MC/2019MC/m_3811744_sw_11_060_20190811.tif /Volumes/Extreme\\ Pro/big_data/NAIP_MC/2019MC/m_3811855_nw_11_060_20190811.tif /Volumes/Extreme\\ Pro/big_data/NAIP_MC/2019MC/m_3811749_ne_11_060_20190810.tif /Volumes/Extreme\\ Pro/big_data/NAIP_MC/2019MC/m_3811855_se_11_060_20190811.tif /Volumes/Extreme\\ Pro/big_data/NAIP_MC/2019MC/m_3811749_nw_11_060_20190810.tif /Volumes/Extreme\\ Pro/big_data/NAIP_MC/2019MC/m_3811855_sw_11_060_20190811.tif /Volumes/Extreme\\ Pro/big_data/NAIP_MC/2019MC/m_3811749_se_11_060_20190810.tif /Volumes/Extreme\\ Pro/big_data/NAIP_MC/2019MC/m_3811856_ne_11_060_20190810.tif /Volumes/Extreme\\ Pro/big_data/NAIP_MC/2019MC/m_3811749_sw_11_060_20190810.tif /Volumes/Extreme\\ Pro/big_data/NAIP_MC/2019MC/m_3811856_nw_11_060_20190811.tif /Volumes/Extreme\\ Pro/big_data/NAIP_MC/2019MC/m_3811750_ne_11_060_20190810.tif /Volumes/Extreme\\ Pro/big_data/NAIP_MC/2019MC/m_3811856_se_11_060_20190810.tif /Volumes/Extreme\\ Pro/big_data/NAIP_MC/2019MC/m_3811750_nw_11_060_20190810.tif /Volumes/Extreme\\ Pro/big_data/NAIP_MC/2019MC/m_3811856_sw_11_060_20190811.tif /Volumes/Extreme\\ Pro/big_data/NAIP_MC/2019MC/m_3811750_se_11_060_20190810.tif /Volumes/Extreme\\ Pro/big_data/NAIP_MC/2019MC/m_3811862_ne_11_060_20190811.tif /Volumes/Extreme\\ Pro/big_data/NAIP_MC/2019MC/m_3811750_sw_11_060_20190810.tif /Volumes/Extreme\\ Pro/big_data/NAIP_MC/2019MC/m_3811862_nw_11_060_20190811.tif /Volumes/Extreme\\ Pro/big_data/NAIP_MC/2019MC/m_3811751_ne_11_060_20190811.tif /Volumes/Extreme\\ Pro/big_data/NAIP_MC/2019MC/m_3811862_se_11_060_20190811.tif /Volumes/Extreme\\ Pro/big_data/NAIP_MC/2019MC/m_3811751_nw_11_060_20190810.tif /Volumes/Extreme\\ Pro/big_data/NAIP_MC/2019MC/m_3811862_sw_11_060_20190811.tif /Volumes/Extreme\\ Pro/big_data/NAIP_MC/2019MC/m_3811751_se_11_060_20190811.tif /Volumes/Extreme\\ Pro/big_data/NAIP_MC/2019MC/m_3811863_ne_11_060_20190811.tif /Volumes/Extreme\\ Pro/big_data/NAIP_MC/2019MC/m_3811751_sw_11_060_20190810.tif /Volumes/Extreme\\ Pro/big_data/NAIP_MC/2019MC/m_3811863_nw_11_060_20190811.tif /Volumes/Extreme\\ Pro/big_data/NAIP_MC/2019MC/m_3811752_nw_11_060_20190811.tif /Volumes/Extreme\\ Pro/big_data/NAIP_MC/2019MC/m_3811863_se_11_060_20190811.tif /Volumes/Extreme\\ Pro/big_data/NAIP_MC/2019MC/m_3811752_sw_11_060_20190811.tif /Volumes/Extreme\\ Pro/big_data/NAIP_MC/2019MC/m_3811863_sw_11_060_20190811.tif /Volumes/Extreme\\ Pro/big_data/NAIP_MC/2019MC/m_3811757_ne_11_060_20190810.tif /Volumes/Extreme\\ Pro/big_data/NAIP_MC/2019MC/m_3811864_ne_11_060_20190810.tif /Volumes/Extreme\\ Pro/big_data/NAIP_MC/2019MC/m_3811757_nw_11_060_20190810.tif /Volumes/Extreme\\ Pro/big_data/NAIP_MC/2019MC/m_3811864_nw_11_060_20190811.tif /Volumes/Extreme\\ Pro/big_data/NAIP_MC/2019MC/m_3811757_se_11_060_20190810.tif /Volumes/Extreme\\ Pro/big_data/NAIP_MC/2019MC/m_3811864_se_11_060_20190810.tif /Volumes/Extreme\\ Pro/big_data/NAIP_MC/2019MC/m_3811757_sw_11_060_20190810.tif /Volumes/Extreme\\ Pro/big_data/NAIP_MC/2019MC/m_3811864_sw_11_060_20190811.tif /Volumes/Extreme\\ Pro/big_data/NAIP_MC/2019MC/m_3811758_ne_11_060_20190810.tif \\\n",
    "    -o /Volumes/Extreme\\ Pro/Projects/MonteCristo/NAIP/2019NAIP_MosaicMC.tif"
   ]
  },
  {
   "cell_type": "code",
   "execution_count": 1,
   "metadata": {},
   "outputs": [
    {
     "name": "stdout",
     "output_type": "stream",
     "text": [
      "0...10...20...30...40...50...60...70...80...90...100 - done.\n"
     ]
    }
   ],
   "source": [
    "## Photoshop GIMP algorithim to go from RGB to Grey\n",
    "#!gdal_calc.py -R /Volumes/Extreme\\ Pro/Projects/MonteCristo/NAIP/2019NAIP_MosaicMC.tif --R_band=1 \\\n",
    "#    -G /Volumes/Extreme\\ Pro/Projects/MonteCristo/NAIP/2019NAIP_MosaicMC.tif --G_band=2 \\\n",
    "#    -B /Volumes/Extreme\\ Pro/Projects/MonteCristo/NAIP/2019NAIP_MosaicMC.tif --B_band=3 \\\n",
    "#    --outfile=/Volumes/Extreme\\ Pro/Projects/MonteCristo/NAIP/2019NAIP_MosaicMCgrey.tif \\\n",
    "#    --calc=\"R*0.2989+G*0.5870+B*0.1140\"\n",
    "#"
   ]
  },
  {
   "cell_type": "code",
   "execution_count": 2,
   "metadata": {},
   "outputs": [
    {
     "name": "stdout",
     "output_type": "stream",
     "text": [
      "0...10...20...30...40...50...60...70...80...90...100 - done.\n"
     ]
    }
   ],
   "source": [
    "## Photoshop GIMP algorithim to go from RGB to Grey\n",
    "#!gdal_calc.py -R /Volumes/Extreme\\ Pro/Projects/MonteCristo/NAIP/2022NAIP_MosaicMC.tif --R_band=1 \\\n",
    "#    -G /Volumes/Extreme\\ Pro/Projects/MonteCristo/NAIP/2022NAIP_MosaicMC.tif --G_band=2 \\\n",
    "#    -B /Volumes/Extreme\\ Pro/Projects/MonteCristo/NAIP/2022NAIP_MosaicMC.tif --B_band=3 \\\n",
    "#    --outfile=/Volumes/Extreme\\ Pro/Projects/MonteCristo/NAIP/2022NAIP_MosaicMCgrey.tif \\\n",
    "#    --calc=\"R*0.2989+G*0.5870+B*0.1140\""
   ]
  },
  {
   "cell_type": "code",
   "execution_count": 4,
   "metadata": {},
   "outputs": [
    {
     "name": "stdout",
     "output_type": "stream",
     "text": [
      "Creating output file that is 79373P x 51242L.\n",
      "Using internal nodata values (e.g. 255) for image /Volumes/Extreme Pro/Projects/MonteCristo/NAIP/2022NAIP_MosaicMCgrey.tif.\n",
      "Copying nodata values from source /Volumes/Extreme Pro/Projects/MonteCristo/NAIP/2022NAIP_MosaicMCgrey.tif to destination /Volumes/Extreme Pro/Projects/MonteCristo/NAIP/2022NAIP_MosaicMCgrey-clipped.tif.\n",
      "Processing /Volumes/Extreme Pro/Projects/MonteCristo/NAIP/2022NAIP_MosaicMCgrey.tif [1/1] : 0...10...20...30...40...50...60...70...80...90...100 - done.\n"
     ]
    }
   ],
   "source": [
    "\n",
    "#!gdalwarp -overwrite -ot Float32 -r cubic -t_srs EPSG:32611 -tr  0.6  0.6 -te 396443 4206843 444067 4237588 -of GTiff /Volumes/Extreme\\ Pro/Projects/MonteCristo/NAIP/2022NAIP_MosaicMCgrey.tif /Volumes/Extreme\\ Pro/Projects/MonteCristo/NAIP/2022NAIP_MosaicMCgrey-clipped.tif\n",
    "#!gdalwarp -overwrite -ot Float32 -r cubic -t_srs EPSG:32611 -tr  0.6  0.6 -te 396443 4206843 444067 4237588 -of GTiff /Volumes/Extreme\\ Pro/Projects/MonteCristo/NAIP/2019NAIP_MosaicMCgrey.tif /Volumes/Extreme\\ Pro/Projects/MonteCristo/NAIP/2019NAIP_MosaicMCgrey-clipped.tif\n"
   ]
  },
  {
   "cell_type": "code",
   "execution_count": null,
   "metadata": {},
   "outputs": [],
   "source": [
    "!gdalwarp -t_srs EPSG:32611 -overwrite -te 409748 4218821 425618 4233820 -tr 0.5 -0.5 -r bilinear -of GTiff -ot Float32 /Users/chanagan/Library/CloudStorage/OneDrive-DOI/Projects/MonteCristo/Ortho/22NOV29215425-P1BS-016403365010_01_P001.tif /Volumes/Extreme\\ SSD/Projects/MonteCristo/micmacSingle/22NOV29215425-ortho-clip.tif\n",
    "!gdalwarp -t_srs EPSG:32611 -overwrite -te 409748 4218821 425618 4233820 -tr 0.5 -0.5 -r bilinear -of GTiff -ot Float32 /Users/chanagan/Library/CloudStorage/OneDrive-DOI/Projects/MonteCristo/Ortho/19APR27215045-P1BS-016403366010_01_P001.tif /Volumes/Extreme\\ SSD/Projects/MonteCristo/micmacSingle/19APR27215045-ortho-clip.tif"
   ]
  },
  {
   "cell_type": "code",
   "execution_count": 11,
   "metadata": {},
   "outputs": [
    {
     "ename": "SyntaxError",
     "evalue": "invalid decimal literal (3242845056.py, line 6)",
     "output_type": "error",
     "traceback": [
      "\u001b[0;36m  Cell \u001b[0;32mIn[11], line 6\u001b[0;36m\u001b[0m\n\u001b[0;31m    wv_correct 17OCT15185951-P1BS-016397961010_01_P001.TIF \\\u001b[0m\n\u001b[0m                ^\u001b[0m\n\u001b[0;31mSyntaxError\u001b[0m\u001b[0;31m:\u001b[0m invalid decimal literal\n"
     ]
    }
   ],
   "source": [
    "# MOVE EVERYTHING INTO DEDICATED FOLDER\n",
    "# Get STRM from opentopo and convert to ellipsoid heights\n",
    "dem_geoid --geoid egm2008 --reverse-adjustment \\\n",
    "  output-hh.tif -o dem\n",
    "\n",
    "wv_correct 17OCT15185951-P1BS-016397961010_01_P001.TIF \\\n",
    "           17OCT15185951-P1BS-016397961010_01_P001.XML \\\n",
    "           17OCT15185951-P1BS-016397961010_01_P001_wvc.TIF\n",
    "\n",
    "wv_correct 17OCT23190657-P1BS-016397963010_01_P001.TIF \\\n",
    "           17OCT23190657-P1BS-016397963010_01_P001.XML \\\n",
    "           17OCT23190657-P1BS-016397963010_01_P001_wvc.TIF\n",
    "\n",
    "wv_correct 22NOV29215336-P1BS-016403365010_01_P001.TIF \\\n",
    "           22NOV29215336-P1BS-016403365010_01_P001.XML \\\n",
    "           22NOV29215336-P1BS-016403365010_01_P001_wvc.TIF\n",
    "\n",
    "wv_correct 22NOV29215425-P1BS-016403365010_01_P001.TIF \\\n",
    "           22NOV29215425-P1BS-016403365010_01_P001.XML \\\n",
    "           22NOV29215425-P1BS-016403365010_01_P001_wvc.TIF\n",
    "\n",
    "mapproject -t rpc --t_srs \"+proj=utm +zone=11 +datum=WGS84 +units=m +no_defs +type=crs\" \\\n",
    "  --tr 0.5 dem-adj.tif    --processes    16             \\\n",
    "    17OCT15185951-P1BS-016397961010_01_P001_wvc.TIF \\\n",
    "    17OCT15185951-P1BS-016397961010_01_P001.XML         \\\n",
    "    leftpre_mapproj.tif \n",
    "\n",
    "mapproject -t rpc --t_srs \"+proj=utm +zone=11 +datum=WGS84 +units=m +no_defs +type=crs\" \\\n",
    "  --tr 0.5 dem-adj.tif    --processes    16                 \\\n",
    "    17OCT23190657-P1BS-016397963010_01_P001_wvc.TIF \\\n",
    "    17OCT23190657-P1BS-016397963010_01_P001.XML         \\\n",
    "    rightpre_mapproj.tif \n",
    "mapproject -t rpc --t_srs \"+proj=utm +zone=11 +datum=WGS84 +units=m +no_defs +type=crs\" \\\n",
    "  --tr 0.5 dem-adj.tif     --processes    16              \\\n",
    "    22NOV29215336-P1BS-016403365010_01_P001_wvc.TIF \\\n",
    "    22NOV29215336-P1BS-016403365010_01_P001.XML         \\\n",
    "    leftpost_mapproj.tif \n",
    "mapproject -t rpc --t_srs \"+proj=utm +zone=11 +datum=WGS84 +units=m +no_defs +type=crs\" \\\n",
    "  --tr 0.5 dem-adj.tif        --processes    16                              \\\n",
    "    22NOV29215425-P1BS-016403365010_01_P001_wvc.TIF \\\n",
    "    22NOV29215425-P1BS-016403365010_01_P001.XML         \\\n",
    "    rightpost_mapproj.tif \n",
    "parallel_stereo -t dg   --processes    8                 \\\n",
    "  --alignment-method none \\\n",
    "  --stereo-algorithm asp_mgm        \\\n",
    "  --subpixel-mode 3  leftpost_mapproj.tif rightpost_mapproj.tif \\\n",
    "    22NOV29215336-P1BS-016403365010_01_P001.XML \\\n",
    "    22NOV29215425-P1BS-016403365010_01_P001.XML \\\n",
    "    run_post/run dem-adj.tif \n",
    "parallel_stereo -t dg   --processes    8                 \\\n",
    "  --alignment-method none \\\n",
    "  --stereo-algorithm asp_mgm        \\\n",
    "  --subpixel-mode 3 \\\n",
    "    leftpre_mapproj.tif rightpre_mapproj.tif \\\n",
    "    17OCT15185951-P1BS-016397961010_01_P001.XML \\\n",
    "    17OCT23190657-P1BS-016397963010_01_P001.XML  \\\n",
    "    run_pre/run dem-adj.tif \n",
    "\n",
    "pc_align --max-displacement 20 --highest-accuracy \\\n",
    "    --save-transformed-source-points \\\n",
    "    run_pre/run-PC.tif run_post/run-PC.tif \\\n",
    "    -o run_post/run-aligned \n",
    "\n",
    "point2dem --nodata-value -9999 --tr 0.5 --utm 11 run_post/run-aligned-trans_source.tif -o run_post/run\n",
    "point2dem --nodata-value -9999 --tr 0.5 --utm 11 run_pre/run-PC.tif -o run_pre/run --orthoimage run_pre/run-L.tif\n",
    "\n"
   ]
  },
  {
   "cell_type": "code",
   "execution_count": 5,
   "metadata": {},
   "outputs": [
    {
     "name": "stdout",
     "output_type": "stream",
     "text": [
      "Creating output file that is 74396P x 30274L.\n",
      "Processing /Users/chanagan/Library/CloudStorage/OneDrive-DOI/Projects/MonteCristo/Dem/MCpostDEM50cm.tif [1/1] : 0...10...20...30...40...50...60...70...80...90...100 - done.\n",
      "Creating output file that is 74396P x 30274L.\n",
      "Processing /Users/chanagan/Library/CloudStorage/OneDrive-DOI/Projects/MonteCristo/Dem/MCpreDEM50cm.tif [1/1] : 0...10...20...30...40...50...60...70...80...90...100 - done.\n"
     ]
    }
   ],
   "source": [
    "# Non-stereo primarily, less time separation\n",
    "\n",
    "## OLD - primarily stereo, large time separation\n",
    "#!gdalwarp -overwrite -srcnodata 0 -dstnodata -9999 -ot Float32 -r near -tr  0.5  0.5 -te  404262 4219102 441460 4234239 /Users/chanagan/Library/CloudStorage/OneDrive-DOI/Projects/MonteCristo/Ortho/18JUN07215040-P1BS-016403364010_01_P001.tif /Users/chanagan/Library/CloudStorage/OneDrive-DOI/Projects/MonteCristo/Ortho/17OCT15185951-P1BS-016397961010_01_P001.tif /Users/chanagan/Library/CloudStorage/OneDrive-DOI/Projects/MonteCristo/Ortho/19APR27215045-P1BS-016403366010_01_P001.tif /Users/chanagan/Library/CloudStorage/OneDrive-DOI/Projects/MonteCristo/Ortho/19APR27215106-P1BS-016403367010_01_P001.tif /Users/chanagan/Library/CloudStorage/OneDrive-DOI/Projects/MonteCristo/Ortho/MCpre1-merged.tif\n",
    "#!gdalwarp -overwrite -srcnodata 0 -dstnodata -9999 -ot Float32 -r near -tr  0.5  0.5 -te  404262 4219102 441460 4234239 /Users/chanagan/Library/CloudStorage/OneDrive-DOI/Projects/MonteCristo/Ortho/18JUN07215127-P1BS-016403364010_01_P001.tif /Users/chanagan/Library/CloudStorage/OneDrive-DOI/Projects/MonteCristo/Ortho/17OCT23190657-P1BS-016397963010_01_P001.tif /Users/chanagan/Library/CloudStorage/OneDrive-DOI/Projects/MonteCristo/Ortho/19APR27215135-P1BS-016403366010_01_P001.tif /Users/chanagan/Library/CloudStorage/OneDrive-DOI/Projects/MonteCristo/Ortho/19APR27215157-P1BS-016403367010_01_P001.tif /Users/chanagan/Library/CloudStorage/OneDrive-DOI/Projects/MonteCristo/Ortho/MCpre2-merged.tif\n",
    "\n",
    "#!gdalwarp -overwrite -srcnodata 0 -dstnodata -9999 -ot Float32 -r near -tr  0.5  0.5 -te  404262 4219102 441460 4234239 /Users/chanagan/Library/CloudStorage/OneDrive-DOI/Projects/MonteCristo/Ortho/22NOV29215336-P1BS-016403365010_01_P001.tif /Users/chanagan/Library/CloudStorage/OneDrive-DOI/Projects/MonteCristo/Ortho/23APR01215227-P1BS-016403368010_01_P001.tif /Users/chanagan/Library/CloudStorage/OneDrive-DOI/Projects/MonteCristo/Ortho/MCpost1-merged.tif\n",
    "#!gdalwarp -overwrite -srcnodata 0 -dstnodata -9999 -ot Float32 -r near -tr  0.5  0.5 -te  404262 4219102 441460 4234239 /Users/chanagan/Library/CloudStorage/OneDrive-DOI/Projects/MonteCristo/Ortho/22NOV29215425-P1BS-016403365010_01_P001.tif /Users/chanagan/Library/CloudStorage/OneDrive-DOI/Projects/MonteCristo/Ortho/23APR01215317-P1BS-016403368010_01_P001.tif /Users/chanagan/Library/CloudStorage/OneDrive-DOI/Projects/MonteCristo/Ortho/MCpost2-merged.tif\n",
    "\n",
    "#!gdalwarp -overwrite -srcnodata 0 -dstnodata -9999 -ot Float32 -r near -tr  0.5  0.5 -te  404262 4219102 441460 4234239 /Users/chanagan/Library/CloudStorage/OneDrive-DOI/Projects/MonteCristo/Dem/MCpostDEM50cm.tif /Users/chanagan/Library/CloudStorage/OneDrive-DOI/Projects/MonteCristo/Dem/MCpostDEM50cm-clipped.tif\n",
    "#!gdalwarp -overwrite -srcnodata 0 -dstnodata -9999 -ot Float32 -r near -tr  0.5  0.5 -te  404262 4219102 441460 4234239 /Users/chanagan/Library/CloudStorage/OneDrive-DOI/Projects/MonteCristo/Dem/MCpreDEM50cm.tif /Users/chanagan/Library/CloudStorage/OneDrive-DOI/Projects/MonteCristo/Dem/MCpreDEM50cm-clipped.tif"
   ]
  },
  {
   "cell_type": "code",
   "execution_count": 23,
   "metadata": {},
   "outputs": [
    {
     "name": "stderr",
     "output_type": "stream",
     "text": [
      "ERROR 1: /Users/chanagan/Library/CloudStorage/OneDrive-DOI/Projects/MonteCristo/micmac/defaultsMEC2/Px1_Num5_DeZoom1_LeChantier.tif: MissingRequired:TIFF directory is missing required \"TileOffsets\" field\n",
      "ERROR 1: /Users/chanagan/Library/CloudStorage/OneDrive-DOI/Projects/MonteCristo/micmac/defaultsMEC2/Px2_Num5_DeZoom1_LeChantier.tif: MissingRequired:TIFF directory is missing required \"TileOffsets\" field\n",
      "ERROR 1: /Users/chanagan/Library/CloudStorage/OneDrive-DOI/Projects/MonteCristo/micmac/defaultsMEC3/Px1_Num5_DeZoom1_LeChantier.tif: MissingRequired:TIFF directory is missing required \"TileOffsets\" field\n",
      "ERROR 1: /Users/chanagan/Library/CloudStorage/OneDrive-DOI/Projects/MonteCristo/micmac/defaultsMEC3/Px2_Num5_DeZoom1_LeChantier.tif: MissingRequired:TIFF directory is missing required \"TileOffsets\" field\n",
      "ERROR 1: /Users/chanagan/Library/CloudStorage/OneDrive-DOI/Projects/MonteCristo/micmac/defaultsMEC4/Px1_Num5_DeZoom1_LeChantier.tif: MissingRequired:TIFF directory is missing required \"TileOffsets\" field\n",
      "ERROR 1: /Users/chanagan/Library/CloudStorage/OneDrive-DOI/Projects/MonteCristo/micmac/defaultsMEC4/Px2_Num5_DeZoom1_LeChantier.tif: MissingRequired:TIFF directory is missing required \"TileOffsets\" field\n"
     ]
    }
   ],
   "source": [
    "Dont rerun\n",
    "# merge tiles (large scene)\n",
    "for fold in ['defaultsMEC1/','defaultsMEC2/','defaultsMEC3/','defaultsMEC4/']:\n",
    "    im1 = gdal.Open(folder+fold+'Px1_Num5_DeZoom1_LeChantier_Tile_0_0.tif')\n",
    "    im1data = im1.GetRasterBand(1).ReadAsArray()\n",
    "    im2 = gdal.Open(folder+fold+'Px1_Num5_DeZoom1_LeChantier_Tile_1_0.tif')\n",
    "    im2data = im2.GetRasterBand(1).ReadAsArray()\n",
    "    imdata = np.hstack([im1data,im2data])\n",
    "    tt.save_geotiff(imdata,folder+fold+'Px1_Num5_DeZoom1_LeChantier.tif',im1.GetGeoTransform(),'')\n",
    "\n",
    "    im1 = gdal.Open(folder+fold+'Px2_Num5_DeZoom1_LeChantier_Tile_0_0.tif')\n",
    "    im1data = im1.GetRasterBand(1).ReadAsArray()\n",
    "    im2 = gdal.Open(folder+fold+'Px2_Num5_DeZoom1_LeChantier_Tile_1_0.tif')\n",
    "    im2data = im2.GetRasterBand(1).ReadAsArray()\n",
    "    imdata = np.hstack([im1data,im2data])\n",
    "    tt.save_geotiff(imdata,folder+fold+'Px2_Num5_DeZoom1_LeChantier.tif',im1.GetGeoTransform(),'')\n"
   ]
  },
  {
   "cell_type": "code",
   "execution_count": 3,
   "metadata": {},
   "outputs": [
    {
     "name": "stderr",
     "output_type": "stream",
     "text": [
      "/Users/chanagan/miniconda3/envs/pygmt/lib/python3.12/site-packages/osgeo/gdal.py:312: FutureWarning: Neither gdal.UseExceptions() nor gdal.DontUseExceptions() has been explicitly called. In GDAL 4.0, exceptions will be enabled by default.\n",
      "  warnings.warn(\n"
     ]
    },
    {
     "name": "stdout",
     "output_type": "stream",
     "text": [
      "Saving /Users/chanagan/Library/CloudStorage/OneDrive-DOI/Projects/MonteCristo/micmac/defaultsMEC1/NSmicmac.tif\n",
      "Saving /Users/chanagan/Library/CloudStorage/OneDrive-DOI/Projects/MonteCristo/micmac/defaultsMEC1/EWmicmac.tif\n",
      "Saving /Users/chanagan/Library/CloudStorage/OneDrive-DOI/Projects/MonteCristo/micmac/defaultsMEC1/Correlmicmac.tif\n",
      "Saving /Users/chanagan/Library/CloudStorage/OneDrive-DOI/Projects/MonteCristo/micmac/defaultsMEC2/NSmicmac.tif\n",
      "Saving /Users/chanagan/Library/CloudStorage/OneDrive-DOI/Projects/MonteCristo/micmac/defaultsMEC2/EWmicmac.tif\n",
      "Saving /Users/chanagan/Library/CloudStorage/OneDrive-DOI/Projects/MonteCristo/micmac/defaultsMEC2/Correlmicmac.tif\n",
      "Saving /Users/chanagan/Library/CloudStorage/OneDrive-DOI/Projects/MonteCristo/micmac/defaultsMEC3/NSmicmac.tif\n",
      "Saving /Users/chanagan/Library/CloudStorage/OneDrive-DOI/Projects/MonteCristo/micmac/defaultsMEC3/EWmicmac.tif\n",
      "Saving /Users/chanagan/Library/CloudStorage/OneDrive-DOI/Projects/MonteCristo/micmac/defaultsMEC3/Correlmicmac.tif\n",
      "Saving /Users/chanagan/Library/CloudStorage/OneDrive-DOI/Projects/MonteCristo/micmac/defaultsMEC4/NSmicmac.tif\n",
      "Saving /Users/chanagan/Library/CloudStorage/OneDrive-DOI/Projects/MonteCristo/micmac/defaultsMEC4/EWmicmac.tif\n",
      "Saving /Users/chanagan/Library/CloudStorage/OneDrive-DOI/Projects/MonteCristo/micmac/defaultsMEC4/Correlmicmac.tif\n"
     ]
    }
   ],
   "source": [
    "Dont rerun\n",
    "# Make EW and NS displacement maps\n",
    "for fold in ['defaultsMEC1/','defaultsMEC2/','defaultsMEC3/','defaultsMEC4/']:\n",
    "    tt.micmacPostProcessing(folder=folder+fold,\n",
    "                         prefile=folder+'MCpre1-merged.tif',\n",
    "                         outprefix=folder+fold)"
   ]
  },
  {
   "cell_type": "code",
   "execution_count": 4,
   "metadata": {},
   "outputs": [
    {
     "name": "stderr",
     "output_type": "stream",
     "text": [
      "/Users/chanagan/miniconda3/envs/pygmt/lib/python3.12/site-packages/osgeo/gdal.py:312: FutureWarning: Neither gdal.UseExceptions() nor gdal.DontUseExceptions() has been explicitly called. In GDAL 4.0, exceptions will be enabled by default.\n",
      "  warnings.warn(\n"
     ]
    }
   ],
   "source": [
    "Don't Rerun unless necessary\n",
    "# 4 Vertical maps, instead of one from stacked displacements\n",
    "dem1file = folder+'MCpreDEM50cm-clipped.tif'\n",
    "dem2file = folder+'MCpostDEM50cm-clipped.tif'\n",
    "for fold in ['defaultsMEC1','defaultsMEC2','defaultsMEC3','defaultsMEC4']:\n",
    "    nsfile = folder+fold+'/NSmicmac.tif'\n",
    "    ewfile = folder+fold+'/EWmicmac.tif'\n",
    "    tt.verticalDisp(dem1file,dem2file,nsfile,ewfile,outf=folder+fold+'/UDmicmac.tif')"
   ]
  },
  {
   "cell_type": "code",
   "execution_count": 5,
   "metadata": {},
   "outputs": [
    {
     "name": "stdout",
     "output_type": "stream",
     "text": [
      "['/Users/chanagan/Library/CloudStorage/OneDrive-DOI/Projects/MonteCristo/micmac/defaultsMEC1/', '/Users/chanagan/Library/CloudStorage/OneDrive-DOI/Projects/MonteCristo/micmac/defaultsMEC2/', '/Users/chanagan/Library/CloudStorage/OneDrive-DOI/Projects/MonteCristo/micmac/defaultsMEC3/', '/Users/chanagan/Library/CloudStorage/OneDrive-DOI/Projects/MonteCristo/micmac/defaultsMEC4/']\n"
     ]
    }
   ],
   "source": [
    "infolderlist = []\n",
    "for fold in ['defaultsMEC1/','defaultsMEC2/','defaultsMEC3/','defaultsMEC4/']:\n",
    "    infolderlist.append(folder+fold)\n",
    "print(infolderlist)"
   ]
  },
  {
   "cell_type": "code",
   "execution_count": 6,
   "metadata": {},
   "outputs": [
    {
     "name": "stdout",
     "output_type": "stream",
     "text": [
      "0...10...20...30...40...50...60...70...80...90...100 - done.\n",
      "0...10...20...30...40...50...60...70...80...90...100 - done.\n",
      "0...10...20...30...40...50...60...70...80...90...100 - done.\n",
      "0...10...20...30...40...50...60...70...80...90...100 - done.\n"
     ]
    },
    {
     "data": {
      "text/plain": [
       "'Done!'"
      ]
     },
     "execution_count": 6,
     "metadata": {},
     "output_type": "execute_result"
    }
   ],
   "source": [
    "Don't Rerun unless necessary\n",
    "# Stack the displacement maps based on correlation score\n",
    "tt.micmacSimpleStack(infolderlist,folder)"
   ]
  },
  {
   "cell_type": "markdown",
   "metadata": {},
   "source": [
    "## Filter"
   ]
  },
  {
   "cell_type": "code",
   "execution_count": 2,
   "metadata": {},
   "outputs": [],
   "source": [
    "from osgeo import gdal\n",
    "import numpy as np\n",
    "import pandas as pd\n",
    "import os\n",
    "#import pandas as pd\n",
    "import matplotlib.pyplot as plt\n",
    "import sys\n",
    "sys.path.append('../Functions')\n",
    "import TiffTools as tt\n",
    "\n",
    "%load_ext autoreload\n",
    "%autoreload 2"
   ]
  },
  {
   "cell_type": "code",
   "execution_count": 1,
   "metadata": {},
   "outputs": [],
   "source": [
    "folder = '/Users/chanagan/Library/CloudStorage/OneDrive-DOI/Projects/MonteCristo/micmac/'"
   ]
  },
  {
   "cell_type": "code",
   "execution_count": 6,
   "metadata": {},
   "outputs": [],
   "source": [
    "import numpy as np\n",
    "from scipy import signal\n",
    "\n",
    "def apply_edge_window_2d(chunk, window_type='hann', edge_ratio=0.1):\n",
    "    \"\"\"\n",
    "    Apply a window function to the edges of a 2D chunk to reduce edge effects.\n",
    "    \"\"\"\n",
    "    rows, cols = chunk.shape\n",
    "    window_rows = int(rows * edge_ratio)\n",
    "    window_cols = int(cols * edge_ratio)\n",
    "\n",
    "    if window_type == 'hann':\n",
    "        window_row = np.hanning(2 * window_rows)\n",
    "        window_col = np.hanning(2 * window_cols)\n",
    "    elif window_type == 'hamming':\n",
    "        window_row = np.hamming(2 * window_rows)\n",
    "        window_col = np.hamming(2 * window_cols)\n",
    "    else:\n",
    "        raise ValueError(f\"Unsupported window type: {window_type}\")\n",
    "\n",
    "    window_row = np.concatenate([window_row[:window_rows], np.ones(rows - 2 * window_rows), window_row[window_rows:]])\n",
    "    window_col = np.concatenate([window_col[:window_cols], np.ones(cols - 2 * window_cols), window_col[window_cols:]])\n",
    "\n",
    "    window_2d = np.outer(window_row, window_col)\n",
    "    windowed_chunk = chunk * window_2d\n",
    "\n",
    "    return windowed_chunk\n",
    "\n",
    "def create_filter(filter_type, cutoff_low, cutoff_high):\n",
    "    \"\"\"\n",
    "    Create a Butterworth filter based on the specified type and cutoff frequencies.\n",
    "    \"\"\"\n",
    "    if filter_type == 'high':\n",
    "        b, a = signal.butter(4, cutoff_high, btype='high')\n",
    "    elif filter_type == 'low':\n",
    "        b, a = signal.butter(4, cutoff_low, btype='low')\n",
    "    elif filter_type == 'band':\n",
    "        b, a = signal.butter(4, [cutoff_low, cutoff_high], btype='band')\n",
    "    else:\n",
    "        print(f\"Filter type: {filter_type}\")\n",
    "    return b, a\n",
    "\n",
    "def process_image(image, row_filter_type='band', row_cutoff_low=0.001, row_cutoff_high=0.1,\n",
    "                  col_filter_type='band', col_cutoff_low=0.001, col_cutoff_high=0.1,\n",
    "                  stripw=100000, window_type='hann', edge_ratio=0.1):\n",
    "    \"\"\"\n",
    "    Process the image to remove satellite stripes and waves while preserving\n",
    "    long-wavelength fault deformation and near-fault offsets.\n",
    "    \n",
    "    Parameters:\n",
    "        image (np.array): 2D image array.\n",
    "        row_filter_type (str): Type of filter to apply on rows ('high', 'low', 'band').\n",
    "        row_cutoff_low (float): Low cutoff frequency for row filtering.\n",
    "        row_cutoff_high (float): High cutoff frequency for row filtering.\n",
    "        col_filter_type (str): Type of filter to apply on columns ('high', 'low', 'band').\n",
    "        col_cutoff_low (float): Low cutoff frequency for column filtering.\n",
    "        col_cutoff_high (float): High cutoff frequency for column filtering.\n",
    "        stripw (int): Width of strips for processing.\n",
    "        window_type (str): Type of window function to apply ('hann', 'hamming').\n",
    "        edge_ratio (float): Fraction of the strip edges to apply windowing.\n",
    "    \n",
    "    Returns:\n",
    "        np.array: Filtered image.\n",
    "    \"\"\"\n",
    "    # NAN mask\n",
    "    mask = (np.abs(image) > 10)\n",
    "    image[mask] = np.nan\n",
    "\n",
    "    # Initialize arrays to store filtered results\n",
    "    chunk_filtered_col = np.zeros_like(image)\n",
    "    chunk_filtered_row = np.zeros_like(image)\n",
    "\n",
    "    # Process the image in chunks of stripw rows at a time\n",
    "    if row_filter_type is not None:\n",
    "        b_row, a_row = create_filter(row_filter_type, row_cutoff_low, row_cutoff_high)\n",
    "        for start_row in range(0, image.shape[0], stripw):\n",
    "            end_row = min(start_row + stripw, image.shape[0])\n",
    "            chunk = image[start_row:end_row, :]\n",
    "\n",
    "            # Apply windowing to the chunk to reduce edge effects\n",
    "            chunk = apply_edge_window_2d(chunk, window_type, edge_ratio)\n",
    "\n",
    "            # Sum along columns for this chunk\n",
    "            signal_row = np.sum(chunk, axis=0)\n",
    "            signal_row[np.isnan(signal_row)] = 0\n",
    "\n",
    "            # Apply the chosen filter to remove stripes/waves\n",
    "            filter_row = signal.filtfilt(b_row, a_row, signal_row)\n",
    "\n",
    "            # Subtract the filtered signal from each row in the chunk\n",
    "            chunk_filtered_row[start_row:end_row, :] = filter_row[np.newaxis, :] / (end_row - start_row)\n",
    "\n",
    "    # Process the image in chunks of stripw columns at a time\n",
    "    if col_filter_type is not None:\n",
    "        b_col, a_col = create_filter(col_filter_type, col_cutoff_low, col_cutoff_high)\n",
    "        for start_col in range(0, image.shape[1], stripw):\n",
    "            end_col = min(start_col + stripw, image.shape[1])\n",
    "            chunk = image[:, start_col:end_col]\n",
    "\n",
    "            # Apply windowing to the chunk to reduce edge effects\n",
    "            chunk = apply_edge_window_2d(chunk.T, window_type, edge_ratio).T\n",
    "\n",
    "            # Sum along rows for this chunk\n",
    "            signal_col = np.sum(chunk, axis=1)\n",
    "            signal_col[np.isnan(signal_col)] = 0\n",
    "\n",
    "            # Apply the chosen filter to remove stripes/waves\n",
    "            filter_col = signal.filtfilt(b_col, a_col, signal_col)\n",
    "\n",
    "            # Subtract the filtered signal from each column in the chunk\n",
    "            chunk_filtered_col[:, start_col:end_col] = filter_col[:, np.newaxis] / (end_col - start_col)\n",
    "\n",
    "    # Combine the results to get the final filtered image\n",
    "    filtered_image = image - chunk_filtered_row - chunk_filtered_col\n",
    "\n",
    "    # Handle any remaining NANs or zeros\n",
    "    filtered_image[np.isnan(filtered_image)] = 0\n",
    "\n",
    "    return filtered_image"
   ]
  },
  {
   "cell_type": "code",
   "execution_count": 3,
   "metadata": {},
   "outputs": [
    {
     "name": "stderr",
     "output_type": "stream",
     "text": [
      "/Users/chanagan/miniconda3/envs/pygmt/lib/python3.12/site-packages/osgeo/gdal.py:312: FutureWarning: Neither gdal.UseExceptions() nor gdal.DontUseExceptions() has been explicitly called. In GDAL 4.0, exceptions will be enabled by default.\n",
      "  warnings.warn(\n"
     ]
    }
   ],
   "source": [
    "from scipy import signal\n",
    "\n",
    "im = gdal.Open(folder+'EWDispStacked.tif')\n",
    "\n",
    "imdata = im.GetRasterBand(1).ReadAsArray()[10000:,10000:]"
   ]
  },
  {
   "cell_type": "code",
   "execution_count": 9,
   "metadata": {},
   "outputs": [],
   "source": [
    "y = imdata[:,1000]\n",
    "y_smooth = signal.savgol_filter(y, window_length=100, polyorder=3, mode=\"nearest\")"
   ]
  },
  {
   "cell_type": "code",
   "execution_count": 10,
   "metadata": {},
   "outputs": [
    {
     "data": {
      "text/plain": [
       "[<matplotlib.lines.Line2D at 0x7857978f0>]"
      ]
     },
     "execution_count": 10,
     "metadata": {},
     "output_type": "execute_result"
    },
    {
     "data": {
      "image/png": "[encoded data removed]",
      "text/plain": [
       "<Figure size 640x480 with 1 Axes>"
      ]
     },
     "metadata": {},
     "output_type": "display_data"
    }
   ],
   "source": [
    "plt.plot(y)\n",
    "plt.plot(y_smooth)"
   ]
  },
  {
   "cell_type": "code",
   "execution_count": 9,
   "metadata": {},
   "outputs": [],
   "source": [
    "inlist = [folder+'defaultsMEC1/NSmicmac.tif',\n",
    "    folder+'defaultsMEC3/NSmicmac.tif',\n",
    "    folder+'defaultsMEC2/NSmicmac.tif',\n",
    "    folder+'defaultsMEC4/NSmicmac.tif',\n",
    "    folder+'defaultsMEC1/EWmicmac.tif',\n",
    "    folder+'defaultsMEC3/EWmicmac.tif',\n",
    "    folder+'defaultsMEC2/EWmicmac.tif',\n",
    "    folder+'defaultsMEC4/EWmicmac.tif',\n",
    "    folder+'defaultsMEC1/UDmicmac.tif',\n",
    "    folder+'defaultsMEC3/UDmicmac.tif',\n",
    "    folder+'defaultsMEC2/UDmicmac.tif',\n",
    "    folder+'defaultsMEC4/UDmicmac.tif',\n",
    "]\n",
    "inlist2 = [folder+'EWDispStacked.tif',\n",
    "    folder+'NSDispStacked.tif',\n",
    "    folder+'UDDispStacked.tif']"
   ]
  },
  {
   "cell_type": "code",
   "execution_count": 10,
   "metadata": {},
   "outputs": [
    {
     "ename": "",
     "evalue": "",
     "output_type": "error",
     "traceback": [
      "\u001b[1;31mThe Kernel crashed while executing code in the current cell or a previous cell. \n",
      "\u001b[1;31mPlease review the code in the cell(s) to identify a possible cause of the failure. \n",
      "\u001b[1;31mClick <a href='https://aka.ms/vscodeJupyterKernelCrash'>here</a> for more info. \n",
      "\u001b[1;31mView Jupyter <a href='command:jupyter.viewOutput'>log</a> for further details."
     ]
    }
   ],
   "source": [
    "# Filter all images\n",
    "for file in [inlist2[0]]:\n",
    "    im = gdal.Open(file)\n",
    "    imdata = im.GetRasterBand(1).ReadAsArray()\n",
    "    filtered = process_image(imdata, row_filter_type='band', row_cutoff_low=0.0005, row_cutoff_high=0.1,\n",
    "                  col_filter_type=None, col_cutoff_low=0.001, col_cutoff_high=0.01, \n",
    "                  stripw=5000, window_type='hann', edge_ratio=0.1)\n",
    "    \n",
    "    # Save Files\n",
    "    tt.save_geotiff(filtered,file[:-12]+f'{file[-12:-4]}_filtered.tif',im.GetGeoTransform(),im.GetProjection())"
   ]
  },
  {
   "cell_type": "code",
   "execution_count": 13,
   "metadata": {},
   "outputs": [
    {
     "data": {
      "text/plain": [
       "2000.0"
      ]
     },
     "execution_count": 13,
     "metadata": {},
     "output_type": "execute_result"
    }
   ],
   "source": [
    "1/0.0005"
   ]
  },
  {
   "cell_type": "code",
   "execution_count": 19,
   "metadata": {},
   "outputs": [],
   "source": [
    "im = gdal.Open(inlist[0])\n",
    "imdata = im.GetRasterBand(1).ReadAsArray()[10000:,10000:]"
   ]
  },
  {
   "cell_type": "code",
   "execution_count": 22,
   "metadata": {},
   "outputs": [],
   "source": [
    "filtered= process_image(imdata, row_filter_type='band', row_cutoff_low=0.001, row_cutoff_high=0.1,\n",
    "                  col_filter_type=None, col_cutoff_low=0.001, col_cutoff_high=0.01, \n",
    "                  stripw=500, window_type='hann', edge_ratio=0.1)"
   ]
  },
  {
   "cell_type": "code",
   "execution_count": 21,
   "metadata": {},
   "outputs": [
    {
     "data": {
      "image/png": "[encoded data removed]",
      "text/plain": [
       "<Figure size 640x480 with 1 Axes>"
      ]
     },
     "metadata": {},
     "output_type": "display_data"
    }
   ],
   "source": [
    "plt.imshow(filtered)\n",
    "plt.show()"
   ]
  },
  {
   "cell_type": "code",
   "execution_count": null,
   "metadata": {},
   "outputs": [],
   "source": []
  }
 ],
 "metadata": {
  "kernelspec": {
   "display_name": "pygmt",
   "language": "python",
   "name": "python3"
  },
  "language_info": {
   "codemirror_mode": {
    "name": "ipython",
    "version": 3
   },
   "file_extension": ".py",
   "mimetype": "text/x-python",
   "name": "python",
   "nbconvert_exporter": "python",
   "pygments_lexer": "ipython3",
   "version": "3.12.6"
  }
 },
 "nbformat": 4,
 "nbformat_minor": 2
}
