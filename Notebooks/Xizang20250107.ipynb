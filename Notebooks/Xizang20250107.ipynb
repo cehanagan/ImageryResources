{
 "cells": [
  {
   "cell_type": "code",
   "execution_count": 3,
   "metadata": {},
   "outputs": [],
   "source": [
    "import os\n",
    "from osgeo import gdal\n",
    "import sys\n",
    "sys.path.append('/Users/chanagan/Documents/GitHub/ImageryResources/Functions/')\n",
    "import TiffTools as tt\n",
    "\n",
    "import matplotlib.pyplot as plt\n",
    "import pandas as pd\n",
    "import numpy as np\n",
    "\n",
    "%load_ext autoreload\n",
    "%autoreload 2"
   ]
  },
  {
   "cell_type": "code",
   "execution_count": 4,
   "metadata": {},
   "outputs": [
    {
     "name": "stdout",
     "output_type": "stream",
     "text": [
      "Driver: GTiff/GeoTIFF\n",
      "Files: /Users/chanagan/Downloads/XizangWVProcessing/MaxarOrthos/25JAN11045451-P3DS_R1C2-050279281010_01_P001.TIF\n",
      "Size is 16384, 16384\n",
      "Coordinate System is:\n",
      "PROJCRS[\"WGS 84 / UTM zone 45N\",\n",
      "    BASEGEOGCRS[\"WGS 84\",\n",
      "        DATUM[\"World Geodetic System 1984\",\n",
      "            ELLIPSOID[\"WGS 84\",6378137,298.257223563,\n",
      "                LENGTHUNIT[\"metre\",1]]],\n",
      "        PRIMEM[\"Greenwich\",0,\n",
      "            ANGLEUNIT[\"degree\",0.0174532925199433]],\n",
      "        ID[\"EPSG\",4326]],\n",
      "    CONVERSION[\"UTM zone 45N\",\n",
      "        METHOD[\"Transverse Mercator\",\n",
      "            ID[\"EPSG\",9807]],\n",
      "        PARAMETER[\"Latitude of natural origin\",0,\n",
      "            ANGLEUNIT[\"degree\",0.0174532925199433],\n",
      "            ID[\"EPSG\",8801]],\n",
      "        PARAMETER[\"Longitude of natural origin\",87,\n",
      "            ANGLEUNIT[\"degree\",0.0174532925199433],\n",
      "            ID[\"EPSG\",8802]],\n",
      "        PARAMETER[\"Scale factor at natural origin\",0.9996,\n",
      "            SCALEUNIT[\"unity\",1],\n",
      "            ID[\"EPSG\",8805]],\n",
      "        PARAMETER[\"False easting\",500000,\n",
      "            LENGTHUNIT[\"metre\",1],\n",
      "            ID[\"EPSG\",8806]],\n",
      "        PARAMETER[\"False northing\",0,\n",
      "            LENGTHUNIT[\"metre\",1],\n",
      "            ID[\"EPSG\",8807]]],\n",
      "    CS[Cartesian,2],\n",
      "        AXIS[\"(E)\",east,\n",
      "            ORDER[1],\n",
      "            LENGTHUNIT[\"metre\",1]],\n",
      "        AXIS[\"(N)\",north,\n",
      "            ORDER[2],\n",
      "            LENGTHUNIT[\"metre\",1]],\n",
      "    USAGE[\n",
      "        SCOPE[\"Navigation and medium accuracy spatial referencing.\"],\n",
      "        AREA[\"Between 84°E and 90°E, northern hemisphere between equator and 84°N, onshore and offshore. Bangladesh. Bhutan. China. India. Kazakhstan. Mongolia. Nepal. Russian Federation.\"],\n",
      "        BBOX[0,84,84,90]],\n",
      "    ID[\"EPSG\",32645]]\n",
      "Data axis to CRS axis mapping: 1,2\n",
      "Origin = (549492.549039000063203,3176850.732265000231564)\n",
      "Pixel Size = (0.380363000000000,-0.380363000000000)\n",
      "Metadata:\n",
      "  TIFFTAG_IMAGEDESCRIPTION={\n",
      "  bandlist = \n",
      "  [\n",
      "    1;\n",
      "  ]\n",
      "}\n",
      "  TIFFTAG_DATETIME=2025:01:13 20:24:33\n",
      "  TIFFTAG_COPYRIGHT=Copyright 2025 Maxar Technologies\n",
      "  TIFFTAG_MINSAMPLEVALUE=0\n",
      "  TIFFTAG_MAXSAMPLEVALUE=255\n",
      "  METADATATYPE=DG\n",
      "  AREA_OR_POINT=Area\n",
      "Image Structure Metadata:\n",
      "  INTERLEAVE=BAND\n",
      "Corner Coordinates:\n",
      "Upper Left  (  549492.549, 3176850.732) ( 87d30'24.35\"E, 28d43' 4.88\"N)\n",
      "Lower Left  (  549492.549, 3170618.865) ( 87d30'23.38\"E, 28d39'42.38\"N)\n",
      "Upper Right (  555724.416, 3176850.732) ( 87d34'14.06\"E, 28d43' 3.97\"N)\n",
      "Lower Right (  555724.416, 3170618.865) ( 87d34'12.96\"E, 28d39'41.47\"N)\n",
      "Center      (  552608.483, 3173734.799) ( 87d32'18.69\"E, 28d41'23.19\"N)\n",
      "Band 1 Block=16384x1 Type=Byte, ColorInterp=Gray\n"
     ]
    }
   ],
   "source": [
    "!gdalinfo /Users/chanagan/Downloads/XizangWVProcessing/MaxarOrthos/25JAN11045451-P3DS_R1C2-050279281010_01_P001.TIF"
   ]
  },
  {
   "cell_type": "code",
   "execution_count": 8,
   "metadata": {},
   "outputs": [],
   "source": [
    "# Stitch together lidar tiles\n",
    "rewrite = True\n",
    "flist = ['/Users/chanagan/Downloads/XizangWVProcessing/MaxarOrthos/25JAN11045451-P3DS_R1C2-050279281010_01_P001.TIF',\n",
    "        '/Users/chanagan/Downloads/XizangWVProcessing/MaxarOrthos/25JAN11045451-P3DS_R2C2-050279281010_01_P001.TIF',\n",
    "        '/Users/chanagan/Downloads/XizangWVProcessing/MaxarOrthos/25JAN11045451-P3DS_R3C2-050279281010_01_P001.TIF',\n",
    "        '/Users/chanagan/Downloads/XizangWVProcessing/MaxarOrthos/25JAN11045451-P3DS_R4C2-050279281010_01_P001.TIF',\n",
    "        '/Users/chanagan/Downloads/XizangWVProcessing/MaxarOrthos/25JAN11045451-P3DS_R5C2-050279281010_01_P001.TIF']\n",
    "ullr = [549499.30,3176264.38, 555691.6,3150954.9]\n",
    "#ullr = [675564-2000, 4035914-2000, 675564+2000, 4035914+2000]\n",
    "\n",
    "if rewrite == True:\n",
    "    with gdal.Warp(\n",
    "    f'/Users/chanagan/Downloads/XizangWVProcessing/MaxarOrthos/25JAN11045451_mosaic.tif',\n",
    "    flist,\n",
    "    srcSRS='EPSG:32645',\n",
    "    dstSRS='EPSG:32645',\n",
    "    outputBounds=[ullr[0],ullr[3],ullr[2],ullr[1]],\n",
    "    srcNodata=0,\n",
    "    dstNodata=0,\n",
    "    format='GTiff',\n",
    "    outputType=gdal.GDT_Byte,\n",
    "    resampleAlg='bilinear',\n",
    "    xRes=0.5,\n",
    "    yRes=0.5  # Use a positive value for yRes\n",
    "    ) as im:\n",
    "        im.FlushCache()\n",
    "\n",
    "rewrite = True\n",
    "flist = [\n",
    "    '/Users/chanagan/Downloads/XizangWVProcessing/MaxarOrthos/2024_01_16_WV2_MaxarOrthoPan_050279742010_0/050279742010_01_P001_PAN/24JAN16050712-P3DS_R1C1-050279742010_01_P001.TIF',\n",
    "    '/Users/chanagan/Downloads/XizangWVProcessing/MaxarOrthos/2024_01_16_WV2_MaxarOrthoPan_050279742010_0/050279742010_01_P001_PAN/24JAN16050712-P3DS_R1C2-050279742010_01_P001.TIF',\n",
    "    '/Users/chanagan/Downloads/XizangWVProcessing/MaxarOrthos/2024_01_16_WV2_MaxarOrthoPan_050279742010_0/050279742010_01_P001_PAN/24JAN16050712-P3DS_R1C3-050279742010_01_P001.TIF',\n",
    "    '/Users/chanagan/Downloads/XizangWVProcessing/MaxarOrthos/2024_01_16_WV2_MaxarOrthoPan_050279742010_0/050279742010_01_P001_PAN/24JAN16050712-P3DS_R2C1-050279742010_01_P001.TIF',\n",
    "    '/Users/chanagan/Downloads/XizangWVProcessing/MaxarOrthos/2024_01_16_WV2_MaxarOrthoPan_050279742010_0/050279742010_01_P001_PAN/24JAN16050712-P3DS_R2C2-050279742010_01_P001.TIF',\n",
    "    '/Users/chanagan/Downloads/XizangWVProcessing/MaxarOrthos/2024_01_16_WV2_MaxarOrthoPan_050279742010_0/050279742010_01_P001_PAN/24JAN16050712-P3DS_R2C3-050279742010_01_P001.TIF',\n",
    "    '/Users/chanagan/Downloads/XizangWVProcessing/MaxarOrthos/2024_01_16_WV2_MaxarOrthoPan_050279742010_0/050279742010_01_P001_PAN/24JAN16050712-P3DS_R3C1-050279742010_01_P001.TIF',\n",
    "    '/Users/chanagan/Downloads/XizangWVProcessing/MaxarOrthos/2024_01_16_WV2_MaxarOrthoPan_050279742010_0/050279742010_01_P001_PAN/24JAN16050712-P3DS_R3C2-050279742010_01_P001.TIF',\n",
    "    '/Users/chanagan/Downloads/XizangWVProcessing/MaxarOrthos/2024_01_16_WV2_MaxarOrthoPan_050279742010_0/050279742010_01_P001_PAN/24JAN16050712-P3DS_R3C3-050279742010_01_P001.TIF',\n",
    "    '/Users/chanagan/Downloads/XizangWVProcessing/MaxarOrthos/2024_01_16_WV2_MaxarOrthoPan_050279742010_0/050279742010_01_P001_PAN/24JAN16050712-P3DS_R4C1-050279742010_01_P001.TIF',\n",
    "    '/Users/chanagan/Downloads/XizangWVProcessing/MaxarOrthos/2024_01_16_WV2_MaxarOrthoPan_050279742010_0/050279742010_01_P001_PAN/24JAN16050712-P3DS_R4C2-050279742010_01_P001.TIF',\n",
    "    '/Users/chanagan/Downloads/XizangWVProcessing/MaxarOrthos/2024_01_16_WV2_MaxarOrthoPan_050279742010_0/050279742010_01_P001_PAN/24JAN16050712-P3DS_R4C3-050279742010_01_P001.TIF'\n",
    "    ]\n",
    "\n",
    "if rewrite == True:\n",
    "    with gdal.Warp(\n",
    "    f'/Users/chanagan/Downloads/XizangWVProcessing/MaxarOrthos/24JAN16050712_mosaic.tif',\n",
    "    flist,\n",
    "    srcSRS='EPSG:32645',\n",
    "    dstSRS='EPSG:32645',\n",
    "    outputBounds=[ullr[0],ullr[3],ullr[2],ullr[1]],\n",
    "    srcNodata=0,\n",
    "    dstNodata=0,\n",
    "    format='GTiff',\n",
    "    outputType=gdal.GDT_Byte,\n",
    "    resampleAlg='bilinear',\n",
    "    xRes=0.5,\n",
    "    yRes=0.5  # Use a positive value for yRes\n",
    "    ) as im:\n",
    "        im.FlushCache()"
   ]
  },
  {
   "cell_type": "code",
   "execution_count": null,
   "metadata": {},
   "outputs": [],
   "source": [
    "image_align --alignment-transform rigid 24JAN16050712_mosaic.tif 25JAN11045451_mosaic.tif -o 25JAN11045451_mosaic_aspAligned_topre.tif\n",
    "nohup taskset -c 0-64 mm3d Mm2dPosSism 24JAN16050712_mosaic.tif 25JAN11045451_mosaic_aspAligned_topre.tif CorMin=0.1 Dequant=false DirMEC='MEC/' &"
   ]
  },
  {
   "cell_type": "code",
   "execution_count": 9,
   "metadata": {},
   "outputs": [
    {
     "name": "stdout",
     "output_type": "stream",
     "text": [
      "Writing to /Users/chanagan/Downloads/XizangWVProcessing/MaxarOrthos/mm24JAN16050712_mosaic.tif\n"
     ]
    }
   ],
   "source": [
    "tt.micmacExport('/Users/chanagan/Downloads/XizangWVProcessing/MaxarOrthos/24JAN16050712_mosaic.tif',\n",
    "                '/Users/chanagan/Downloads/XizangWVProcessing/MaxarOrthos/mm24JAN16050712_mosaic.tif',\n",
    "                outres=[0.5,-0.5],a_ullr=[ullr[0],ullr[3],ullr[2],ullr[1]])"
   ]
  },
  {
   "cell_type": "code",
   "execution_count": 10,
   "metadata": {},
   "outputs": [
    {
     "name": "stdout",
     "output_type": "stream",
     "text": [
      "Writing to /Users/chanagan/Downloads/XizangWVProcessing/MaxarOrthos/mm25JAN11045451_mosaic_aspAligned_topre.tif\n"
     ]
    }
   ],
   "source": [
    "tt.micmacExport('/Users/chanagan/Downloads/XizangWVProcessing/MaxarOrthos/25JAN11045451_mosaic_aspAligned_topre.tif',\n",
    "                '/Users/chanagan/Downloads/XizangWVProcessing/MaxarOrthos/mm25JAN11045451_mosaic_aspAligned_topre.tif',\n",
    "                outres=[0.5,-0.5],a_ullr=[ullr[0],ullr[3],ullr[2],ullr[1]])"
   ]
  },
  {
   "cell_type": "code",
   "execution_count": null,
   "metadata": {},
   "outputs": [],
   "source": []
  }
 ],
 "metadata": {
  "kernelspec": {
   "display_name": "pygmt",
   "language": "python",
   "name": "python3"
  },
  "language_info": {
   "codemirror_mode": {
    "name": "ipython",
    "version": 3
   },
   "file_extension": ".py",
   "mimetype": "text/x-python",
   "name": "python",
   "nbconvert_exporter": "python",
   "pygments_lexer": "ipython3",
   "version": "3.12.6"
  }
 },
 "nbformat": 4,
 "nbformat_minor": 2
}
