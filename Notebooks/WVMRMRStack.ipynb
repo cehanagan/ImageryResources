{
 "cells": [
  {
   "cell_type": "code",
   "execution_count": 1,
   "metadata": {},
   "outputs": [],
   "source": [
    "from osgeo import gdal\n",
    "import numpy as np\n",
    "import pandas as pd\n",
    "import os\n",
    "#import pandas as pd\n",
    "import matplotlib.pyplot as plt\n",
    "import sys\n",
    "sys.path.append('../Functions')\n",
    "import TiffTools as tt\n",
    "\n",
    "%load_ext autoreload\n",
    "%autoreload 2"
   ]
  },
  {
   "cell_type": "code",
   "execution_count": 22,
   "metadata": {},
   "outputs": [
    {
     "data": {
      "text/plain": [
       "(['/Users/chanagan/Desktop/DGStereo/MRMR/metashape/orthos/21MAY16215957-P1BS_R11C1-016330437010_01_P001.tif',\n",
       "  '/Users/chanagan/Desktop/DGStereo/MRMR/metashape/orthos/21MAY16215957-P1BS_R12C1-016330437010_01_P001.tif'],\n",
       " 2,\n",
       " ['/Users/chanagan/Desktop/DGStereo/MRMR/metashape/orthos/19SEP19190954-P1BS-016330438010_01_P001.tif',\n",
       "  '/Users/chanagan/Desktop/DGStereo/MRMR/metashape/orthos/19SEP19191105-P1BS-016330438010_01_P001.tif/Users/chanagan/Desktop/DGStereo/MRMR/metashape/orthos/21MAY16215957-P1BS-016330437010_01_P001.tif/Users/chanagan/Desktop/DGStereo/MRMR/metashape/orthos/21MAY16220054-P1BS-016330437010_01_P001.tif'])"
      ]
     },
     "execution_count": 22,
     "metadata": {},
     "output_type": "execute_result"
    }
   ],
   "source": [
    "inlist, i, outlist#outlist[i]"
   ]
  },
  {
   "cell_type": "code",
   "execution_count": 41,
   "metadata": {},
   "outputs": [
    {
     "name": "stderr",
     "output_type": "stream",
     "text": [
      "Warning 1: for band 1, destination nodata value has been clamped to 0, the original value being out of range.\n",
      "Warning 1: for band 1, destination nodata value has been clamped to 0, the original value being out of range.\n",
      "Warning 1: for band 1, destination nodata value has been clamped to 0, the original value being out of range.\n",
      "Warning 1: for band 1, destination nodata value has been clamped to 0, the original value being out of range.\n",
      "Warning 1: for band 1, destination nodata value has been clamped to 0, the original value being out of range.\n",
      "Warning 1: for band 1, destination nodata value has been clamped to 0, the original value being out of range.\n",
      "Warning 1: for band 1, destination nodata value has been clamped to 0, the original value being out of range.\n",
      "Warning 1: for band 1, destination nodata value has been clamped to 0, the original value being out of range.\n"
     ]
    }
   ],
   "source": [
    "# Mosaic WV orthos of same time together\n",
    "list1 = ['/Users/chanagan/Desktop/DGStereo/MRMR/metashape/orthos/19SEP19190954-P1BS_R11C1-016330438010_01_P001.tif',\n",
    "        '/Users/chanagan/Desktop/DGStereo/MRMR/metashape/orthos/19SEP19190954-P1BS_R12C1-016330438010_01_P001.tif']\n",
    "list2 = ['/Users/chanagan/Desktop/DGStereo/MRMR/metashape/orthos/19SEP19191105-P1BS_R11C1-016330438010_01_P001.tif',\n",
    "    '/Users/chanagan/Desktop/DGStereo/MRMR/metashape/orthos/19SEP19191105-P1BS_R12C1-016330438010_01_P001.tif']\n",
    "list3 = ['/Users/chanagan/Desktop/DGStereo/MRMR/metashape/orthos/21MAY16215957-P1BS_R11C1-016330437010_01_P001.tif',\n",
    "    '/Users/chanagan/Desktop/DGStereo/MRMR/metashape/orthos/21MAY16215957-P1BS_R12C1-016330437010_01_P001.tif']\n",
    "list4 = ['/Users/chanagan/Desktop/DGStereo/MRMR/metashape/orthos/21MAY16220054-P1BS_R11C1-016330437010_01_P001.tif',\n",
    "        '/Users/chanagan/Desktop/DGStereo/MRMR/metashape/orthos/21MAY16220054-P1BS_R12C1-016330437010_01_P001.tif']\n",
    "\n",
    "outlist = ['/Users/chanagan/Desktop/DGStereo/MRMR/metashape/orthos/19SEP19190954-P1BS-016330438010_01_P001.tif',\n",
    "           '/Users/chanagan/Desktop/DGStereo/MRMR/metashape/orthos/19SEP19191105-P1BS-016330438010_01_P001.tif',\n",
    "           '/Users/chanagan/Desktop/DGStereo/MRMR/metashape/orthos/21MAY16215957-P1BS-016330437010_01_P001.tif',\n",
    "           '/Users/chanagan/Desktop/DGStereo/MRMR/metashape/orthos/21MAY16220054-P1BS-016330437010_01_P001.tif',]\n",
    "\n",
    "for i,inlist in enumerate([list1,list2,list3,list4]):\n",
    "    gdal.Warp(outlist[i],inlist,xRes=0.5,yRes=-0.5,srcNodata=0,dstNodata=-999,resampleAlg='cubic')"
   ]
  },
  {
   "cell_type": "code",
   "execution_count": 43,
   "metadata": {},
   "outputs": [
    {
     "name": "stdout",
     "output_type": "stream",
     "text": [
      "Writing to /Users/chanagan/Desktop/micmac/WV_Aerial_to2023/orthos/mm09AUG04191333.tif\n",
      "Writing to /Users/chanagan/Desktop/micmac/WV_Aerial_to2023/orthos/mm13MAR11192237.tif\n",
      "Writing to /Users/chanagan/Desktop/micmac/WV_Aerial_to2023/orthos/mm19SEP19191105.tif\n",
      "Writing to /Users/chanagan/Desktop/micmac/WV_Aerial_to2023/orthos/mm21MAY16220054.tif\n",
      "Writing to /Users/chanagan/Desktop/micmac/WV_Aerial_to2023/orthos/mm23JUL28220223.tif\n"
     ]
    }
   ],
   "source": [
    "# Cut to same region \n",
    "inlist = ['/Users/chanagan/Desktop/DGStereo/MRMR/metashape/orthos/09AUG04191333-P1BS-016316637010_01_P001.tif',\n",
    "    '/Users/chanagan/Desktop/DGStereo/MRMR/metashape/orthos/13MAR11192237-P1BS-016213739010_01_P001.tif',\n",
    "    '/Users/chanagan/Desktop/DGStereo/MRMR/metashape/orthos/19SEP19191105-P1BS-016330438010_01_P001.tif',\n",
    "    '/Users/chanagan/Desktop/DGStereo/MRMR/metashape/orthos/21MAY16220054-P1BS-016330437010_01_P001.tif',\n",
    "    '/Users/chanagan/Desktop/DGStereo/MRMR/metashape/orthos/23JUL28220223-P1BS-016315553010_01_P001.tif']\n",
    "\n",
    "cutline = '/Users/chanagan/Desktop/DGStereo/MRMR/metashape/shapes/ClipRegion.shp'\n",
    "\n",
    "for file in inlist:\n",
    "    tt.micmacExport(file, outname=f'/Users/chanagan/Desktop/micmac/WV_Aerial_to2023/orthos/mm{file[-43:-30]}.tif', srs='EPSG:32610', outres=[0.5,-0.5], interp=None, a_ullr=None,cutlineDSName=cutline)\n"
   ]
  },
  {
   "cell_type": "code",
   "execution_count": 49,
   "metadata": {},
   "outputs": [],
   "source": [
    "folders = ['/Users/chanagan/Desktop/micmac/WV_Aerial_to2023/orthos/MEC1/',\n",
    "           '/Users/chanagan/Desktop/micmac/WV_Aerial_to2023/orthos/MEC2/',\n",
    "           '/Users/chanagan/Desktop/micmac/WV_Aerial_to2023/orthos/MEC3/',\n",
    "           '/Users/chanagan/Desktop/micmac/WV_Aerial_to2023/orthos/MEC4/',\n",
    "           '/Users/chanagan/Desktop/micmac/WV_Aerial_to2023/orthos/MEC5/',\n",
    "           '/Users/chanagan/Desktop/micmac/WV_Aerial_to2023/orthos/MEC6/',\n",
    "           '/Users/chanagan/Desktop/micmac/WV_Aerial_to2023/orthos/MEC7/',\n",
    "           '/Users/chanagan/Desktop/micmac/WV_Aerial_to2023/orthos/MEC8/',\n",
    "           '/Users/chanagan/Desktop/micmac/WV_Aerial_to2023/orthos/MEC9/',\n",
    "           '/Users/chanagan/Desktop/micmac/WV_Aerial_to2023/orthos/MEC10/']"
   ]
  },
  {
   "cell_type": "code",
   "execution_count": 50,
   "metadata": {},
   "outputs": [
    {
     "data": {
      "text/plain": [
       "'/Users/chanagan/Desktop/micmac/WV_Aerial_to2023/orthos/MEC5//Users/chanagan/Desktop/micmac/WV_Aerial_to2023/orthos/MEC6//Users/chanagan/Desktop/micmac/WV_Aerial_to2023/orthos/MEC7//Users/chanagan/Desktop/micmac/WV_Aerial_to2023/orthos/MEC8//Users/chanagan/Desktop/micmac/WV_Aerial_to2023/orthos/MEC9//Users/chanagan/Desktop/micmac/WV_Aerial_to2023/orthos/MEC10/NSmicmac.tif'"
      ]
     },
     "execution_count": 50,
     "metadata": {},
     "output_type": "execute_result"
    }
   ],
   "source": [
    "folder+'NSmicmac.tif'"
   ]
  },
  {
   "cell_type": "code",
   "execution_count": 51,
   "metadata": {},
   "outputs": [
    {
     "name": "stdout",
     "output_type": "stream",
     "text": [
      "Saving /Users/chanagan/Desktop/micmac/WV_Aerial_to2023/orthos/MEC1/NSmicmac.tif\n",
      "Saving /Users/chanagan/Desktop/micmac/WV_Aerial_to2023/orthos/MEC1/EWmicmac.tif\n",
      "Saving /Users/chanagan/Desktop/micmac/WV_Aerial_to2023/orthos/MEC1/Correlmicmac.tif\n",
      "Working in /Users/chanagan/Desktop/micmac/WV_Aerial_to2023/orthos/MEC1/\n",
      "Saving /Users/chanagan/Desktop/micmac/WV_Aerial_to2023/orthos/MEC2/NSmicmac.tif\n",
      "Saving /Users/chanagan/Desktop/micmac/WV_Aerial_to2023/orthos/MEC2/EWmicmac.tif\n",
      "Saving /Users/chanagan/Desktop/micmac/WV_Aerial_to2023/orthos/MEC2/Correlmicmac.tif\n",
      "Working in /Users/chanagan/Desktop/micmac/WV_Aerial_to2023/orthos/MEC2/\n",
      "Saving /Users/chanagan/Desktop/micmac/WV_Aerial_to2023/orthos/MEC3/NSmicmac.tif\n",
      "Saving /Users/chanagan/Desktop/micmac/WV_Aerial_to2023/orthos/MEC3/EWmicmac.tif\n",
      "Saving /Users/chanagan/Desktop/micmac/WV_Aerial_to2023/orthos/MEC3/Correlmicmac.tif\n",
      "Working in /Users/chanagan/Desktop/micmac/WV_Aerial_to2023/orthos/MEC3/\n",
      "Saving /Users/chanagan/Desktop/micmac/WV_Aerial_to2023/orthos/MEC4/NSmicmac.tif\n",
      "Saving /Users/chanagan/Desktop/micmac/WV_Aerial_to2023/orthos/MEC4/EWmicmac.tif\n",
      "Saving /Users/chanagan/Desktop/micmac/WV_Aerial_to2023/orthos/MEC4/Correlmicmac.tif\n",
      "Working in /Users/chanagan/Desktop/micmac/WV_Aerial_to2023/orthos/MEC4/\n",
      "Saving /Users/chanagan/Desktop/micmac/WV_Aerial_to2023/orthos/MEC5/NSmicmac.tif\n",
      "Saving /Users/chanagan/Desktop/micmac/WV_Aerial_to2023/orthos/MEC5/EWmicmac.tif\n",
      "Saving /Users/chanagan/Desktop/micmac/WV_Aerial_to2023/orthos/MEC5/Correlmicmac.tif\n",
      "Working in /Users/chanagan/Desktop/micmac/WV_Aerial_to2023/orthos/MEC5/\n",
      "Saving /Users/chanagan/Desktop/micmac/WV_Aerial_to2023/orthos/MEC6/NSmicmac.tif\n",
      "Saving /Users/chanagan/Desktop/micmac/WV_Aerial_to2023/orthos/MEC6/EWmicmac.tif\n",
      "Saving /Users/chanagan/Desktop/micmac/WV_Aerial_to2023/orthos/MEC6/Correlmicmac.tif\n",
      "Working in /Users/chanagan/Desktop/micmac/WV_Aerial_to2023/orthos/MEC6/\n",
      "Saving /Users/chanagan/Desktop/micmac/WV_Aerial_to2023/orthos/MEC7/NSmicmac.tif\n",
      "Saving /Users/chanagan/Desktop/micmac/WV_Aerial_to2023/orthos/MEC7/EWmicmac.tif\n",
      "Saving /Users/chanagan/Desktop/micmac/WV_Aerial_to2023/orthos/MEC7/Correlmicmac.tif\n",
      "Working in /Users/chanagan/Desktop/micmac/WV_Aerial_to2023/orthos/MEC7/\n",
      "Saving /Users/chanagan/Desktop/micmac/WV_Aerial_to2023/orthos/MEC8/NSmicmac.tif\n",
      "Saving /Users/chanagan/Desktop/micmac/WV_Aerial_to2023/orthos/MEC8/EWmicmac.tif\n",
      "Saving /Users/chanagan/Desktop/micmac/WV_Aerial_to2023/orthos/MEC8/Correlmicmac.tif\n",
      "Working in /Users/chanagan/Desktop/micmac/WV_Aerial_to2023/orthos/MEC8/\n",
      "Saving /Users/chanagan/Desktop/micmac/WV_Aerial_to2023/orthos/MEC9/NSmicmac.tif\n",
      "Saving /Users/chanagan/Desktop/micmac/WV_Aerial_to2023/orthos/MEC9/EWmicmac.tif\n",
      "Saving /Users/chanagan/Desktop/micmac/WV_Aerial_to2023/orthos/MEC9/Correlmicmac.tif\n",
      "Working in /Users/chanagan/Desktop/micmac/WV_Aerial_to2023/orthos/MEC9/\n",
      "Saving /Users/chanagan/Desktop/micmac/WV_Aerial_to2023/orthos/MEC10/NSmicmac.tif\n",
      "Saving /Users/chanagan/Desktop/micmac/WV_Aerial_to2023/orthos/MEC10/EWmicmac.tif\n",
      "Saving /Users/chanagan/Desktop/micmac/WV_Aerial_to2023/orthos/MEC10/Correlmicmac.tif\n",
      "Working in /Users/chanagan/Desktop/micmac/WV_Aerial_to2023/orthos/MEC10/\n"
     ]
    }
   ],
   "source": [
    "# Projected displacements\n",
    "azimuth = 315\n",
    "\n",
    "for folder in folders:\n",
    "    tt.micmacPostProcessing(folder=folder,\n",
    "                         prefile='/Users/chanagan/Desktop/micmac/WV_Aerial_to2023/orthos/mm09AUG04191333.tif',\n",
    "                        outprefix=folder)\n",
    "\n",
    "    #cor = gdal.Open(folder+'Correlmicmac.tif')\n",
    "    #mask = (cor.GetRasterBand(1).ReadAsArray() > 0.5)\n",
    "    ewtif = folder+'EWmicmac.tif'\n",
    "    nstif = folder+'NSmicmac.tif'\n",
    "    print('Working in',folder)\n",
    "    par, perp = tt.projectDisp(ewtif,nstif,azimuth,mask=None,partif=folder+'ParallelDisp.tif',perptif=folder+'PerpendicularDisp.tif')"
   ]
  },
  {
   "cell_type": "code",
   "execution_count": 59,
   "metadata": {},
   "outputs": [
    {
     "name": "stdout",
     "output_type": "stream",
     "text": [
      "Adding displacements from /Users/chanagan/Desktop/micmac/WV_Aerial_to2023/orthos/MEC2/\n",
      "Adding displacements from /Users/chanagan/Desktop/micmac/WV_Aerial_to2023/orthos/MEC3/\n",
      "Adding displacements from /Users/chanagan/Desktop/micmac/WV_Aerial_to2023/orthos/MEC4/\n",
      "Adding displacements from /Users/chanagan/Desktop/micmac/WV_Aerial_to2023/orthos/MEC5/\n",
      "Adding displacements from /Users/chanagan/Desktop/micmac/WV_Aerial_to2023/orthos/MEC6/\n",
      "Adding displacements from /Users/chanagan/Desktop/micmac/WV_Aerial_to2023/orthos/MEC7/\n",
      "Adding displacements from /Users/chanagan/Desktop/micmac/WV_Aerial_to2023/orthos/MEC8/\n",
      "Adding displacements from /Users/chanagan/Desktop/micmac/WV_Aerial_to2023/orthos/MEC9/\n",
      "Adding displacements from /Users/chanagan/Desktop/micmac/WV_Aerial_to2023/orthos/MEC10/\n"
     ]
    }
   ],
   "source": [
    "# Add all of the tifs together\n",
    "baseim = gdal.Open(folders[0]+'PerpendicularDisp.tif')\n",
    "parComb = baseim.GetRasterBand(1).ReadAsArray()\n",
    "nodatamask = (baseim.GetRasterBand(1).ReadAsArray() != baseim.GetRasterBand(1).GetNoDataValue())\n",
    "\n",
    "disp = np.zeros((np.shape(parComb)[0],np.shape(parComb)[1],len(folders)))\n",
    "disp[:,:,0] = parComb\n",
    "for i,folder in enumerate(folders[1:]):\n",
    "    im = gdal.Open(folder+'PerpendicularDisp.tif')\n",
    "    disp[:,:,i+1] = im.GetRasterBand(1).ReadAsArray()\n",
    "    print('Adding displacements from',folder)\n",
    "    #parComb += disp[:,:,i+1]\n",
    "\n",
    "#parComb[~nodatamask] = baseim.GetRasterBand(1).GetNoDataValue()"
   ]
  },
  {
   "cell_type": "code",
   "execution_count": 54,
   "metadata": {},
   "outputs": [
    {
     "name": "stdout",
     "output_type": "stream",
     "text": [
      "Correlations saved from /Users/chanagan/Desktop/micmac/WV_Aerial_to2023/orthos/MEC2/\n",
      "Correlations saved from /Users/chanagan/Desktop/micmac/WV_Aerial_to2023/orthos/MEC3/\n",
      "Correlations saved from /Users/chanagan/Desktop/micmac/WV_Aerial_to2023/orthos/MEC4/\n",
      "Correlations saved from /Users/chanagan/Desktop/micmac/WV_Aerial_to2023/orthos/MEC5/\n",
      "Correlations saved from /Users/chanagan/Desktop/micmac/WV_Aerial_to2023/orthos/MEC6/\n",
      "Correlations saved from /Users/chanagan/Desktop/micmac/WV_Aerial_to2023/orthos/MEC7/\n",
      "Correlations saved from /Users/chanagan/Desktop/micmac/WV_Aerial_to2023/orthos/MEC8/\n",
      "Correlations saved from /Users/chanagan/Desktop/micmac/WV_Aerial_to2023/orthos/MEC9/\n",
      "Correlations saved from /Users/chanagan/Desktop/micmac/WV_Aerial_to2023/orthos/MEC10/\n"
     ]
    }
   ],
   "source": [
    "# Add all of the correl tifs together\n",
    "baseim = gdal.Open(folders[0]+'Correlmicmac.tif')\n",
    "\n",
    "corr = np.zeros((np.shape(nodatamask)[0],np.shape(nodatamask)[1],len(folders)))\n",
    "corr[:,:,0] = baseim.GetRasterBand(1).ReadAsArray()\n",
    "for i,folder in enumerate(folders[1:]):\n",
    "    im = gdal.Open(folder+'Correlmicmac.tif')\n",
    "    corr[:,:,i+1] = im.GetRasterBand(1).ReadAsArray()\n",
    "    print('Correlations saved from',folder)\n",
    "\n",
    "corrtot = np.sum(corr,axis=2)\n",
    "corrtot[~nodatamask] = baseim.GetRasterBand(1).GetNoDataValue()"
   ]
  },
  {
   "cell_type": "code",
   "execution_count": 55,
   "metadata": {},
   "outputs": [],
   "source": [
    "t1 = '2009-08-04' # \n",
    "t2 = '2013-03-11' # \n",
    "t3 = '2019-09-19'\n",
    "t4 = '2021-05-16'\n",
    "t5 = '2023-07-28'\n",
    "# Weight by time\n",
    "dt1 = (pd.to_datetime(t2)-pd.to_datetime(t1)).days/365.25 # mm09AUG04191333.tif mm13MAR11192237.tif\n",
    "dt2 = (pd.to_datetime(t3)-pd.to_datetime(t1)).days/365.25 # mm09AUG04191333.tif mm19SEP19191105.tif\n",
    "dt3 = (pd.to_datetime(t4)-pd.to_datetime(t1)).days/365.25 # mm09AUG04191333.tif mm21MAY16220054.tif\n",
    "dt4 = (pd.to_datetime(t5)-pd.to_datetime(t1)).days/365.25 # mm09AUG04191333.tif mm23JUL28220223.tif\n",
    "dt5 = (pd.to_datetime(t3)-pd.to_datetime(t2)).days/365.25 # mm13MAR11192237.tif mm19SEP19191105.tif\n",
    "dt6 = (pd.to_datetime(t4)-pd.to_datetime(t2)).days/365.25 # mm13MAR11192237.tif mm21MAY16220054.tif\n",
    "dt7 = (pd.to_datetime(t5)-pd.to_datetime(t2)).days/365.25 # mm13MAR11192237.tif mm23JUL28220223.tif\n",
    "dt8 = (pd.to_datetime(t4)-pd.to_datetime(t3)).days/365.25 # mm19SEP19191105.tif mm21MAY16220054.tif\n",
    "dt9 = (pd.to_datetime(t5)-pd.to_datetime(t3)).days/365.25 # mm19SEP19191105.tif mm23JUL28220223.tif\n",
    "dt10 = (pd.to_datetime(t5)-pd.to_datetime(t4)).days/365.25 # mm21MAY16220054.tif mm23JUL28220223.tif\n",
    "ttot = dt1+dt2+dt3+dt4+dt5+dt6+dt7+dt8+dt9+dt10"
   ]
  },
  {
   "cell_type": "code",
   "execution_count": 60,
   "metadata": {},
   "outputs": [],
   "source": [
    "# Now, weight each displacement map by correlation score and temporal timeframe ()\n",
    "pardisp = (((disp[:,:,0]))*corr[:,:,0]/corrtot/dt1 + (disp[:,:,1])*corr[:,:,1]/corrtot/dt2 + \\\n",
    "          (disp[:,:,2])*corr[:,:,2]/corrtot/dt3 + (disp[:,:,3])*corr[:,:,3]/corrtot/dt4 + \\\n",
    "          (disp[:,:,4])*corr[:,:,4]/corrtot/dt5 + (disp[:,:,5])*corr[:,:,5]/corrtot/dt6 + \\\n",
    "            (disp[:,:,6])*corr[:,:,6]/corrtot/dt7 + (disp[:,:,7])*corr[:,:,7]/corrtot/dt8 + \\\n",
    "          (disp[:,:,8])*corr[:,:,8]/corrtot/dt9 + (disp[:,:,9])*corr[:,:,9]/corrtot/dt10)/10\n",
    "         \n",
    "\n",
    "pardisp[~nodatamask] = -9999"
   ]
  },
  {
   "cell_type": "code",
   "execution_count": 61,
   "metadata": {},
   "outputs": [
    {
     "ename": "",
     "evalue": "",
     "output_type": "error",
     "traceback": [
      "\u001b[1;31mThe Kernel crashed while executing code in the current cell or a previous cell. \n",
      "\u001b[1;31mPlease review the code in the cell(s) to identify a possible cause of the failure. \n",
      "\u001b[1;31mClick <a href='https://aka.ms/vscodeJupyterKernelCrash'>here</a> for more info. \n",
      "\u001b[1;31mView Jupyter <a href='command:jupyter.viewOutput'>log</a> for further details."
     ]
    }
   ],
   "source": [
    "tt.save_geotiff(pardisp,'/Users/chanagan/Desktop/micmac/WV_Aerial_to2023/orthos/PerpendicularDispCorr2009to2023.tif',baseim.GetGeoTransform(),baseim.GetProjection())"
   ]
  },
  {
   "cell_type": "code",
   "execution_count": 14,
   "metadata": {},
   "outputs": [
    {
     "name": "stdout",
     "output_type": "stream",
     "text": [
      "Adding displacements from /Users/chanagan/Desktop/micmac/WV_Aerial_to2023/orthos/MEC2/\n",
      "Adding displacements from /Users/chanagan/Desktop/micmac/WV_Aerial_to2023/orthos/MEC3/\n",
      "Adding displacements from /Users/chanagan/Desktop/micmac/WV_Aerial_to2023/orthos/MEC4/\n"
     ]
    }
   ],
   "source": [
    "# Add all of the tifs together\n",
    "baseim = gdal.Open(folders[0]+'NSmicmac.tif')\n",
    "NComb = baseim.GetRasterBand(1).ReadAsArray()\n",
    "nodatamask = (baseim.GetRasterBand(1).ReadAsArray() != baseim.GetRasterBand(1).GetNoDataValue())\n",
    "\n",
    "Ndisp = np.zeros((np.shape(NComb)[0],np.shape(NComb)[1],len(folders)))\n",
    "Ndisp[:,:,0] = parComb\n",
    "for i,folder in enumerate(folders[1:]):\n",
    "    im = gdal.Open(folder+'NSmicmac.tif')\n",
    "    Ndisp[:,:,i+1] = im.GetRasterBand(1).ReadAsArray()\n",
    "    print('Adding displacements from',folder)\n",
    "    #parComb += disp[:,:,i+1]\n",
    "\n",
    "#parComb[~nodatamask] = baseim.GetRasterBand(1).GetNoDataValue()"
   ]
  },
  {
   "cell_type": "code",
   "execution_count": 15,
   "metadata": {},
   "outputs": [
    {
     "name": "stderr",
     "output_type": "stream",
     "text": [
      "/var/folders/zn/w54gt7k11csfs1n4z8r3xccsyqhmjz/T/ipykernel_58320/1515873028.py:2: RuntimeWarning: invalid value encountered in divide\n",
      "  NSdisp = (((Ndisp[:,:,0]))*corr[:,:,0]/corrtot/dt + (Ndisp[:,:,1])*corr[:,:,1]/corrtot/dt + \\\n",
      "/var/folders/zn/w54gt7k11csfs1n4z8r3xccsyqhmjz/T/ipykernel_58320/1515873028.py:2: RuntimeWarning: divide by zero encountered in divide\n",
      "  NSdisp = (((Ndisp[:,:,0]))*corr[:,:,0]/corrtot/dt + (Ndisp[:,:,1])*corr[:,:,1]/corrtot/dt + \\\n",
      "/var/folders/zn/w54gt7k11csfs1n4z8r3xccsyqhmjz/T/ipykernel_58320/1515873028.py:3: RuntimeWarning: divide by zero encountered in divide\n",
      "  (Ndisp[:,:,2])*corr[:,:,2]/corrtot/dt + (Ndisp[:,:,3])*corr[:,:,3]/corrtot/dt)/4 #+ \\\n",
      "/var/folders/zn/w54gt7k11csfs1n4z8r3xccsyqhmjz/T/ipykernel_58320/1515873028.py:3: RuntimeWarning: invalid value encountered in divide\n",
      "  (Ndisp[:,:,2])*corr[:,:,2]/corrtot/dt + (Ndisp[:,:,3])*corr[:,:,3]/corrtot/dt)/4 #+ \\\n"
     ]
    }
   ],
   "source": [
    "# Now, weight each displacement map by correlation score and temporal timeframe ()\n",
    "NSdisp = (((Ndisp[:,:,0]))*corr[:,:,0]/corrtot/dt + (Ndisp[:,:,1])*corr[:,:,1]/corrtot/dt + \\\n",
    "          (Ndisp[:,:,2])*corr[:,:,2]/corrtot/dt + (Ndisp[:,:,3])*corr[:,:,3]/corrtot/dt)/4 #+ \\\n",
    "          #(disp[:,:,4]-np.median(disp[:,:,4]))*corr[:,:,4]/corrtot/dt5)/5\n",
    "\n",
    "NSdisp[~nodatamask] = -9999"
   ]
  },
  {
   "cell_type": "code",
   "execution_count": 17,
   "metadata": {},
   "outputs": [],
   "source": [
    "tt.save_geotiff(NSdisp,'/Users/chanagan/Desktop/micmac/WV_Aerial_to2023/orthos/NSDispCorr2009to2023.tif',baseim.GetGeoTransform(),baseim.GetProjection())"
   ]
  },
  {
   "cell_type": "code",
   "execution_count": null,
   "metadata": {},
   "outputs": [],
   "source": [
    "tt.save_geotiff(corrtot,'CorrelStacked.tif',baseim.GetGeoTransform(),baseim.GetProjection())"
   ]
  }
 ],
 "metadata": {
  "kernelspec": {
   "display_name": "icp",
   "language": "python",
   "name": "python3"
  },
  "language_info": {
   "codemirror_mode": {
    "name": "ipython",
    "version": 3
   },
   "file_extension": ".py",
   "mimetype": "text/x-python",
   "name": "python",
   "nbconvert_exporter": "python",
   "pygments_lexer": "ipython3",
   "version": "3.12.2"
  }
 },
 "nbformat": 4,
 "nbformat_minor": 2
}
